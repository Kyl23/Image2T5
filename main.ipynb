{
  "cells": [
    {
      "cell_type": "code",
      "execution_count": null,
      "metadata": {
        "colab": {
          "base_uri": "https://localhost:8080/"
        },
        "id": "S8LcRUgdA3WY",
        "outputId": "daa73b1e-c4a6-4040-d1f0-c262e267ce07"
      },
      "outputs": [
        {
          "output_type": "stream",
          "name": "stdout",
          "text": [
            "Drive already mounted at /content/drive; to attempt to forcibly remount, call drive.mount(\"/content/drive\", force_remount=True).\n"
          ]
        }
      ],
      "source": [
        "from google.colab import drive\n",
        "drive.mount('/content/drive')"
      ]
    },
    {
      "cell_type": "code",
      "execution_count": null,
      "metadata": {
        "colab": {
          "base_uri": "https://localhost:8080/"
        },
        "id": "nou4ou_zA32A",
        "outputId": "8fa1b9f5-5e1f-4a75-a7a2-d1cdd1ed83ea"
      },
      "outputs": [
        {
          "output_type": "stream",
          "name": "stdout",
          "text": [
            "/content/drive/.shortcut-targets-by-id/1EflCyWvHL3bCw7i4I9zIIKtYM2HaqVhi/GAI Assigment\n"
          ]
        }
      ],
      "source": [
        "%cd /content/drive/MyDrive/GAI Assigment"
      ]
    },
    {
      "cell_type": "markdown",
      "metadata": {
        "id": "xGHejOlhxgn2"
      },
      "source": [
        "## 安裝套件\n",
        " - transformers (4.37.0) huggingface讀取模型的套件\n",
        " - datasets (2.16.1) huggingface讀取資料集的套件\n",
        " - torcheval (0.0.7) 各種評價標準"
      ]
    },
    {
      "cell_type": "code",
      "execution_count": null,
      "metadata": {
        "colab": {
          "base_uri": "https://localhost:8080/"
        },
        "id": "bANlfRj8xgn2",
        "outputId": "1293c24f-eadb-4380-a88e-410428b16a85"
      },
      "outputs": [
        {
          "output_type": "stream",
          "name": "stdout",
          "text": [
            "Requirement already satisfied: transformers in /usr/local/lib/python3.10/dist-packages (4.41.2)\n",
            "Requirement already satisfied: filelock in /usr/local/lib/python3.10/dist-packages (from transformers) (3.14.0)\n",
            "Requirement already satisfied: huggingface-hub<1.0,>=0.23.0 in /usr/local/lib/python3.10/dist-packages (from transformers) (0.23.3)\n",
            "Requirement already satisfied: numpy>=1.17 in /usr/local/lib/python3.10/dist-packages (from transformers) (1.25.2)\n",
            "Requirement already satisfied: packaging>=20.0 in /usr/local/lib/python3.10/dist-packages (from transformers) (24.1)\n",
            "Requirement already satisfied: pyyaml>=5.1 in /usr/local/lib/python3.10/dist-packages (from transformers) (6.0.1)\n",
            "Requirement already satisfied: regex!=2019.12.17 in /usr/local/lib/python3.10/dist-packages (from transformers) (2024.5.15)\n",
            "Requirement already satisfied: requests in /usr/local/lib/python3.10/dist-packages (from transformers) (2.32.3)\n",
            "Requirement already satisfied: tokenizers<0.20,>=0.19 in /usr/local/lib/python3.10/dist-packages (from transformers) (0.19.1)\n",
            "Requirement already satisfied: safetensors>=0.4.1 in /usr/local/lib/python3.10/dist-packages (from transformers) (0.4.3)\n",
            "Requirement already satisfied: tqdm>=4.27 in /usr/local/lib/python3.10/dist-packages (from transformers) (4.66.4)\n",
            "Requirement already satisfied: fsspec>=2023.5.0 in /usr/local/lib/python3.10/dist-packages (from huggingface-hub<1.0,>=0.23.0->transformers) (2023.6.0)\n",
            "Requirement already satisfied: typing-extensions>=3.7.4.3 in /usr/local/lib/python3.10/dist-packages (from huggingface-hub<1.0,>=0.23.0->transformers) (4.12.2)\n",
            "Requirement already satisfied: charset-normalizer<4,>=2 in /usr/local/lib/python3.10/dist-packages (from requests->transformers) (3.3.2)\n",
            "Requirement already satisfied: idna<4,>=2.5 in /usr/local/lib/python3.10/dist-packages (from requests->transformers) (3.7)\n",
            "Requirement already satisfied: urllib3<3,>=1.21.1 in /usr/local/lib/python3.10/dist-packages (from requests->transformers) (2.0.7)\n",
            "Requirement already satisfied: certifi>=2017.4.17 in /usr/local/lib/python3.10/dist-packages (from requests->transformers) (2024.6.2)\n",
            "Requirement already satisfied: datasets in /usr/local/lib/python3.10/dist-packages (2.19.2)\n",
            "Requirement already satisfied: filelock in /usr/local/lib/python3.10/dist-packages (from datasets) (3.14.0)\n",
            "Requirement already satisfied: numpy>=1.17 in /usr/local/lib/python3.10/dist-packages (from datasets) (1.25.2)\n",
            "Requirement already satisfied: pyarrow>=12.0.0 in /usr/local/lib/python3.10/dist-packages (from datasets) (14.0.2)\n",
            "Requirement already satisfied: pyarrow-hotfix in /usr/local/lib/python3.10/dist-packages (from datasets) (0.6)\n",
            "Requirement already satisfied: dill<0.3.9,>=0.3.0 in /usr/local/lib/python3.10/dist-packages (from datasets) (0.3.8)\n",
            "Requirement already satisfied: pandas in /usr/local/lib/python3.10/dist-packages (from datasets) (2.0.3)\n",
            "Requirement already satisfied: requests>=2.32.1 in /usr/local/lib/python3.10/dist-packages (from datasets) (2.32.3)\n",
            "Requirement already satisfied: tqdm>=4.62.1 in /usr/local/lib/python3.10/dist-packages (from datasets) (4.66.4)\n",
            "Requirement already satisfied: xxhash in /usr/local/lib/python3.10/dist-packages (from datasets) (3.4.1)\n",
            "Requirement already satisfied: multiprocess in /usr/local/lib/python3.10/dist-packages (from datasets) (0.70.16)\n",
            "Requirement already satisfied: fsspec[http]<=2024.3.1,>=2023.1.0 in /usr/local/lib/python3.10/dist-packages (from datasets) (2023.6.0)\n",
            "Requirement already satisfied: aiohttp in /usr/local/lib/python3.10/dist-packages (from datasets) (3.9.5)\n",
            "Requirement already satisfied: huggingface-hub>=0.21.2 in /usr/local/lib/python3.10/dist-packages (from datasets) (0.23.3)\n",
            "Requirement already satisfied: packaging in /usr/local/lib/python3.10/dist-packages (from datasets) (24.1)\n",
            "Requirement already satisfied: pyyaml>=5.1 in /usr/local/lib/python3.10/dist-packages (from datasets) (6.0.1)\n",
            "Requirement already satisfied: aiosignal>=1.1.2 in /usr/local/lib/python3.10/dist-packages (from aiohttp->datasets) (1.3.1)\n",
            "Requirement already satisfied: attrs>=17.3.0 in /usr/local/lib/python3.10/dist-packages (from aiohttp->datasets) (23.2.0)\n",
            "Requirement already satisfied: frozenlist>=1.1.1 in /usr/local/lib/python3.10/dist-packages (from aiohttp->datasets) (1.4.1)\n",
            "Requirement already satisfied: multidict<7.0,>=4.5 in /usr/local/lib/python3.10/dist-packages (from aiohttp->datasets) (6.0.5)\n",
            "Requirement already satisfied: yarl<2.0,>=1.0 in /usr/local/lib/python3.10/dist-packages (from aiohttp->datasets) (1.9.4)\n",
            "Requirement already satisfied: async-timeout<5.0,>=4.0 in /usr/local/lib/python3.10/dist-packages (from aiohttp->datasets) (4.0.3)\n",
            "Requirement already satisfied: typing-extensions>=3.7.4.3 in /usr/local/lib/python3.10/dist-packages (from huggingface-hub>=0.21.2->datasets) (4.12.2)\n",
            "Requirement already satisfied: charset-normalizer<4,>=2 in /usr/local/lib/python3.10/dist-packages (from requests>=2.32.1->datasets) (3.3.2)\n",
            "Requirement already satisfied: idna<4,>=2.5 in /usr/local/lib/python3.10/dist-packages (from requests>=2.32.1->datasets) (3.7)\n",
            "Requirement already satisfied: urllib3<3,>=1.21.1 in /usr/local/lib/python3.10/dist-packages (from requests>=2.32.1->datasets) (2.0.7)\n",
            "Requirement already satisfied: certifi>=2017.4.17 in /usr/local/lib/python3.10/dist-packages (from requests>=2.32.1->datasets) (2024.6.2)\n",
            "Requirement already satisfied: python-dateutil>=2.8.2 in /usr/local/lib/python3.10/dist-packages (from pandas->datasets) (2.8.2)\n",
            "Requirement already satisfied: pytz>=2020.1 in /usr/local/lib/python3.10/dist-packages (from pandas->datasets) (2023.4)\n",
            "Requirement already satisfied: tzdata>=2022.1 in /usr/local/lib/python3.10/dist-packages (from pandas->datasets) (2024.1)\n",
            "Requirement already satisfied: six>=1.5 in /usr/local/lib/python3.10/dist-packages (from python-dateutil>=2.8.2->pandas->datasets) (1.16.0)\n",
            "Collecting torcheval\n",
            "  Using cached torcheval-0.0.7-py3-none-any.whl (179 kB)\n",
            "Requirement already satisfied: typing-extensions in /usr/local/lib/python3.10/dist-packages (from torcheval) (4.12.2)\n",
            "Installing collected packages: torcheval\n",
            "Successfully installed torcheval-0.0.7\n",
            "Collecting pytorch-ignite\n",
            "  Using cached pytorch_ignite-0.5.0.post2-py3-none-any.whl (296 kB)\n",
            "Requirement already satisfied: torch<3,>=1.3 in /usr/local/lib/python3.10/dist-packages (from pytorch-ignite) (2.3.0+cu121)\n",
            "Requirement already satisfied: packaging in /usr/local/lib/python3.10/dist-packages (from pytorch-ignite) (24.1)\n",
            "Requirement already satisfied: filelock in /usr/local/lib/python3.10/dist-packages (from torch<3,>=1.3->pytorch-ignite) (3.14.0)\n",
            "Requirement already satisfied: typing-extensions>=4.8.0 in /usr/local/lib/python3.10/dist-packages (from torch<3,>=1.3->pytorch-ignite) (4.12.2)\n",
            "Requirement already satisfied: sympy in /usr/local/lib/python3.10/dist-packages (from torch<3,>=1.3->pytorch-ignite) (1.12.1)\n",
            "Requirement already satisfied: networkx in /usr/local/lib/python3.10/dist-packages (from torch<3,>=1.3->pytorch-ignite) (3.3)\n",
            "Requirement already satisfied: jinja2 in /usr/local/lib/python3.10/dist-packages (from torch<3,>=1.3->pytorch-ignite) (3.1.4)\n",
            "Requirement already satisfied: fsspec in /usr/local/lib/python3.10/dist-packages (from torch<3,>=1.3->pytorch-ignite) (2023.6.0)\n",
            "Collecting nvidia-cuda-nvrtc-cu12==12.1.105 (from torch<3,>=1.3->pytorch-ignite)\n",
            "  Using cached nvidia_cuda_nvrtc_cu12-12.1.105-py3-none-manylinux1_x86_64.whl (23.7 MB)\n",
            "Collecting nvidia-cuda-runtime-cu12==12.1.105 (from torch<3,>=1.3->pytorch-ignite)\n",
            "  Using cached nvidia_cuda_runtime_cu12-12.1.105-py3-none-manylinux1_x86_64.whl (823 kB)\n",
            "Collecting nvidia-cuda-cupti-cu12==12.1.105 (from torch<3,>=1.3->pytorch-ignite)\n",
            "  Using cached nvidia_cuda_cupti_cu12-12.1.105-py3-none-manylinux1_x86_64.whl (14.1 MB)\n",
            "Collecting nvidia-cudnn-cu12==8.9.2.26 (from torch<3,>=1.3->pytorch-ignite)\n",
            "  Using cached nvidia_cudnn_cu12-8.9.2.26-py3-none-manylinux1_x86_64.whl (731.7 MB)\n",
            "Collecting nvidia-cublas-cu12==12.1.3.1 (from torch<3,>=1.3->pytorch-ignite)\n",
            "  Using cached nvidia_cublas_cu12-12.1.3.1-py3-none-manylinux1_x86_64.whl (410.6 MB)\n",
            "Collecting nvidia-cufft-cu12==11.0.2.54 (from torch<3,>=1.3->pytorch-ignite)\n",
            "  Using cached nvidia_cufft_cu12-11.0.2.54-py3-none-manylinux1_x86_64.whl (121.6 MB)\n",
            "Collecting nvidia-curand-cu12==10.3.2.106 (from torch<3,>=1.3->pytorch-ignite)\n",
            "  Using cached nvidia_curand_cu12-10.3.2.106-py3-none-manylinux1_x86_64.whl (56.5 MB)\n",
            "Collecting nvidia-cusolver-cu12==11.4.5.107 (from torch<3,>=1.3->pytorch-ignite)\n",
            "  Using cached nvidia_cusolver_cu12-11.4.5.107-py3-none-manylinux1_x86_64.whl (124.2 MB)\n",
            "Collecting nvidia-cusparse-cu12==12.1.0.106 (from torch<3,>=1.3->pytorch-ignite)\n",
            "  Using cached nvidia_cusparse_cu12-12.1.0.106-py3-none-manylinux1_x86_64.whl (196.0 MB)\n",
            "Collecting nvidia-nccl-cu12==2.20.5 (from torch<3,>=1.3->pytorch-ignite)\n",
            "  Using cached nvidia_nccl_cu12-2.20.5-py3-none-manylinux2014_x86_64.whl (176.2 MB)\n",
            "Collecting nvidia-nvtx-cu12==12.1.105 (from torch<3,>=1.3->pytorch-ignite)\n",
            "  Using cached nvidia_nvtx_cu12-12.1.105-py3-none-manylinux1_x86_64.whl (99 kB)\n",
            "Requirement already satisfied: triton==2.3.0 in /usr/local/lib/python3.10/dist-packages (from torch<3,>=1.3->pytorch-ignite) (2.3.0)\n",
            "Collecting nvidia-nvjitlink-cu12 (from nvidia-cusolver-cu12==11.4.5.107->torch<3,>=1.3->pytorch-ignite)\n",
            "  Using cached nvidia_nvjitlink_cu12-12.5.40-py3-none-manylinux2014_x86_64.whl (21.3 MB)\n",
            "Requirement already satisfied: MarkupSafe>=2.0 in /usr/local/lib/python3.10/dist-packages (from jinja2->torch<3,>=1.3->pytorch-ignite) (2.1.5)\n",
            "Requirement already satisfied: mpmath<1.4.0,>=1.1.0 in /usr/local/lib/python3.10/dist-packages (from sympy->torch<3,>=1.3->pytorch-ignite) (1.3.0)\n",
            "Installing collected packages: nvidia-nvtx-cu12, nvidia-nvjitlink-cu12, nvidia-nccl-cu12, nvidia-curand-cu12, nvidia-cufft-cu12, nvidia-cuda-runtime-cu12, nvidia-cuda-nvrtc-cu12, nvidia-cuda-cupti-cu12, nvidia-cublas-cu12, nvidia-cusparse-cu12, nvidia-cudnn-cu12, nvidia-cusolver-cu12, pytorch-ignite\n",
            "Successfully installed nvidia-cublas-cu12-12.1.3.1 nvidia-cuda-cupti-cu12-12.1.105 nvidia-cuda-nvrtc-cu12-12.1.105 nvidia-cuda-runtime-cu12-12.1.105 nvidia-cudnn-cu12-8.9.2.26 nvidia-cufft-cu12-11.0.2.54 nvidia-curand-cu12-10.3.2.106 nvidia-cusolver-cu12-11.4.5.107 nvidia-cusparse-cu12-12.1.0.106 nvidia-nccl-cu12-2.20.5 nvidia-nvjitlink-cu12-12.5.40 nvidia-nvtx-cu12-12.1.105 pytorch-ignite-0.5.0.post2\n"
          ]
        }
      ],
      "source": [
        "! pip install transformers\n",
        "! pip install datasets\n",
        "! pip install torcheval\n",
        "! pip install pytorch-ignite"
      ]
    },
    {
      "cell_type": "code",
      "source": [
        "!pip freeze > requirements.txt"
      ],
      "metadata": {
        "id": "PPrYh8PAUPpS"
      },
      "execution_count": null,
      "outputs": []
    },
    {
      "cell_type": "markdown",
      "source": [
        "# lr = 1e-3"
      ],
      "metadata": {
        "id": "HsqEYaICgFJe"
      }
    },
    {
      "cell_type": "markdown",
      "source": [
        "## middle Dim = 50"
      ],
      "metadata": {
        "id": "klX9wn4UYJp9"
      }
    },
    {
      "cell_type": "code",
      "execution_count": null,
      "metadata": {
        "id": "e1r7Utu6Z2Uq"
      },
      "outputs": [],
      "source": [
        "import transformers as T\n",
        "from datasets import load_dataset\n",
        "import torch\n",
        "from torch.utils.data import Dataset, DataLoader\n",
        "from torch.optim import AdamW\n",
        "from tqdm import tqdm\n",
        "# from ignite.metrics import Rouge\n",
        "import re\n",
        "device = \"cuda\" if torch.cuda.is_available() else \"cpu\""
      ]
    },
    {
      "cell_type": "code",
      "execution_count": null,
      "metadata": {
        "id": "nF3E4WBrZ2Ur"
      },
      "outputs": [],
      "source": [
        "import torch\n",
        "import torch.nn as nn\n",
        "\n",
        "class CNNNet(nn.Module):\n",
        "    def __init__(self, output_dim=1000):\n",
        "        super(CNNNet, self).__init__()\n",
        "        self.cnn = nn.Sequential(\n",
        "            nn.Conv2d(3, 64, 9, 2, 4),\n",
        "            nn.ReLU(),\n",
        "            nn.MaxPool2d(4, 4),\n",
        "            nn.Conv2d(64, 128, 5, 3, 0),\n",
        "            nn.ReLU(),\n",
        "            nn.MaxPool2d(8, 8),\n",
        "        )\n",
        "        self.linear = nn.Linear(128, output_dim)\n",
        "        self.relu = nn.ReLU()\n",
        "\n",
        "    def forward(self, x):\n",
        "        x = self.cnn(x)\n",
        "        x = x.view(len(x), -1)\n",
        "\n",
        "        x = self.linear(x)\n",
        "        return torch.clip(self.relu(x), 0, 32099)"
      ]
    },
    {
      "cell_type": "code",
      "execution_count": null,
      "metadata": {
        "colab": {
          "base_uri": "https://localhost:8080/"
        },
        "id": "s7BIA0ISZ2Ur",
        "outputId": "7039f5d1-1214-41f2-807c-8b44354674ce"
      },
      "outputs": [
        {
          "output_type": "stream",
          "name": "stderr",
          "text": [
            "You are using the default legacy behaviour of the <class 'transformers.models.t5.tokenization_t5.T5Tokenizer'>. This is expected, and simply means that the `legacy` (previous) behavior will be used so nothing changes for you. If you want to use the new behaviour, set `legacy=False`. This should only be set if you understand what it means, and thoroughly read the reason why this was added as explained in https://github.com/huggingface/transformers/pull/24565\n",
            "Special tokens have been added in the vocabulary, make sure the associated word embeddings are fine-tuned or trained.\n"
          ]
        }
      ],
      "source": [
        "from transformers import T5Tokenizer, T5ForConditionalGeneration\n",
        "\n",
        "class ImageToT5(nn.Module):\n",
        "    def __init__(self, t5_model_name='t5-small', t5_d_model=50):\n",
        "        super(ImageToT5, self).__init__()\n",
        "        self.resnet = CNNNet(output_dim=t5_d_model)\n",
        "        self.t5 = T5ForConditionalGeneration.from_pretrained(t5_model_name, cache_dir=\"./cache/\")\n",
        "\n",
        "    def generate(self, images, max_length, return_features=False):\n",
        "        # 提取图像特征\n",
        "        image_features = self.resnet(images)\n",
        "\n",
        "        # 使用T5进行生成任务\n",
        "        outputs = self.t5.generate(input_ids=image_features.long(), max_length=max_length)\n",
        "\n",
        "        if return_features:\n",
        "            return image_features, outputs\n",
        "        else:\n",
        "            return outputs\n",
        "\n",
        "    def forward(self, images, labels=None):\n",
        "        # 提取图像特征\n",
        "        image_features = self.resnet(images)\n",
        "\n",
        "        # 使用T5进行生成任务\n",
        "        outputs = self.t5(input_ids=image_features.long(), labels=labels)\n",
        "        return outputs\n",
        "\n",
        "# 初始化模型\n",
        "image_to_t5_model = ImageToT5(t5_model_name='google/flan-t5-base', t5_d_model=100).to(device)\n",
        "tokenizer = T.T5Tokenizer.from_pretrained(\"google/flan-t5-base\", cache_dir=\"./cache/\")"
      ]
    },
    {
      "cell_type": "code",
      "execution_count": null,
      "metadata": {
        "id": "DMYomCLpDvfr"
      },
      "outputs": [],
      "source": [
        "import cv2 as cv\n",
        "import os\n",
        "from torch.utils.data import Dataset, DataLoader\n",
        "import pandas as pd\n",
        "import numpy as np\n"
      ]
    },
    {
      "cell_type": "code",
      "execution_count": null,
      "metadata": {
        "id": "aHXXUKHRxgn3"
      },
      "outputs": [],
      "source": [
        "class CommonGenDataset(Dataset):\n",
        "    def __init__(self, split=\"train\")-> None:\n",
        "        super().__init__()\n",
        "\n",
        "        def read_data_path(root):\n",
        "            data_path = []\n",
        "            for i in os.listdir(root):\n",
        "                file = os.path.join(root, i)\n",
        "                data_path.append(file)\n",
        "\n",
        "            return data_path\n",
        "\n",
        "        def load_img(path, path_map_text):\n",
        "          img = cv.imread(path)\n",
        "          # img = cv.cvtColor(img, cv.COLOR_BGR2GRAY)\n",
        "\n",
        "          bound = max(img.shape[:2])\n",
        "          new_img = np.zeros((bound, bound, 3))\n",
        "\n",
        "          offset_x = (bound - img.shape[0]) // 2\n",
        "          offset_y = (bound - img.shape[1]) // 2\n",
        "          new_img[offset_x : img.shape[0] + offset_x, offset_y: img.shape[1] + offset_y, :] = img\n",
        "\n",
        "\n",
        "          img = new_img\n",
        "          img = cv.resize(img, (224, 224)).transpose(2,0,1)\n",
        "\n",
        "          return img, path_map_text[\"_\".join(path.split('/')[-1].split(\"_\")[:3])]\n",
        "\n",
        "        assert split in [\"train\", \"test\"]\n",
        "        if split == \"train\":\n",
        "            self.data_path = read_data_path(\"./CXIRG_Data/train_data/images\")\n",
        "            data = pd.read_excel(\"./CXIRG_Data/train_data/reports.xlsx\")\n",
        "        else:\n",
        "            self.data_path = read_data_path(\"./CXIRG_Data/valid_data/images\")\n",
        "            data = pd.read_excel(\"./CXIRG_Data/valid_data/reports.xlsx\")\n",
        "\n",
        "        self.path_map_text = {}\n",
        "        for name, text in zip(data[\"name\"], data[\"text\"]):\n",
        "            self.path_map_text[name] = text\n",
        "\n",
        "        self.data = []\n",
        "        for path in self.data_path:\n",
        "          concepts, targets = load_img(path, self.path_map_text)\n",
        "          self.data.append({\"concepts\": concepts, \"targets\":targets, \"path\": path})\n",
        "\n",
        "    def __getitem__(self, index):\n",
        "        return self.data[index]\n",
        "\n",
        "    def __len__(self):\n",
        "        return len(self.data)"
      ]
    },
    {
      "cell_type": "code",
      "execution_count": null,
      "metadata": {
        "id": "wrOY-6eSD_3G"
      },
      "outputs": [],
      "source": [
        "def get_tensor(sample):\n",
        "    # 將模型的輸入和ground truth打包成Tensor\n",
        "    model_inputs = torch.tensor([each[\"concepts\"] for each in sample])\n",
        "    model_outputs = tokenizer.batch_encode_plus([each[\"targets\"] for each in sample], padding=True, truncation=True, return_tensors=\"pt\")\n",
        "    paths = [each[\"path\"] for each in sample]\n",
        "    return model_inputs.to(device), model_outputs[\"input_ids\"].to(device), paths"
      ]
    },
    {
      "cell_type": "code",
      "execution_count": null,
      "metadata": {
        "id": "WOvav5wqVNid"
      },
      "outputs": [],
      "source": [
        "from ignite.metrics import Rouge\n",
        "\n",
        "lr = 1e-5\n",
        "epochs = 100\n",
        "optimizer = AdamW(image_to_t5_model.parameters(), lr = 1e-3)\n",
        "train_batch_size = 8\n",
        "validation_batch_size = 8"
      ]
    },
    {
      "cell_type": "code",
      "execution_count": null,
      "metadata": {
        "id": "dWTegnXXxgn3"
      },
      "outputs": [],
      "source": [
        "common_gen_train = DataLoader(CommonGenDataset(split=\"train\"), collate_fn=get_tensor, batch_size=train_batch_size, shuffle=True)\n",
        "common_gen_validation = DataLoader(CommonGenDataset(split=\"test\"), collate_fn=get_tensor, batch_size=validation_batch_size, shuffle=False)\n",
        "rouge = Rouge(variants=[\"L\", 2], multiref=\"best\")"
      ]
    },
    {
      "cell_type": "code",
      "execution_count": null,
      "metadata": {
        "id": "AyaTmD-Hxgn4"
      },
      "outputs": [],
      "source": [
        "def evaluate(model):\n",
        "    pbar = tqdm(common_gen_validation)\n",
        "    pbar.set_description(f\"Evaluating\")\n",
        "\n",
        "    for inputs, targets, _ in pbar:\n",
        "        output = [re.split(r\"[/]\", each.replace(\"<pad>\", \"\")) for each in tokenizer.batch_decode(image_to_t5_model.generate(inputs.float(), max_length=1000))]\n",
        "        targets = [re.split(r\"[/]\", each.replace(\"<pad>\", \"\")) for each in tokenizer.batch_decode(targets)]\n",
        "        for i in range(len(output)):\n",
        "            sentences = [s.replace('.', ' .').split() for s in output[i]]\n",
        "            ground_thruths = [t.replace('.', ' .').split() for t in targets[i]]\n",
        "            for s in sentences:\n",
        "                rouge.update(([s], [ground_thruths]))\n",
        "    return rouge.compute()\n"
      ]
    },
    {
      "cell_type": "code",
      "execution_count": null,
      "metadata": {
        "id": "n_YaD794PPfq"
      },
      "outputs": [],
      "source": [
        "def report(images, print_out=False):\n",
        "  out = image_to_t5_model.generate(images.float(), max_length=1000)[0]\n",
        "  out = tokenizer.decode(out, skip_special_tokens=True)\n",
        "  if print_out:\n",
        "    print(out)\n",
        "  return out\n"
      ]
    },
    {
      "cell_type": "code",
      "execution_count": null,
      "metadata": {
        "colab": {
          "base_uri": "https://localhost:8080/"
        },
        "id": "MjPwHOCmxgn4",
        "outputId": "ae79ae5b-4e3c-4f34-b746-e6499d105f3b"
      },
      "outputs": [
        {
          "output_type": "stream",
          "name": "stderr",
          "text": [
            "Training epoch [1/100]:   0%|          | 0/12 [00:00<?, ?it/s]<ipython-input-22-8b3c2dbd574b>:3: UserWarning: Creating a tensor from a list of numpy.ndarrays is extremely slow. Please consider converting the list to a single numpy.ndarray with numpy.array() before converting to a tensor. (Triggered internally at ../torch/csrc/utils/tensor_new.cpp:274.)\n",
            "  model_inputs = torch.tensor([each[\"concepts\"] for each in sample])\n",
            "Training epoch [1/100]: 100%|██████████| 12/12 [00:11<00:00,  1.05it/s, loss=1.48]\n",
            "Training epoch [2/100]: 100%|██████████| 12/12 [00:09<00:00,  1.23it/s, loss=0.733]\n",
            "Training epoch [3/100]: 100%|██████████| 12/12 [00:09<00:00,  1.25it/s, loss=0.32]\n",
            "Training epoch [4/100]: 100%|██████████| 12/12 [00:09<00:00,  1.26it/s, loss=0.31]\n",
            "Training epoch [5/100]: 100%|██████████| 12/12 [00:09<00:00,  1.20it/s, loss=0.334]\n",
            "Training epoch [6/100]: 100%|██████████| 12/12 [00:09<00:00,  1.21it/s, loss=0.417]\n",
            "Training epoch [7/100]: 100%|██████████| 12/12 [00:09<00:00,  1.27it/s, loss=0.233]\n",
            "Training epoch [8/100]: 100%|██████████| 12/12 [00:09<00:00,  1.20it/s, loss=0.118]\n",
            "Training epoch [9/100]: 100%|██████████| 12/12 [00:09<00:00,  1.20it/s, loss=0.225]\n",
            "Training epoch [10/100]: 100%|██████████| 12/12 [00:10<00:00,  1.18it/s, loss=0.133]\n",
            "Training epoch [11/100]: 100%|██████████| 12/12 [00:09<00:00,  1.20it/s, loss=0.227]\n",
            "Training epoch [12/100]: 100%|██████████| 12/12 [00:10<00:00,  1.20it/s, loss=0.188]\n",
            "Training epoch [13/100]: 100%|██████████| 12/12 [00:09<00:00,  1.22it/s, loss=0.231]\n",
            "Training epoch [14/100]: 100%|██████████| 12/12 [00:09<00:00,  1.27it/s, loss=0.0974]\n",
            "Training epoch [15/100]: 100%|██████████| 12/12 [00:10<00:00,  1.20it/s, loss=0.0363]\n",
            "Training epoch [16/100]: 100%|██████████| 12/12 [00:10<00:00,  1.19it/s, loss=0.17]\n",
            "Training epoch [17/100]: 100%|██████████| 12/12 [00:10<00:00,  1.19it/s, loss=0.0643]\n",
            "Training epoch [18/100]: 100%|██████████| 12/12 [00:09<00:00,  1.26it/s, loss=0.0894]\n",
            "Training epoch [19/100]: 100%|██████████| 12/12 [00:10<00:00,  1.20it/s, loss=0.0777]\n",
            "Training epoch [20/100]: 100%|██████████| 12/12 [00:10<00:00,  1.19it/s, loss=0.0368]\n"
          ]
        },
        {
          "output_type": "stream",
          "name": "stdout",
          "text": [
            "answer: Chest AP view showed:_x000D_ 1.s/p sternotomy and cardiac valve replacement _x000D_ with drainage tubes._x000D_ Enlarged heart size with tortuous aorta._x000D_ 2.Mild R't pneumothorax._x000D_ R't lower lung infiltrations._x000D_ s/p R't chest tube placement._x000D_ 3.No mediastinum widening._x000D_ 4.s/p endotracheal tube and NG intubation._x000D_ s/p R't jugular Swan-Ganz catheterization._x000D_</s>\n",
            "generate: _x000D_ Chest plain film view showed:_x000D_ Impression:_x000D_ -Suspicious right upper lung patch. _x000D_ -Increased infiltrations. _x000D_ -Tortuous atherosclerotic dilated aorta. _x000D_ -Cardiomegaly. _x000D_ -DJD of spine. _x000D_ -S/P fixation in the left clavicle. _x000D_ -S/P fixation in the left clavicle. _x000D_ -S/P fixation in the left clavicle. _x000D_ -S/P fixation in the left clavicle. _x000D_ -S/P fixation in the left clavicle. _x000D_ -Normal heart size. _x000D_ -DJD of spine. _x000D_ -S/P fixation in left clavicle. _x000D_ -S/P fixation in left clavicle. _x000D_ -S/P fixation in left clavicle. _x000D_ -S/P fixation in left clavicle. _x000D_ -S/P left clavicle. _x000D_ -S/P pacemaker insertion. _x000D_ -S/P fixation in left clavicle. _x000D_ -S/P fixation in left clavicle.\n"
          ]
        },
        {
          "output_type": "stream",
          "name": "stderr",
          "text": [
            "Evaluating: 100%|██████████| 2/2 [00:08<00:00,  4.26s/it]\n"
          ]
        },
        {
          "output_type": "stream",
          "name": "stdout",
          "text": [
            "Rouge-2 score on epoch 19: {'Rouge-L-P': 0.40937999831802635, 'Rouge-L-R': 0.3975206685772696, 'Rouge-L-F': 0.3975206685772696, 'Rouge-2-P': 0.045560152213378016, 'Rouge-2-R': 0.03680078893139885, 'Rouge-2-F': 0.03680078893139885}\n"
          ]
        },
        {
          "output_type": "stream",
          "name": "stderr",
          "text": [
            "Training epoch [21/100]: 100%|██████████| 12/12 [00:09<00:00,  1.22it/s, loss=0.0263]\n",
            "Training epoch [22/100]: 100%|██████████| 12/12 [00:09<00:00,  1.26it/s, loss=0.0905]\n",
            "Training epoch [23/100]: 100%|██████████| 12/12 [00:10<00:00,  1.19it/s, loss=0.0573]\n",
            "Training epoch [24/100]: 100%|██████████| 12/12 [00:10<00:00,  1.20it/s, loss=0.0412]\n",
            "Training epoch [25/100]: 100%|██████████| 12/12 [00:10<00:00,  1.20it/s, loss=0.072]\n",
            "Training epoch [26/100]: 100%|██████████| 12/12 [00:09<00:00,  1.29it/s, loss=0.0303]\n",
            "Training epoch [27/100]: 100%|██████████| 12/12 [00:10<00:00,  1.20it/s, loss=0.0663]\n",
            "Training epoch [28/100]: 100%|██████████| 12/12 [00:10<00:00,  1.20it/s, loss=0.0118]\n",
            "Training epoch [29/100]: 100%|██████████| 12/12 [00:09<00:00,  1.26it/s, loss=0.00428]\n",
            "Training epoch [30/100]: 100%|██████████| 12/12 [00:09<00:00,  1.23it/s, loss=0.0364]\n",
            "Training epoch [31/100]: 100%|██████████| 12/12 [00:09<00:00,  1.20it/s, loss=0.0318]\n",
            "Training epoch [32/100]: 100%|██████████| 12/12 [00:10<00:00,  1.19it/s, loss=0.0809]\n",
            "Training epoch [33/100]: 100%|██████████| 12/12 [00:09<00:00,  1.25it/s, loss=0.0433]\n",
            "Training epoch [34/100]: 100%|██████████| 12/12 [00:09<00:00,  1.21it/s, loss=0.0843]\n",
            "Training epoch [35/100]: 100%|██████████| 12/12 [00:09<00:00,  1.21it/s, loss=0.0955]\n",
            "Training epoch [36/100]: 100%|██████████| 12/12 [00:10<00:00,  1.19it/s, loss=0.145]\n",
            "Training epoch [37/100]: 100%|██████████| 12/12 [00:10<00:00,  1.20it/s, loss=0.0777]\n",
            "Training epoch [38/100]: 100%|██████████| 12/12 [00:10<00:00,  1.19it/s, loss=0.106]\n",
            "Training epoch [39/100]: 100%|██████████| 12/12 [00:09<00:00,  1.21it/s, loss=0.0376]\n",
            "Training epoch [40/100]: 100%|██████████| 12/12 [00:09<00:00,  1.27it/s, loss=0.0592]\n"
          ]
        },
        {
          "output_type": "stream",
          "name": "stdout",
          "text": [
            "answer: Chest AP view shows:_x000D_ Impression:_x000D_ -Bilateral lung centrilobular infiltrations. _x000D_ Pulmonary TB cannot be excluded completely. _x000D_ -Right pleural effusion._x000D_ -The heart shadow is not enlarged._x000D_ -S/P fixation in C-spine._x000D_ -Atherosclerosis of aorta. _x000D_ -Spondylosis.</s>\n",
            "generate: Chest AP view showed:_x000D_ 1.Enlarged heart size with tortuous aorta._x000D_ 2.Bilateral lung reticulonodular infiltrations._x000D_ A R't upper lung mass. _x000D_ R't middle and lower lung faint patches._x000D_ 3.No mediastinum widening._x000D_ 4.s/p R't jugular CVP._x000D_\n"
          ]
        },
        {
          "output_type": "stream",
          "name": "stderr",
          "text": [
            "Evaluating: 100%|██████████| 2/2 [00:06<00:00,  3.06s/it]\n"
          ]
        },
        {
          "output_type": "stream",
          "name": "stdout",
          "text": [
            "Rouge-2 score on epoch 39: {'Rouge-L-P': 0.396332215705922, 'Rouge-L-R': 0.4094695519576326, 'Rouge-L-F': 0.4094695519576326, 'Rouge-2-P': 0.03809907489342972, 'Rouge-2-R': 0.044299312745024105, 'Rouge-2-F': 0.044299312745024105}\n"
          ]
        },
        {
          "output_type": "stream",
          "name": "stderr",
          "text": [
            "Training epoch [41/100]: 100%|██████████| 12/12 [00:10<00:00,  1.18it/s, loss=0.135]\n",
            "Training epoch [42/100]: 100%|██████████| 12/12 [00:09<00:00,  1.21it/s, loss=0.0973]\n",
            "Training epoch [43/100]: 100%|██████████| 12/12 [00:09<00:00,  1.25it/s, loss=0.36]\n",
            "Training epoch [44/100]: 100%|██████████| 12/12 [00:09<00:00,  1.21it/s, loss=0.0776]\n",
            "Training epoch [45/100]: 100%|██████████| 12/12 [00:09<00:00,  1.20it/s, loss=0.0915]\n",
            "Training epoch [46/100]: 100%|██████████| 12/12 [00:09<00:00,  1.23it/s, loss=0.107]\n",
            "Training epoch [47/100]: 100%|██████████| 12/12 [00:09<00:00,  1.24it/s, loss=0.27]\n",
            "Training epoch [48/100]: 100%|██████████| 12/12 [00:09<00:00,  1.21it/s, loss=0.101]\n",
            "Training epoch [49/100]: 100%|██████████| 12/12 [00:10<00:00,  1.19it/s, loss=0.114]\n",
            "Training epoch [50/100]: 100%|██████████| 12/12 [00:09<00:00,  1.28it/s, loss=0.134]\n",
            "Training epoch [51/100]: 100%|██████████| 12/12 [00:09<00:00,  1.21it/s, loss=0.0697]\n",
            "Training epoch [52/100]: 100%|██████████| 12/12 [00:10<00:00,  1.19it/s, loss=0.0687]\n",
            "Training epoch [53/100]: 100%|██████████| 12/12 [00:12<00:00,  1.03s/it, loss=0.124]\n",
            "Training epoch [54/100]: 100%|██████████| 12/12 [00:10<00:00,  1.18it/s, loss=0.0507]\n",
            "Training epoch [55/100]: 100%|██████████| 12/12 [00:09<00:00,  1.21it/s, loss=0.0489]\n",
            "Training epoch [56/100]: 100%|██████████| 12/12 [00:10<00:00,  1.19it/s, loss=0.0508]\n",
            "Training epoch [57/100]: 100%|██████████| 12/12 [00:10<00:00,  1.19it/s, loss=0.046]\n",
            "Training epoch [58/100]: 100%|██████████| 12/12 [00:09<00:00,  1.27it/s, loss=0.0428]\n",
            "Training epoch [59/100]: 100%|██████████| 12/12 [00:10<00:00,  1.18it/s, loss=0.081]\n",
            "Training epoch [60/100]: 100%|██████████| 12/12 [00:10<00:00,  1.20it/s, loss=0.0397]\n"
          ]
        },
        {
          "output_type": "stream",
          "name": "stdout",
          "text": [
            "answer: Chest plain film view showed:_x000D_ Impression:_x000D_ -Increased both lung markings. _x000D_ Blunting left CP angle. _x000D_ -The mediastinum is not widened._x000D_ -Normal heart size._x000D_ -Atherosclerotic aorta. _x000D_ -DJD of spine._x000D_ Mild scoliosis of spine._x000D_ -S/P left pleural pigtail tube. _x000D_ Subcutaneous emphysema in left chest wall.</s>\n",
            "generate: Chest film shows:_x000D_ Impression:_x000D_ -S/P LUL lobectomy, RUL and RML wedge resection. _x000D_ -Suspect left lower lung patch. _x000D_ -Bilateral pleural effusions._x000D_ -The heart shadow is not enlarged._x000D_ -Atherosclerosis of aorta._x000D_ -R/O osteoporosis._x000D_ -DJD of spine. _x000D_ -S/P Lt subclavian Port-A-cath.\n"
          ]
        },
        {
          "output_type": "stream",
          "name": "stderr",
          "text": [
            "Evaluating: 100%|██████████| 2/2 [00:08<00:00,  4.03s/it]\n"
          ]
        },
        {
          "output_type": "stream",
          "name": "stdout",
          "text": [
            "Rouge-2 score on epoch 59: {'Rouge-L-P': 0.4190812603378631, 'Rouge-L-R': 0.41547405405113097, 'Rouge-L-F': 0.41547405405113097, 'Rouge-2-P': 0.04494788427920148, 'Rouge-2-R': 0.04514965849501434, 'Rouge-2-F': 0.04514965849501434}\n"
          ]
        },
        {
          "output_type": "stream",
          "name": "stderr",
          "text": [
            "Training epoch [61/100]: 100%|██████████| 12/12 [00:09<00:00,  1.27it/s, loss=0.0242]\n",
            "Training epoch [62/100]: 100%|██████████| 12/12 [00:10<00:00,  1.13it/s, loss=0.0554]\n",
            "Training epoch [63/100]: 100%|██████████| 12/12 [00:10<00:00,  1.18it/s, loss=0.106]\n",
            "Training epoch [64/100]: 100%|██████████| 12/12 [00:10<00:00,  1.20it/s, loss=0.0474]\n",
            "Training epoch [65/100]: 100%|██████████| 12/12 [00:09<00:00,  1.25it/s, loss=0.0644]\n",
            "Training epoch [66/100]: 100%|██████████| 12/12 [00:09<00:00,  1.20it/s, loss=0.0574]\n",
            "Training epoch [67/100]: 100%|██████████| 12/12 [00:09<00:00,  1.20it/s, loss=0.241]\n",
            "Training epoch [68/100]: 100%|██████████| 12/12 [00:09<00:00,  1.24it/s, loss=0.13]\n",
            "Training epoch [69/100]: 100%|██████████| 12/12 [00:09<00:00,  1.23it/s, loss=0.0308]\n",
            "Training epoch [70/100]: 100%|██████████| 12/12 [00:10<00:00,  1.20it/s, loss=0.093]\n",
            "Training epoch [71/100]: 100%|██████████| 12/12 [00:09<00:00,  1.21it/s, loss=0.0289]\n",
            "Training epoch [72/100]: 100%|██████████| 12/12 [00:09<00:00,  1.28it/s, loss=0.0456]\n",
            "Training epoch [73/100]: 100%|██████████| 12/12 [00:09<00:00,  1.21it/s, loss=0.0541]\n",
            "Training epoch [74/100]: 100%|██████████| 12/12 [00:10<00:00,  1.19it/s, loss=0.0474]\n",
            "Training epoch [75/100]: 100%|██████████| 12/12 [00:09<00:00,  1.21it/s, loss=0.0401]\n",
            "Training epoch [76/100]: 100%|██████████| 12/12 [00:09<00:00,  1.26it/s, loss=0.0377]\n",
            "Training epoch [77/100]: 100%|██████████| 12/12 [00:09<00:00,  1.20it/s, loss=0.0324]\n",
            "Training epoch [78/100]: 100%|██████████| 12/12 [00:09<00:00,  1.20it/s, loss=0.0462]\n",
            "Training epoch [79/100]: 100%|██████████| 12/12 [00:09<00:00,  1.24it/s, loss=0.0287]\n",
            "Training epoch [80/100]: 100%|██████████| 12/12 [00:09<00:00,  1.22it/s, loss=0.0298]\n"
          ]
        },
        {
          "output_type": "stream",
          "name": "stdout",
          "text": [
            "answer: Chest PA view showed:_x000D_ Impression:_x000D_ >Increased bilateral lung markings._x000D_ >Normal heart size. _x000D_ >Atherosclerotic aorta. _x000D_ >Spondylosis._x000D_ >Stent in left axillary region._x000D_ >Calcified nodules in bilateral abdomen, consider bilateral renal stones._x000D_ >Radiopaque lesions in right upper abdomen._x000D_ >S/P NG and endotracheal tube._x000D_ S/P Rt jugular CVC insertion. _x000D_ S/P Rt jugular CVC insertion.</s>\n",
            "generate: Chest AP view showed:_x000D_ 1.Normal heart size with tortuous aorta._x000D_ 2.R't middle lung and L't lower lung _x000D_ reticulonodular infiltrations._x000D_ Mild L't pleural effusion._x000D_ 3.No mediastinum widening._x000D_ 4.s/p endotracheal tube and NG intubation._x000D_ s/p R't jugular CVP._x000D_\n"
          ]
        },
        {
          "output_type": "stream",
          "name": "stderr",
          "text": [
            "Evaluating: 100%|██████████| 2/2 [00:06<00:00,  3.18s/it]\n"
          ]
        },
        {
          "output_type": "stream",
          "name": "stdout",
          "text": [
            "Rouge-2 score on epoch 79: {'Rouge-L-P': 0.41492080992576197, 'Rouge-L-R': 0.4183470578770737, 'Rouge-L-F': 0.4183470578770737, 'Rouge-2-P': 0.047821256271357075, 'Rouge-2-R': 0.051975588570079154, 'Rouge-2-F': 0.051975588570079154}\n"
          ]
        },
        {
          "output_type": "stream",
          "name": "stderr",
          "text": [
            "Training epoch [81/100]: 100%|██████████| 12/12 [00:10<00:00,  1.20it/s, loss=0.0414]\n",
            "Training epoch [82/100]: 100%|██████████| 12/12 [00:09<00:00,  1.26it/s, loss=0.0272]\n",
            "Training epoch [83/100]: 100%|██████████| 12/12 [00:10<00:00,  1.19it/s, loss=0.0819]\n",
            "Training epoch [84/100]: 100%|██████████| 12/12 [00:10<00:00,  1.19it/s, loss=0.0292]\n",
            "Training epoch [85/100]: 100%|██████████| 12/12 [00:09<00:00,  1.21it/s, loss=0.0528]\n",
            "Training epoch [86/100]: 100%|██████████| 12/12 [00:09<00:00,  1.24it/s, loss=0.0283]\n",
            "Training epoch [87/100]: 100%|██████████| 12/12 [00:10<00:00,  1.20it/s, loss=0.024]\n",
            "Training epoch [88/100]: 100%|██████████| 12/12 [00:09<00:00,  1.21it/s, loss=0.0313]\n",
            "Training epoch [89/100]: 100%|██████████| 12/12 [00:10<00:00,  1.15it/s, loss=0.0404]\n",
            "Training epoch [90/100]: 100%|██████████| 12/12 [00:09<00:00,  1.26it/s, loss=0.0642]\n",
            "Training epoch [91/100]: 100%|██████████| 12/12 [00:10<00:00,  1.19it/s, loss=0.0257]\n",
            "Training epoch [92/100]: 100%|██████████| 12/12 [00:10<00:00,  1.18it/s, loss=0.000167]\n",
            "Training epoch [93/100]: 100%|██████████| 12/12 [00:09<00:00,  1.25it/s, loss=0.0316]\n",
            "Training epoch [94/100]: 100%|██████████| 12/12 [00:09<00:00,  1.22it/s, loss=0.0334]\n",
            "Training epoch [95/100]: 100%|██████████| 12/12 [00:10<00:00,  1.19it/s, loss=0.0935]\n",
            "Training epoch [96/100]: 100%|██████████| 12/12 [00:09<00:00,  1.20it/s, loss=0.0532]\n",
            "Training epoch [97/100]: 100%|██████████| 12/12 [00:09<00:00,  1.25it/s, loss=0.0342]\n",
            "Training epoch [98/100]: 100%|██████████| 12/12 [00:10<00:00,  1.19it/s, loss=0.244]\n",
            "Training epoch [99/100]: 100%|██████████| 12/12 [00:09<00:00,  1.20it/s, loss=0.082]\n",
            "Training epoch [100/100]: 100%|██████████| 12/12 [00:10<00:00,  1.20it/s, loss=0.0304]\n"
          ]
        },
        {
          "output_type": "stream",
          "name": "stdout",
          "text": [
            "answer: Chest AP view showed:_x000D_ 1.Normal heart size with tortuous aorta._x000D_ 2.R't middle lung and L't lower lung _x000D_ reticulonodular infiltrations._x000D_ Mild L't pleural effusion._x000D_ 3.No mediastinum widening._x000D_ 4.s/p endotracheal tube and NG intubation._x000D_ s/p R't jugular CVP._x000D_</s>\n",
            "generate: Chest plain film shows:_x000D_ Impression:_x000D_ -Increased infiltrations in both lungs._x000D_ -Blunting bilateral CP angles._x000D_ Elevated right hemidiaphragm. _x000D_ -Tortuous atherosclerotic dilated aorta._x000D_ -Cardiomegaly._x000D_ -DJD of spine. _x000D_ Mild old fracture of right ribs.\n"
          ]
        },
        {
          "output_type": "stream",
          "name": "stderr",
          "text": [
            "Evaluating: 100%|██████████| 2/2 [00:05<00:00,  2.96s/it]\n"
          ]
        },
        {
          "output_type": "stream",
          "name": "stdout",
          "text": [
            "Rouge-2 score on epoch 99: {'Rouge-L-P': 0.43975675766595557, 'Rouge-L-R': 0.44673377373984585, 'Rouge-L-F': 0.44673377373984585, 'Rouge-2-P': 0.05086771255560593, 'Rouge-2-R': 0.054384495976869715, 'Rouge-2-F': 0.054384495976869715}\n"
          ]
        }
      ],
      "source": [
        "for ep in range(epochs):\n",
        "    pbar = tqdm(common_gen_train)\n",
        "    pbar.set_description(f\"Training epoch [{ep+1}/{epochs}]\")\n",
        "    for inputs, targets, _ in pbar:\n",
        "        optimizer.zero_grad()\n",
        "\n",
        "        loss = image_to_t5_model(images=inputs.float(), labels=targets).loss\n",
        "        loss.backward()\n",
        "        optimizer.step()\n",
        "        pbar.set_postfix(loss = loss.item())\n",
        "    if (ep+1) % 20 == 0:\n",
        "      print(f\"answer: {tokenizer.decode(targets[0])}\\ngenerate: {report(inputs[:1])}\")\n",
        "      print(f\"Rouge-2 score on epoch {ep}:\", evaluate(image_to_t5_model))\n",
        "torch.save(image_to_t5_model, f'd_50.mod')"
      ]
    },
    {
      "cell_type": "code",
      "execution_count": null,
      "metadata": {
        "id": "n9-GyogFLs4y"
      },
      "outputs": [],
      "source": [
        "gen = []\n",
        "ans = []\n",
        "pth = []\n",
        "for images, texts, paths in common_gen_validation:\n",
        "  for image, text, path in zip(images, texts, paths):\n",
        "    gen.append(report(image.unsqueeze(0)))\n",
        "    ans.append(tokenizer.decode(text, skip_special_tokens=True))\n",
        "    pth.append(path)"
      ]
    },
    {
      "cell_type": "code",
      "source": [
        "df = pd.DataFrame({'path':pth, 'gen': gen, 'ans': ans})\n",
        "df.to_excel(\"out.xlsx\")"
      ],
      "metadata": {
        "id": "vEMt3tAAC1Ok"
      },
      "execution_count": null,
      "outputs": []
    },
    {
      "cell_type": "markdown",
      "source": [
        "## middle Dim = 100"
      ],
      "metadata": {
        "id": "gYS0aGhoYcw1"
      }
    },
    {
      "cell_type": "code",
      "execution_count": null,
      "metadata": {
        "id": "pxDcymXOYo8h"
      },
      "outputs": [],
      "source": [
        "import transformers as T\n",
        "from datasets import load_dataset\n",
        "import torch\n",
        "from torch.utils.data import Dataset, DataLoader\n",
        "from torch.optim import AdamW\n",
        "from tqdm import tqdm\n",
        "# from ignite.metrics import Rouge\n",
        "import re\n",
        "device = \"cuda\" if torch.cuda.is_available() else \"cpu\""
      ]
    },
    {
      "cell_type": "code",
      "execution_count": null,
      "metadata": {
        "id": "T3uHLcJgYo8i"
      },
      "outputs": [],
      "source": [
        "import torch\n",
        "import torch.nn as nn\n",
        "\n",
        "class CNNNet(nn.Module):\n",
        "    def __init__(self, output_dim=1000):\n",
        "        super(CNNNet, self).__init__()\n",
        "        self.cnn = nn.Sequential(\n",
        "            nn.Conv2d(3, 64, 9, 2, 4),\n",
        "            nn.ReLU(),\n",
        "            nn.MaxPool2d(4, 4),\n",
        "            nn.Conv2d(64, 128, 5, 3, 0),\n",
        "            nn.ReLU(),\n",
        "            nn.MaxPool2d(8, 8),\n",
        "        )\n",
        "        self.linear = nn.Linear(128, output_dim)\n",
        "        self.relu = nn.ReLU()\n",
        "\n",
        "    def forward(self, x):\n",
        "        x = self.cnn(x)\n",
        "        x = x.view(len(x), -1)\n",
        "\n",
        "        x = self.linear(x)\n",
        "        return torch.clip(self.relu(x), 0, 32099)"
      ]
    },
    {
      "cell_type": "code",
      "execution_count": null,
      "metadata": {
        "colab": {
          "base_uri": "https://localhost:8080/"
        },
        "id": "zYCdSP9vYo8i",
        "outputId": "2a51cc9e-8b1e-4849-fda0-41c89f3f3c26"
      },
      "outputs": [
        {
          "output_type": "stream",
          "name": "stderr",
          "text": [
            "Special tokens have been added in the vocabulary, make sure the associated word embeddings are fine-tuned or trained.\n"
          ]
        }
      ],
      "source": [
        "from transformers import T5Tokenizer, T5ForConditionalGeneration\n",
        "\n",
        "class ImageToT5(nn.Module):\n",
        "    def __init__(self, t5_model_name='t5-small', t5_d_model=50):\n",
        "        super(ImageToT5, self).__init__()\n",
        "        self.resnet = CNNNet(output_dim=t5_d_model)\n",
        "        self.t5 = T5ForConditionalGeneration.from_pretrained(t5_model_name, cache_dir=\"./cache/\")\n",
        "\n",
        "    def generate(self, images, max_length, return_features=False):\n",
        "        # 提取图像特征\n",
        "        image_features = self.resnet(images)\n",
        "\n",
        "        # 使用T5进行生成任务\n",
        "        outputs = self.t5.generate(input_ids=image_features.long(), max_length=max_length)\n",
        "\n",
        "        if return_features:\n",
        "            return image_features, outputs\n",
        "        else:\n",
        "            return outputs\n",
        "\n",
        "    def forward(self, images, labels=None):\n",
        "        # 提取图像特征\n",
        "        image_features = self.resnet(images)\n",
        "\n",
        "        # 使用T5进行生成任务\n",
        "        outputs = self.t5(input_ids=image_features.long(), labels=labels)\n",
        "        return outputs\n",
        "\n",
        "# 初始化模型\n",
        "image_to_t5_model = ImageToT5(t5_model_name='google/flan-t5-base', t5_d_model=100).to(device)\n",
        "tokenizer = T.T5Tokenizer.from_pretrained(\"google/flan-t5-base\", cache_dir=\"./cache/\")"
      ]
    },
    {
      "cell_type": "code",
      "execution_count": null,
      "metadata": {
        "id": "jFZ5pM3WYcw2"
      },
      "outputs": [],
      "source": [
        "import cv2 as cv\n",
        "import os\n",
        "from torch.utils.data import Dataset, DataLoader\n",
        "import pandas as pd\n",
        "import numpy as np\n"
      ]
    },
    {
      "cell_type": "code",
      "execution_count": null,
      "metadata": {
        "id": "wLxj0sY2Ycw2"
      },
      "outputs": [],
      "source": [
        "class CommonGenDataset(Dataset):\n",
        "    def __init__(self, split=\"train\")-> None:\n",
        "        super().__init__()\n",
        "\n",
        "        def read_data_path(root):\n",
        "            data_path = []\n",
        "            for i in os.listdir(root):\n",
        "                file = os.path.join(root, i)\n",
        "                data_path.append(file)\n",
        "\n",
        "            return data_path\n",
        "\n",
        "        def load_img(path, path_map_text):\n",
        "          img = cv.imread(path)\n",
        "          # img = cv.cvtColor(img, cv.COLOR_BGR2GRAY)\n",
        "\n",
        "          bound = max(img.shape[:2])\n",
        "          new_img = np.zeros((bound, bound, 3))\n",
        "\n",
        "          offset_x = (bound - img.shape[0]) // 2\n",
        "          offset_y = (bound - img.shape[1]) // 2\n",
        "          new_img[offset_x : img.shape[0] + offset_x, offset_y: img.shape[1] + offset_y, :] = img\n",
        "\n",
        "\n",
        "          img = new_img\n",
        "          img = cv.resize(img, (224, 224)).transpose(2,0,1)\n",
        "\n",
        "          return img, path_map_text[\"_\".join(path.split('/')[-1].split(\"_\")[:3])]\n",
        "\n",
        "        assert split in [\"train\", \"test\"]\n",
        "        if split == \"train\":\n",
        "            self.data_path = read_data_path(\"./CXIRG_Data/train_data/images\")\n",
        "            data = pd.read_excel(\"./CXIRG_Data/train_data/reports.xlsx\")\n",
        "        else:\n",
        "            self.data_path = read_data_path(\"./CXIRG_Data/valid_data/images\")\n",
        "            data = pd.read_excel(\"./CXIRG_Data/valid_data/reports.xlsx\")\n",
        "\n",
        "        self.path_map_text = {}\n",
        "        for name, text in zip(data[\"name\"], data[\"text\"]):\n",
        "            self.path_map_text[name] = text\n",
        "\n",
        "        self.data = []\n",
        "        for path in self.data_path:\n",
        "          concepts, targets = load_img(path, self.path_map_text)\n",
        "          self.data.append({\"concepts\": concepts, \"targets\":targets, \"path\": path})\n",
        "\n",
        "    def __getitem__(self, index):\n",
        "        return self.data[index]\n",
        "\n",
        "    def __len__(self):\n",
        "        return len(self.data)"
      ]
    },
    {
      "cell_type": "code",
      "execution_count": null,
      "metadata": {
        "id": "FYGe8MtfYcw2"
      },
      "outputs": [],
      "source": [
        "def get_tensor(sample):\n",
        "    # 將模型的輸入和ground truth打包成Tensor\n",
        "    model_inputs = torch.tensor([each[\"concepts\"] for each in sample])\n",
        "    model_outputs = tokenizer.batch_encode_plus([each[\"targets\"] for each in sample], padding=True, truncation=True, return_tensors=\"pt\")\n",
        "    paths = [each[\"path\"] for each in sample]\n",
        "    return model_inputs.to(device), model_outputs[\"input_ids\"].to(device), paths"
      ]
    },
    {
      "cell_type": "code",
      "execution_count": null,
      "metadata": {
        "id": "47XDtwYgYcw2"
      },
      "outputs": [],
      "source": [
        "from ignite.metrics import Rouge\n",
        "\n",
        "lr = 1e-5\n",
        "epochs = 100\n",
        "optimizer = AdamW(image_to_t5_model.parameters(), lr = 1e-3)\n",
        "train_batch_size = 8\n",
        "validation_batch_size = 8"
      ]
    },
    {
      "cell_type": "code",
      "execution_count": null,
      "metadata": {
        "id": "hIlnaF-oYcw2"
      },
      "outputs": [],
      "source": [
        "common_gen_train = DataLoader(CommonGenDataset(split=\"train\"), collate_fn=get_tensor, batch_size=train_batch_size, shuffle=True)\n",
        "common_gen_validation = DataLoader(CommonGenDataset(split=\"test\"), collate_fn=get_tensor, batch_size=validation_batch_size, shuffle=False)\n",
        "rouge = Rouge(variants=[\"L\", 2], multiref=\"best\")"
      ]
    },
    {
      "cell_type": "code",
      "execution_count": null,
      "metadata": {
        "id": "vb53PQRHYcw2"
      },
      "outputs": [],
      "source": [
        "def evaluate(model):\n",
        "    pbar = tqdm(common_gen_validation)\n",
        "    pbar.set_description(f\"Evaluating\")\n",
        "\n",
        "    for inputs, targets, _ in pbar:\n",
        "        output = [re.split(r\"[/]\", each.replace(\"<pad>\", \"\")) for each in tokenizer.batch_decode(image_to_t5_model.generate(inputs.float(), max_length=1000))]\n",
        "        targets = [re.split(r\"[/]\", each.replace(\"<pad>\", \"\")) for each in tokenizer.batch_decode(targets)]\n",
        "        for i in range(len(output)):\n",
        "            sentences = [s.replace('.', ' .').split() for s in output[i]]\n",
        "            ground_thruths = [t.replace('.', ' .').split() for t in targets[i]]\n",
        "            for s in sentences:\n",
        "                rouge.update(([s], [ground_thruths]))\n",
        "    return rouge.compute()\n"
      ]
    },
    {
      "cell_type": "code",
      "execution_count": null,
      "metadata": {
        "id": "hIFJsmbzYcw3"
      },
      "outputs": [],
      "source": [
        "def report(images, print_out=False):\n",
        "  out = image_to_t5_model.generate(images.float(), max_length=1000)[0]\n",
        "  out = tokenizer.decode(out, skip_special_tokens=True)\n",
        "  if print_out:\n",
        "    print(out)\n",
        "  return out\n"
      ]
    },
    {
      "cell_type": "code",
      "execution_count": null,
      "metadata": {
        "colab": {
          "base_uri": "https://localhost:8080/"
        },
        "id": "vAWiKTrNYcw3",
        "outputId": "86f2fc7e-b271-4871-ba5a-59bfb5c5b713"
      },
      "outputs": [
        {
          "output_type": "stream",
          "name": "stderr",
          "text": [
            "Training epoch [1/100]: 100%|██████████| 12/12 [00:10<00:00,  1.20it/s, loss=1.78]\n",
            "Training epoch [2/100]: 100%|██████████| 12/12 [00:10<00:00,  1.18it/s, loss=0.64]\n",
            "Training epoch [3/100]: 100%|██████████| 12/12 [00:10<00:00,  1.17it/s, loss=0.935]\n",
            "Training epoch [4/100]: 100%|██████████| 12/12 [00:09<00:00,  1.23it/s, loss=0.293]\n",
            "Training epoch [5/100]: 100%|██████████| 12/12 [00:09<00:00,  1.23it/s, loss=0.28]\n",
            "Training epoch [6/100]: 100%|██████████| 12/12 [00:09<00:00,  1.22it/s, loss=0.202]\n",
            "Training epoch [7/100]: 100%|██████████| 12/12 [00:10<00:00,  1.20it/s, loss=0.597]\n",
            "Training epoch [8/100]: 100%|██████████| 12/12 [00:09<00:00,  1.22it/s, loss=0.669]\n",
            "Training epoch [9/100]: 100%|██████████| 12/12 [00:10<00:00,  1.17it/s, loss=0.257]\n",
            "Training epoch [10/100]: 100%|██████████| 12/12 [00:10<00:00,  1.19it/s, loss=0.115]\n",
            "Training epoch [11/100]: 100%|██████████| 12/12 [00:09<00:00,  1.21it/s, loss=0.0785]\n",
            "Training epoch [12/100]: 100%|██████████| 12/12 [00:09<00:00,  1.24it/s, loss=0.114]\n",
            "Training epoch [13/100]: 100%|██████████| 12/12 [00:09<00:00,  1.21it/s, loss=0.138]\n",
            "Training epoch [14/100]: 100%|██████████| 12/12 [00:09<00:00,  1.21it/s, loss=0.126]\n",
            "Training epoch [15/100]: 100%|██████████| 12/12 [00:09<00:00,  1.26it/s, loss=0.113]\n",
            "Training epoch [16/100]: 100%|██████████| 12/12 [00:09<00:00,  1.22it/s, loss=0.0656]\n",
            "Training epoch [17/100]: 100%|██████████| 12/12 [00:09<00:00,  1.21it/s, loss=0.0902]\n",
            "Training epoch [18/100]: 100%|██████████| 12/12 [00:10<00:00,  1.19it/s, loss=0.0837]\n",
            "Training epoch [19/100]: 100%|██████████| 12/12 [00:09<00:00,  1.27it/s, loss=0.0535]\n",
            "Training epoch [20/100]: 100%|██████████| 12/12 [00:09<00:00,  1.21it/s, loss=0.0927]\n"
          ]
        },
        {
          "output_type": "stream",
          "name": "stdout",
          "text": [
            "answer: Chest PA View:_x000D_ Impression: _x000D_ > Postinflammatory fibrosis in both upper lungs._x000D_ > Atherosclerosis of aorta._x000D_ > R/O osteoporosis._x000D_ > DJD of spine. _x000D_ > S/P abdominal operation with retained clips.</s>\n",
            "generate: Chest PA view shows:_x000D_ >No obvious lung mass nor consolidation patch._x000D_ >Normal heart size._x000D_ >No pleural effusion.\n"
          ]
        },
        {
          "output_type": "stream",
          "name": "stderr",
          "text": [
            "Evaluating: 100%|██████████| 2/2 [00:03<00:00,  1.73s/it]\n"
          ]
        },
        {
          "output_type": "stream",
          "name": "stdout",
          "text": [
            "Rouge-2 score on epoch 19: {'Rouge-L-P': 0.5228787878787879, 'Rouge-L-R': 0.4841599914562177, 'Rouge-L-F': 0.4841599914562177, 'Rouge-2-P': 0.08014619883040937, 'Rouge-2-R': 0.06875775296827927, 'Rouge-2-F': 0.06875775296827928}\n"
          ]
        },
        {
          "output_type": "stream",
          "name": "stderr",
          "text": [
            "Training epoch [21/100]: 100%|██████████| 12/12 [00:09<00:00,  1.22it/s, loss=0.0929]\n",
            "Training epoch [22/100]: 100%|██████████| 12/12 [00:10<00:00,  1.19it/s, loss=0.09]\n",
            "Training epoch [23/100]: 100%|██████████| 12/12 [00:09<00:00,  1.20it/s, loss=0.228]\n",
            "Training epoch [24/100]: 100%|██████████| 12/12 [00:09<00:00,  1.29it/s, loss=0.144]\n",
            "Training epoch [25/100]: 100%|██████████| 12/12 [00:09<00:00,  1.22it/s, loss=0.0988]\n",
            "Training epoch [26/100]: 100%|██████████| 12/12 [00:10<00:00,  1.16it/s, loss=0.0435]\n",
            "Training epoch [27/100]: 100%|██████████| 12/12 [00:09<00:00,  1.23it/s, loss=0.0596]\n",
            "Training epoch [28/100]: 100%|██████████| 12/12 [00:09<00:00,  1.25it/s, loss=0.0749]\n",
            "Training epoch [29/100]: 100%|██████████| 12/12 [00:11<00:00,  1.06it/s, loss=0.052]\n",
            "Training epoch [30/100]: 100%|██████████| 12/12 [00:11<00:00,  1.01it/s, loss=0.0498]\n",
            "Training epoch [31/100]: 100%|██████████| 12/12 [00:12<00:00,  1.04s/it, loss=0.101]\n",
            "Training epoch [32/100]: 100%|██████████| 12/12 [00:11<00:00,  1.08it/s, loss=0.102]\n",
            "Training epoch [33/100]: 100%|██████████| 12/12 [00:11<00:00,  1.08it/s, loss=0.0855]\n",
            "Training epoch [34/100]: 100%|██████████| 12/12 [00:10<00:00,  1.15it/s, loss=0.0284]\n",
            "Training epoch [35/100]: 100%|██████████| 12/12 [00:13<00:00,  1.15s/it, loss=0.0417]\n",
            "Training epoch [36/100]: 100%|██████████| 12/12 [00:11<00:00,  1.03it/s, loss=0.0315]\n",
            "Training epoch [37/100]: 100%|██████████| 12/12 [00:13<00:00,  1.15s/it, loss=0.0335]\n",
            "Training epoch [38/100]: 100%|██████████| 12/12 [00:12<00:00,  1.02s/it, loss=0.031]\n",
            "Training epoch [39/100]: 100%|██████████| 12/12 [00:09<00:00,  1.24it/s, loss=0.0519]\n",
            "Training epoch [40/100]: 100%|██████████| 12/12 [00:10<00:00,  1.19it/s, loss=0.074]\n"
          ]
        },
        {
          "output_type": "stream",
          "name": "stdout",
          "text": [
            "answer: Chest plain film shows:_x000D_ Impression:_x000D_ -Suspicious right upper lung nodule._x000D_ Suspect left lower lung patch. _x000D_ -Increased infiltrations in both lungs._x000D_ -Blunting bilateral CP angles._x000D_ -Tortuous atherosclerotic dilated aorta._x000D_ -Cardiomegaly._x000D_ -Scoliosis, DJD and osteoporosis of spine.</s>\n",
            "generate: _x000D_ Chest plain film view showed:_x000D_ Impression:_x000D_ -Bilateral apical pleural thickening. _x000D_ -Left lower lung subsegmental atelectasis. _x000D_ -Blunting left CP angle. _x000D_ -Bilateral hilar enlargement. _x000D_ -Normal heart size._x000D_ -DJD of spine. _x000D_ -Mild scoliosis of spine.\n"
          ]
        },
        {
          "output_type": "stream",
          "name": "stderr",
          "text": [
            "Evaluating: 100%|██████████| 2/2 [00:06<00:00,  3.18s/it]\n"
          ]
        },
        {
          "output_type": "stream",
          "name": "stdout",
          "text": [
            "Rouge-2 score on epoch 39: {'Rouge-L-P': 0.5397568040253176, 'Rouge-L-R': 0.5295098496043857, 'Rouge-L-F': 0.5295098496043857, 'Rouge-2-P': 0.0662742088391106, 'Rouge-2-R': 0.0654793857365269, 'Rouge-2-F': 0.0654793857365269}\n"
          ]
        },
        {
          "output_type": "stream",
          "name": "stderr",
          "text": [
            "Training epoch [41/100]: 100%|██████████| 12/12 [00:09<00:00,  1.27it/s, loss=0.0298]\n",
            "Training epoch [42/100]: 100%|██████████| 12/12 [00:10<00:00,  1.20it/s, loss=0.0597]\n",
            "Training epoch [43/100]: 100%|██████████| 12/12 [00:10<00:00,  1.17it/s, loss=0.0206]\n",
            "Training epoch [44/100]: 100%|██████████| 12/12 [00:10<00:00,  1.14it/s, loss=0.0174]\n",
            "Training epoch [45/100]: 100%|██████████| 12/12 [00:09<00:00,  1.27it/s, loss=0.0323]\n",
            "Training epoch [46/100]: 100%|██████████| 12/12 [00:09<00:00,  1.23it/s, loss=0.0245]\n",
            "Training epoch [47/100]: 100%|██████████| 12/12 [00:10<00:00,  1.20it/s, loss=0.0198]\n",
            "Training epoch [48/100]: 100%|██████████| 12/12 [00:09<00:00,  1.21it/s, loss=0.0251]\n",
            "Training epoch [49/100]: 100%|██████████| 12/12 [00:09<00:00,  1.25it/s, loss=0.0394]\n",
            "Training epoch [50/100]: 100%|██████████| 12/12 [00:09<00:00,  1.22it/s, loss=0.242]\n",
            "Training epoch [51/100]: 100%|██████████| 12/12 [00:10<00:00,  1.20it/s, loss=0.113]\n",
            "Training epoch [52/100]: 100%|██████████| 12/12 [00:09<00:00,  1.23it/s, loss=0.147]\n",
            "Training epoch [53/100]: 100%|██████████| 12/12 [00:09<00:00,  1.23it/s, loss=0.0561]\n",
            "Training epoch [54/100]: 100%|██████████| 12/12 [00:10<00:00,  1.15it/s, loss=0.196]\n",
            "Training epoch [55/100]: 100%|██████████| 12/12 [00:10<00:00,  1.14it/s, loss=0.318]\n",
            "Training epoch [56/100]: 100%|██████████| 12/12 [00:09<00:00,  1.22it/s, loss=0.0535]\n",
            "Training epoch [57/100]: 100%|██████████| 12/12 [00:09<00:00,  1.22it/s, loss=0.0631]\n",
            "Training epoch [58/100]: 100%|██████████| 12/12 [00:10<00:00,  1.20it/s, loss=0.0533]\n",
            "Training epoch [59/100]: 100%|██████████| 12/12 [00:09<00:00,  1.20it/s, loss=0.111]\n",
            "Training epoch [60/100]: 100%|██████████| 12/12 [00:10<00:00,  1.19it/s, loss=0.0757]\n"
          ]
        },
        {
          "output_type": "stream",
          "name": "stdout",
          "text": [
            "answer: Chest plain film PA view shows:_x000D_ _x000D_ Borderline cardiomegaly._x000D_ Atherosclerotic and tortuous thoracic aorta. _x000D_ Increased bilateral lung markings. _x000D_ S/P operation at left lung with suspected associated focal atelectasis._x000D_ Blunting of left CP angle. _x000D_ S/P cardiac pacemaker implantation._x000D_ Spondylosis. _x000D_ Surgical clips at LUQ abdomen._x000D_ Recommend clinical correlation.</s>\n",
            "generate: Chest AP view showed:_x000D_ 1.Enlarged heart size with tortuous aorta._x000D_ 2.A L't basal lung small density. _x000D_ 3.No mediastinum widening._x000D_ 4.s/p endotracheal tube and NG intubation._x000D_ s/p R't jugular CVP._x000D_\n"
          ]
        },
        {
          "output_type": "stream",
          "name": "stderr",
          "text": [
            "Evaluating: 100%|██████████| 2/2 [00:06<00:00,  3.29s/it]\n"
          ]
        },
        {
          "output_type": "stream",
          "name": "stdout",
          "text": [
            "Rouge-2 score on epoch 59: {'Rouge-L-P': 0.5752683989179327, 'Rouge-L-R': 0.5784687850947284, 'Rouge-L-F': 0.5784687850947284, 'Rouge-2-P': 0.1247703624681484, 'Rouge-2-R': 0.1327416412905987, 'Rouge-2-F': 0.1327416412905987}\n"
          ]
        },
        {
          "output_type": "stream",
          "name": "stderr",
          "text": [
            "Training epoch [61/100]: 100%|██████████| 12/12 [00:10<00:00,  1.18it/s, loss=0.0584]\n",
            "Training epoch [62/100]: 100%|██████████| 12/12 [00:10<00:00,  1.19it/s, loss=0.0448]\n",
            "Training epoch [63/100]: 100%|██████████| 12/12 [00:09<00:00,  1.23it/s, loss=0.0233]\n",
            "Training epoch [64/100]: 100%|██████████| 12/12 [00:09<00:00,  1.20it/s, loss=0.0138]\n",
            "Training epoch [65/100]: 100%|██████████| 12/12 [00:10<00:00,  1.18it/s, loss=0.0795]\n",
            "Training epoch [66/100]: 100%|██████████| 12/12 [00:09<00:00,  1.22it/s, loss=0.0385]\n",
            "Training epoch [67/100]: 100%|██████████| 12/12 [00:09<00:00,  1.28it/s, loss=0.0177]\n",
            "Training epoch [68/100]: 100%|██████████| 12/12 [00:10<00:00,  1.20it/s, loss=0.0274]\n",
            "Training epoch [69/100]: 100%|██████████| 12/12 [00:10<00:00,  1.19it/s, loss=0.163]\n",
            "Training epoch [70/100]: 100%|██████████| 12/12 [00:09<00:00,  1.26it/s, loss=0.00863]\n",
            "Training epoch [71/100]: 100%|██████████| 12/12 [00:09<00:00,  1.21it/s, loss=0.0655]\n",
            "Training epoch [72/100]: 100%|██████████| 12/12 [00:10<00:00,  1.19it/s, loss=0.00715]\n",
            "Training epoch [73/100]: 100%|██████████| 12/12 [00:09<00:00,  1.21it/s, loss=0.0144]\n",
            "Training epoch [74/100]: 100%|██████████| 12/12 [00:09<00:00,  1.30it/s, loss=0.00198]\n",
            "Training epoch [75/100]: 100%|██████████| 12/12 [00:10<00:00,  1.19it/s, loss=0.0053]\n",
            "Training epoch [76/100]: 100%|██████████| 12/12 [00:10<00:00,  1.19it/s, loss=0.000928]\n",
            "Training epoch [77/100]: 100%|██████████| 12/12 [00:09<00:00,  1.23it/s, loss=0.0084]\n",
            "Training epoch [78/100]: 100%|██████████| 12/12 [00:09<00:00,  1.24it/s, loss=0.000506]\n",
            "Training epoch [79/100]: 100%|██████████| 12/12 [00:11<00:00,  1.04it/s, loss=0.000998]\n",
            "Training epoch [80/100]: 100%|██████████| 12/12 [00:11<00:00,  1.01it/s, loss=0.0142]\n"
          ]
        },
        {
          "output_type": "stream",
          "name": "stdout",
          "text": [
            "answer: Chest plain film view showed:_x000D_ Impression:_x000D_ -Suspicious pulmonary edema. Superimposed pneumonia cannot be excluded. _x000D_ -The mediastinum is not widened._x000D_ -Normal heart size._x000D_ -DJD of spine._x000D_ -S/P NG and endotracheal tube._x000D_ -S/P Rt subclavian CVC insertion.</s>\n",
            "generate: Chest plain film view showed:_x000D_ Impression:_x000D_ -Suspicious pulmonary edema. Superimposed pneumonia cannot be excluded. _x000D_ -The mediastinum is not widened._x000D_ -Normal heart size._x000D_ -DJD of spine._x000D_ -S/P NG and endotracheal tube._x000D_ -S/P Rt subclavian CVC insertion.\n"
          ]
        },
        {
          "output_type": "stream",
          "name": "stderr",
          "text": [
            "Evaluating: 100%|██████████| 2/2 [00:15<00:00,  7.66s/it]\n"
          ]
        },
        {
          "output_type": "stream",
          "name": "stdout",
          "text": [
            "Rouge-2 score on epoch 79: {'Rouge-L-P': 0.5535261275439702, 'Rouge-L-R': 0.5568169044186783, 'Rouge-L-F': 0.5568169044186783, 'Rouge-2-P': 0.11720191336790255, 'Rouge-2-R': 0.11529602105366256, 'Rouge-2-F': 0.11529602105366256}\n"
          ]
        },
        {
          "output_type": "stream",
          "name": "stderr",
          "text": [
            "Training epoch [81/100]: 100%|██████████| 12/12 [00:13<00:00,  1.13s/it, loss=7.66e-5]\n",
            "Training epoch [82/100]: 100%|██████████| 12/12 [00:11<00:00,  1.00it/s, loss=0.0403]\n",
            "Training epoch [83/100]: 100%|██████████| 12/12 [00:14<00:00,  1.25s/it, loss=0.031]\n",
            "Training epoch [84/100]: 100%|██████████| 12/12 [00:13<00:00,  1.11s/it, loss=0.000522]\n",
            "Training epoch [85/100]: 100%|██████████| 12/12 [00:14<00:00,  1.17s/it, loss=7.99e-5]\n",
            "Training epoch [86/100]: 100%|██████████| 12/12 [00:11<00:00,  1.01it/s, loss=0.00191]\n",
            "Training epoch [87/100]: 100%|██████████| 12/12 [00:09<00:00,  1.22it/s, loss=0.00232]\n",
            "Training epoch [88/100]: 100%|██████████| 12/12 [00:13<00:00,  1.10s/it, loss=0.00195]\n",
            "Training epoch [89/100]: 100%|██████████| 12/12 [00:11<00:00,  1.00it/s, loss=0.000194]\n",
            "Training epoch [90/100]: 100%|██████████| 12/12 [00:10<00:00,  1.12it/s, loss=0.000756]\n",
            "Training epoch [91/100]: 100%|██████████| 12/12 [00:13<00:00,  1.12s/it, loss=0.000181]\n",
            "Training epoch [92/100]: 100%|██████████| 12/12 [00:12<00:00,  1.04s/it, loss=0.000188]\n",
            "Training epoch [93/100]: 100%|██████████| 12/12 [00:11<00:00,  1.07it/s, loss=0.000562]\n",
            "Training epoch [94/100]: 100%|██████████| 12/12 [00:13<00:00,  1.11s/it, loss=0.000211]\n",
            "Training epoch [95/100]: 100%|██████████| 12/12 [00:12<00:00,  1.07s/it, loss=0.000143]\n",
            "Training epoch [96/100]: 100%|██████████| 12/12 [00:13<00:00,  1.15s/it, loss=0.000226]\n",
            "Training epoch [97/100]: 100%|██████████| 12/12 [00:10<00:00,  1.12it/s, loss=0.000663]\n",
            "Training epoch [98/100]: 100%|██████████| 12/12 [00:10<00:00,  1.19it/s, loss=0.000178]\n",
            "Training epoch [99/100]: 100%|██████████| 12/12 [00:09<00:00,  1.21it/s, loss=0.00162]\n",
            "Training epoch [100/100]: 100%|██████████| 12/12 [00:10<00:00,  1.18it/s, loss=0.000101]\n"
          ]
        },
        {
          "output_type": "stream",
          "name": "stdout",
          "text": [
            "answer: Chest PA View:_x000D_ Impression: _x000D_ > Reticular infiltration in the bilateral lower lungs._x000D_ > Suspect bilateral lower lung patches. _x000D_ > Bilateral lung emphysematous change._x000D_ > Right apical pleural thickening and fibrosis._x000D_ > Blunting bilateral CP angles. _x000D_ > Borderline cardiomegaly._x000D_ > Atherosclerosis of aorta._x000D_ > R/O osteoporosis._x000D_ > Spondylosis of thoracolumbar spine.</s>\n",
            "generate: Chest PA view shows:_x000D_ Impression:_x000D_ >Increased bilateral lung markings._x000D_ >Normal heart size. _x000D_ >Atherosclerotic aorta. _x000D_ >Spondylosis._x000D_ >Stent in left axillary region._x000D_ >Calcified nodules in bilateral abdomen, consider bilateral renal stones._x000D_ >Radiopaque lesions in right upper abdomen._x000D_ >S/P NG and endotracheal tube._x000D_ S/P Rt jugular CVC insertion. _x000D_ S/P Rt jugular CVC insertion.\n"
          ]
        },
        {
          "output_type": "stream",
          "name": "stderr",
          "text": [
            "Evaluating: 100%|██████████| 2/2 [00:05<00:00,  2.52s/it]\n"
          ]
        },
        {
          "output_type": "stream",
          "name": "stdout",
          "text": [
            "Rouge-2 score on epoch 99: {'Rouge-L-P': 0.5554061686390931, 'Rouge-L-R': 0.5605571581053206, 'Rouge-L-F': 0.5605571581053206, 'Rouge-2-P': 0.12405145270988412, 'Rouge-2-R': 0.12539961783525821, 'Rouge-2-F': 0.12539961783525821}\n"
          ]
        }
      ],
      "source": [
        "for ep in range(epochs):\n",
        "    pbar = tqdm(common_gen_train)\n",
        "    pbar.set_description(f\"Training epoch [{ep+1}/{epochs}]\")\n",
        "    for inputs, targets, _ in pbar:\n",
        "        optimizer.zero_grad()\n",
        "\n",
        "        loss = image_to_t5_model(images=inputs.float(), labels=targets).loss\n",
        "        loss.backward()\n",
        "        optimizer.step()\n",
        "        pbar.set_postfix(loss = loss.item())\n",
        "    if (ep+1) % 20 == 0:\n",
        "      print(f\"answer: {tokenizer.decode(targets[0])}\\ngenerate: {report(inputs[:1])}\")\n",
        "      print(f\"Rouge-2 score on epoch {ep}:\", evaluate(image_to_t5_model))\n",
        "torch.save(image_to_t5_model, f'd_100.mod')"
      ]
    },
    {
      "cell_type": "code",
      "execution_count": null,
      "metadata": {
        "id": "Ah5BjD4SYcw3"
      },
      "outputs": [],
      "source": [
        "gen = []\n",
        "ans = []\n",
        "pth = []\n",
        "for images, texts, paths in common_gen_validation:\n",
        "  for image, text, path in zip(images, texts, paths):\n",
        "    gen.append(report(image.unsqueeze(0)))\n",
        "    ans.append(tokenizer.decode(text, skip_special_tokens=True))\n",
        "    pth.append(path)"
      ]
    },
    {
      "cell_type": "code",
      "source": [
        "df = pd.DataFrame({'path':pth, 'gen': gen, 'ans': ans})\n",
        "df.to_excel(\"out1.xlsx\")"
      ],
      "metadata": {
        "id": "_XO0ukvVYcw3"
      },
      "execution_count": null,
      "outputs": []
    },
    {
      "cell_type": "code",
      "source": [],
      "metadata": {
        "id": "LJpPhcDDYcw3"
      },
      "execution_count": null,
      "outputs": []
    },
    {
      "cell_type": "markdown",
      "source": [
        "# lr = 1e-4"
      ],
      "metadata": {
        "id": "KxE8XrxYgI1g"
      }
    },
    {
      "cell_type": "markdown",
      "source": [
        "## middle Dim = 100"
      ],
      "metadata": {
        "id": "WIl14W9YgI1n"
      }
    },
    {
      "cell_type": "code",
      "execution_count": null,
      "metadata": {
        "id": "1Ka84IMTgI1n"
      },
      "outputs": [],
      "source": [
        "import transformers as T\n",
        "from datasets import load_dataset\n",
        "import torch\n",
        "from torch.utils.data import Dataset, DataLoader\n",
        "from torch.optim import AdamW\n",
        "from tqdm import tqdm\n",
        "# from ignite.metrics import Rouge\n",
        "import re\n",
        "device = \"cuda\" if torch.cuda.is_available() else \"cpu\""
      ]
    },
    {
      "cell_type": "code",
      "execution_count": null,
      "metadata": {
        "id": "xjetlrMMgI1o"
      },
      "outputs": [],
      "source": [
        "import torch\n",
        "import torch.nn as nn\n",
        "\n",
        "class CNNNet(nn.Module):\n",
        "    def __init__(self, output_dim=1000):\n",
        "        super(CNNNet, self).__init__()\n",
        "        self.cnn = nn.Sequential(\n",
        "            nn.Conv2d(3, 64, 9, 2, 4),\n",
        "            nn.ReLU(),\n",
        "            nn.MaxPool2d(4, 4),\n",
        "            nn.Conv2d(64, 128, 5, 3, 0),\n",
        "            nn.ReLU(),\n",
        "            nn.MaxPool2d(8, 8),\n",
        "        )\n",
        "        self.linear = nn.Linear(128, output_dim)\n",
        "        self.relu = nn.ReLU()\n",
        "\n",
        "    def forward(self, x):\n",
        "        x = self.cnn(x)\n",
        "        x = x.view(len(x), -1)\n",
        "\n",
        "        x = self.linear(x)\n",
        "        return torch.clip(self.relu(x), 0, 32099)"
      ]
    },
    {
      "cell_type": "code",
      "execution_count": null,
      "metadata": {
        "id": "0FukukdPgI1p"
      },
      "outputs": [],
      "source": [
        "from transformers import T5Tokenizer, T5ForConditionalGeneration\n",
        "\n",
        "class ImageToT5(nn.Module):\n",
        "    def __init__(self, t5_model_name='t5-small', t5_d_model=50):\n",
        "        super(ImageToT5, self).__init__()\n",
        "        self.resnet = CNNNet(output_dim=t5_d_model)\n",
        "        self.t5 = T5ForConditionalGeneration.from_pretrained(t5_model_name, cache_dir=\"./cache/\")\n",
        "\n",
        "    def generate(self, images, max_length, return_features=False):\n",
        "        # 提取图像特征\n",
        "        image_features = self.resnet(images)\n",
        "\n",
        "        # 使用T5进行生成任务\n",
        "        outputs = self.t5.generate(input_ids=image_features.long(), max_length=max_length)\n",
        "\n",
        "        if return_features:\n",
        "            return image_features, outputs\n",
        "        else:\n",
        "            return outputs\n",
        "\n",
        "    def forward(self, images, labels=None):\n",
        "        # 提取图像特征\n",
        "        image_features = self.resnet(images)\n",
        "\n",
        "        # 使用T5进行生成任务\n",
        "        outputs = self.t5(input_ids=image_features.long(), labels=labels)\n",
        "        return outputs"
      ]
    },
    {
      "cell_type": "code",
      "execution_count": null,
      "metadata": {
        "id": "yzSZ1FtxgI1p"
      },
      "outputs": [],
      "source": [
        "import cv2 as cv\n",
        "import os\n",
        "from torch.utils.data import Dataset, DataLoader\n",
        "import pandas as pd\n",
        "import numpy as np\n"
      ]
    },
    {
      "cell_type": "code",
      "execution_count": null,
      "metadata": {
        "id": "w48xpyr7gI1p"
      },
      "outputs": [],
      "source": [
        "class CommonGenDataset(Dataset):\n",
        "    def __init__(self, split=\"train\")-> None:\n",
        "        super().__init__()\n",
        "\n",
        "        def read_data_path(root):\n",
        "            data_path = []\n",
        "            for i in os.listdir(root):\n",
        "                file = os.path.join(root, i)\n",
        "                data_path.append(file)\n",
        "\n",
        "            return data_path\n",
        "\n",
        "        def load_img(path, path_map_text):\n",
        "          img = cv.imread(path)\n",
        "          # img = cv.cvtColor(img, cv.COLOR_BGR2GRAY)\n",
        "\n",
        "          bound = max(img.shape[:2])\n",
        "          new_img = np.zeros((bound, bound, 3))\n",
        "\n",
        "          offset_x = (bound - img.shape[0]) // 2\n",
        "          offset_y = (bound - img.shape[1]) // 2\n",
        "          new_img[offset_x : img.shape[0] + offset_x, offset_y: img.shape[1] + offset_y, :] = img\n",
        "\n",
        "\n",
        "          img = new_img\n",
        "          img = cv.resize(img, (224, 224)).transpose(2,0,1)\n",
        "\n",
        "          return img, path_map_text[\"_\".join(path.split('/')[-1].split(\"_\")[:3])]\n",
        "\n",
        "        assert split in [\"train\", \"test\"]\n",
        "        if split == \"train\":\n",
        "            self.data_path = read_data_path(\"./CXIRG_Data/train_data/images\")\n",
        "            data = pd.read_excel(\"./CXIRG_Data/train_data/reports.xlsx\")\n",
        "        else:\n",
        "            self.data_path = read_data_path(\"./CXIRG_Data/valid_data/images\")\n",
        "            data = pd.read_excel(\"./CXIRG_Data/valid_data/reports.xlsx\")\n",
        "\n",
        "        self.path_map_text = {}\n",
        "        for name, text in zip(data[\"name\"], data[\"text\"]):\n",
        "            self.path_map_text[name] = text\n",
        "\n",
        "        self.data = []\n",
        "        for path in self.data_path:\n",
        "          concepts, targets = load_img(path, self.path_map_text)\n",
        "          self.data.append({\"concepts\": concepts, \"targets\":targets, \"path\": path})\n",
        "\n",
        "    def __getitem__(self, index):\n",
        "        return self.data[index]\n",
        "\n",
        "    def __len__(self):\n",
        "        return len(self.data)"
      ]
    },
    {
      "cell_type": "code",
      "execution_count": null,
      "metadata": {
        "id": "VRfUX5B0gI1p"
      },
      "outputs": [],
      "source": [
        "def get_tensor(sample):\n",
        "    # 將模型的輸入和ground truth打包成Tensor\n",
        "    model_inputs = torch.tensor([each[\"concepts\"] for each in sample])\n",
        "    model_outputs = tokenizer.batch_encode_plus([each[\"targets\"] for each in sample], padding=True, truncation=True, return_tensors=\"pt\")\n",
        "    paths = [each[\"path\"] for each in sample]\n",
        "    return model_inputs.to(device), model_outputs[\"input_ids\"].to(device), paths"
      ]
    },
    {
      "cell_type": "code",
      "execution_count": null,
      "metadata": {
        "id": "xa0Bee-mgI1p"
      },
      "outputs": [],
      "source": [
        "from ignite.metrics import Rouge\n",
        "\n",
        "lr = 1e-5\n",
        "epochs = 100\n",
        "optimizer = AdamW(image_to_t5_model.parameters(), lr = 1e-4)\n",
        "train_batch_size = 8\n",
        "validation_batch_size = 8"
      ]
    },
    {
      "cell_type": "code",
      "execution_count": null,
      "metadata": {
        "id": "V8o7d3XAgI1q"
      },
      "outputs": [],
      "source": [
        "common_gen_train = DataLoader(CommonGenDataset(split=\"train\"), collate_fn=get_tensor, batch_size=train_batch_size, shuffle=True)\n",
        "common_gen_validation = DataLoader(CommonGenDataset(split=\"test\"), collate_fn=get_tensor, batch_size=validation_batch_size, shuffle=False)\n",
        "rouge = Rouge(variants=[\"L\", 2], multiref=\"best\")"
      ]
    },
    {
      "cell_type": "code",
      "execution_count": null,
      "metadata": {
        "id": "kl7U0NJAgI1q"
      },
      "outputs": [],
      "source": [
        "def evaluate(model):\n",
        "    pbar = tqdm(common_gen_validation)\n",
        "    pbar.set_description(f\"Evaluating\")\n",
        "\n",
        "    for inputs, targets, _ in pbar:\n",
        "        output = [re.split(r\"[/]\", each.replace(\"<pad>\", \"\")) for each in tokenizer.batch_decode(image_to_t5_model.generate(inputs.float(), max_length=1000))]\n",
        "        targets = [re.split(r\"[/]\", each.replace(\"<pad>\", \"\")) for each in tokenizer.batch_decode(targets)]\n",
        "        for i in range(len(output)):\n",
        "            sentences = [s.replace('.', ' .').split() for s in output[i]]\n",
        "            ground_thruths = [t.replace('.', ' .').split() for t in targets[i]]\n",
        "            for s in sentences:\n",
        "                rouge.update(([s], [ground_thruths]))\n",
        "    return rouge.compute()\n"
      ]
    },
    {
      "cell_type": "code",
      "execution_count": null,
      "metadata": {
        "id": "2WV7DnY-gI1q"
      },
      "outputs": [],
      "source": [
        "def report(images, print_out=False):\n",
        "  out = image_to_t5_model.generate(images.float(), max_length=1000)[0]\n",
        "  out = tokenizer.decode(out, skip_special_tokens=True)\n",
        "  if print_out:\n",
        "    print(out)\n",
        "  return out\n"
      ]
    },
    {
      "cell_type": "code",
      "execution_count": null,
      "metadata": {
        "colab": {
          "base_uri": "https://localhost:8080/"
        },
        "outputId": "623a455e-3dc2-467c-c685-45ac01543288",
        "id": "raDAfcBOgI1q"
      },
      "outputs": [
        {
          "output_type": "stream",
          "name": "stderr",
          "text": [
            "Training epoch [1/100]: 100%|██████████| 12/12 [00:10<00:00,  1.17it/s, loss=2.54]\n",
            "Training epoch [2/100]: 100%|██████████| 12/12 [00:10<00:00,  1.17it/s, loss=2.25]\n",
            "Training epoch [3/100]: 100%|██████████| 12/12 [00:10<00:00,  1.12it/s, loss=2.58]\n",
            "Training epoch [4/100]: 100%|██████████| 12/12 [00:09<00:00,  1.23it/s, loss=1.52]\n",
            "Training epoch [5/100]: 100%|██████████| 12/12 [00:09<00:00,  1.21it/s, loss=1.28]\n",
            "Training epoch [6/100]: 100%|██████████| 12/12 [00:10<00:00,  1.11it/s, loss=1.37]\n",
            "Training epoch [7/100]: 100%|██████████| 12/12 [00:09<00:00,  1.21it/s, loss=1.52]\n",
            "Training epoch [8/100]: 100%|██████████| 12/12 [00:09<00:00,  1.25it/s, loss=0.322]\n",
            "Training epoch [9/100]: 100%|██████████| 12/12 [00:09<00:00,  1.22it/s, loss=0.949]\n",
            "Training epoch [10/100]: 100%|██████████| 12/12 [00:10<00:00,  1.18it/s, loss=0.206]\n",
            "Training epoch [11/100]: 100%|██████████| 12/12 [00:09<00:00,  1.24it/s, loss=0.301]\n",
            "Training epoch [12/100]: 100%|██████████| 12/12 [00:09<00:00,  1.24it/s, loss=0.651]\n",
            "Training epoch [13/100]: 100%|██████████| 12/12 [00:10<00:00,  1.19it/s, loss=0.178]\n",
            "Training epoch [14/100]: 100%|██████████| 12/12 [00:10<00:00,  1.20it/s, loss=0.205]\n",
            "Training epoch [15/100]: 100%|██████████| 12/12 [00:09<00:00,  1.25it/s, loss=0.346]\n",
            "Training epoch [16/100]: 100%|██████████| 12/12 [00:10<00:00,  1.20it/s, loss=0.0901]\n",
            "Training epoch [17/100]: 100%|██████████| 12/12 [00:10<00:00,  1.13it/s, loss=0.0613]\n",
            "Training epoch [18/100]: 100%|██████████| 12/12 [00:09<00:00,  1.22it/s, loss=0.193]\n",
            "Training epoch [19/100]: 100%|██████████| 12/12 [00:09<00:00,  1.26it/s, loss=0.174]\n",
            "Training epoch [20/100]: 100%|██████████| 12/12 [00:10<00:00,  1.19it/s, loss=0.0317]\n"
          ]
        },
        {
          "output_type": "stream",
          "name": "stdout",
          "text": [
            "answer: Chest AP view showed:_x000D_ 1.Enlarged heart size with tortuous aorta._x000D_ 2.Bilateral lung reticulonodular infiltrations._x000D_ A R't upper lung mass. _x000D_ R't middle and lower lung faint patches._x000D_ 3.No mediastinum widening._x000D_ 4.s/p R't jugular CVP._x000D_</s>\n",
            "generate: X’en of the on de\n"
          ]
        },
        {
          "output_type": "stream",
          "name": "stderr",
          "text": [
            "Evaluating: 100%|██████████| 2/2 [00:43<00:00, 21.86s/it]\n"
          ]
        },
        {
          "output_type": "stream",
          "name": "stdout",
          "text": [
            "Rouge-2 score on epoch 19: {'Rouge-L-P': 0.4403660863624585, 'Rouge-L-R': 0.43037519860509793, 'Rouge-L-F': 0.43037519860509793, 'Rouge-2-P': 0.0, 'Rouge-2-R': 0.0, 'Rouge-2-F': 0.0}\n"
          ]
        },
        {
          "output_type": "stream",
          "name": "stderr",
          "text": [
            "Training epoch [21/100]: 100%|██████████| 12/12 [00:10<00:00,  1.18it/s, loss=0.0716]\n",
            "Training epoch [22/100]: 100%|██████████| 12/12 [00:10<00:00,  1.17it/s, loss=0.051]\n",
            "Training epoch [23/100]: 100%|██████████| 12/12 [00:09<00:00,  1.21it/s, loss=0.104]\n",
            "Training epoch [24/100]: 100%|██████████| 12/12 [00:09<00:00,  1.22it/s, loss=0.0801]\n",
            "Training epoch [25/100]: 100%|██████████| 12/12 [00:10<00:00,  1.18it/s, loss=0.0147]\n",
            "Training epoch [26/100]: 100%|██████████| 12/12 [00:10<00:00,  1.20it/s, loss=0.0258]\n",
            "Training epoch [27/100]: 100%|██████████| 12/12 [00:09<00:00,  1.25it/s, loss=0.0296]\n",
            "Training epoch [28/100]: 100%|██████████| 12/12 [00:09<00:00,  1.21it/s, loss=0.0127]\n",
            "Training epoch [29/100]: 100%|██████████| 12/12 [00:09<00:00,  1.20it/s, loss=0.00735]\n",
            "Training epoch [30/100]: 100%|██████████| 12/12 [00:10<00:00,  1.17it/s, loss=0.0025]\n",
            "Training epoch [31/100]: 100%|██████████| 12/12 [00:10<00:00,  1.10it/s, loss=0.00602]\n",
            "Training epoch [32/100]: 100%|██████████| 12/12 [00:11<00:00,  1.08it/s, loss=0.00415]\n",
            "Training epoch [33/100]: 100%|██████████| 12/12 [00:09<00:00,  1.21it/s, loss=0.00307]\n",
            "Training epoch [34/100]: 100%|██████████| 12/12 [00:10<00:00,  1.19it/s, loss=0.00332]\n",
            "Training epoch [35/100]: 100%|██████████| 12/12 [00:09<00:00,  1.27it/s, loss=0.00338]\n",
            "Training epoch [36/100]: 100%|██████████| 12/12 [00:10<00:00,  1.19it/s, loss=0.001]\n",
            "Training epoch [37/100]: 100%|██████████| 12/12 [00:10<00:00,  1.19it/s, loss=0.000497]\n",
            "Training epoch [38/100]: 100%|██████████| 12/12 [00:09<00:00,  1.21it/s, loss=0.0027]\n",
            "Training epoch [39/100]: 100%|██████████| 12/12 [00:09<00:00,  1.24it/s, loss=0.00117]\n",
            "Training epoch [40/100]: 100%|██████████| 12/12 [00:10<00:00,  1.19it/s, loss=0.00123]\n"
          ]
        },
        {
          "output_type": "stream",
          "name": "stdout",
          "text": [
            "answer: _x000D_ Chest plain film shows:_x000D_ Impression:_x000D_ -Suspect right upper lung mass._x000D_ -Suspect pulmonary fibrosis. _x000D_ Suspect right lower lung patch. _x000D_ Blunting bilateral CP angles. _x000D_ -Increased infiltrations in both lungs._x000D_ -Tortuous atherosclerotic dilated aorta._x000D_ -Cardiomegaly. _x000D_ -DJD of spine. _x000D_ -S/P Rt jugular CVC insertion.</s>\n",
            "generate: i'm a sailor and i'm a sailor.\n"
          ]
        },
        {
          "output_type": "stream",
          "name": "stderr",
          "text": [
            "Evaluating: 100%|██████████| 2/2 [00:43<00:00, 21.69s/it]\n"
          ]
        },
        {
          "output_type": "stream",
          "name": "stdout",
          "text": [
            "Rouge-2 score on epoch 39: {'Rouge-L-P': 0.40872063315620577, 'Rouge-L-R': 0.3956298129014782, 'Rouge-L-F': 0.3956298129014782, 'Rouge-2-P': 0.0, 'Rouge-2-R': 0.0, 'Rouge-2-F': 0.0}\n"
          ]
        },
        {
          "output_type": "stream",
          "name": "stderr",
          "text": [
            "Training epoch [41/100]: 100%|██████████| 12/12 [00:10<00:00,  1.16it/s, loss=0.000785]\n",
            "Training epoch [42/100]: 100%|██████████| 12/12 [00:10<00:00,  1.18it/s, loss=0.000592]\n",
            "Training epoch [43/100]: 100%|██████████| 12/12 [00:10<00:00,  1.20it/s, loss=0.000516]\n",
            "Training epoch [44/100]: 100%|██████████| 12/12 [00:09<00:00,  1.22it/s, loss=0.000687]\n",
            "Training epoch [45/100]: 100%|██████████| 12/12 [00:10<00:00,  1.20it/s, loss=0.000401]\n",
            "Training epoch [46/100]: 100%|██████████| 12/12 [00:09<00:00,  1.21it/s, loss=0.000989]\n",
            "Training epoch [47/100]: 100%|██████████| 12/12 [00:09<00:00,  1.26it/s, loss=0.000347]\n",
            "Training epoch [48/100]: 100%|██████████| 12/12 [00:10<00:00,  1.20it/s, loss=0.000276]\n",
            "Training epoch [49/100]: 100%|██████████| 12/12 [00:09<00:00,  1.20it/s, loss=0.000594]\n",
            "Training epoch [50/100]: 100%|██████████| 12/12 [00:10<00:00,  1.20it/s, loss=0.000718]\n",
            "Training epoch [51/100]: 100%|██████████| 12/12 [00:09<00:00,  1.25it/s, loss=0.000591]\n",
            "Training epoch [52/100]: 100%|██████████| 12/12 [00:10<00:00,  1.19it/s, loss=0.00053]\n",
            "Training epoch [53/100]: 100%|██████████| 12/12 [00:10<00:00,  1.19it/s, loss=0.00106]\n",
            "Training epoch [54/100]: 100%|██████████| 12/12 [00:09<00:00,  1.22it/s, loss=0.000232]\n",
            "Training epoch [55/100]: 100%|██████████| 12/12 [00:09<00:00,  1.22it/s, loss=0.000844]\n",
            "Training epoch [56/100]: 100%|██████████| 12/12 [00:10<00:00,  1.20it/s, loss=0.000462]\n",
            "Training epoch [57/100]: 100%|██████████| 12/12 [00:10<00:00,  1.19it/s, loss=0.000442]\n",
            "Training epoch [58/100]: 100%|██████████| 12/12 [00:09<00:00,  1.23it/s, loss=0.00046]\n",
            "Training epoch [59/100]: 100%|██████████| 12/12 [00:09<00:00,  1.21it/s, loss=0.000647]\n",
            "Training epoch [60/100]: 100%|██████████| 12/12 [00:10<00:00,  1.20it/s, loss=0.000381]\n"
          ]
        },
        {
          "output_type": "stream",
          "name": "stdout",
          "text": [
            "answer: Chest PA view showed:_x000D_ Impression:_x000D_ >Increased bilateral lung markings._x000D_ >Normal heart size. _x000D_ >Atherosclerotic aorta. _x000D_ >Spondylosis._x000D_ >Stent in left axillary region._x000D_ >Calcified nodules in bilateral abdomen, consider bilateral renal stones._x000D_ >Radiopaque lesions in right upper abdomen._x000D_ >S/P NG and endotracheal tube._x000D_ S/P Rt jugular CVC insertion. _x000D_ S/P Rt jugular CVC insertion.</s>\n",
            "generate: a:\n"
          ]
        },
        {
          "output_type": "stream",
          "name": "stderr",
          "text": [
            "Evaluating: 100%|██████████| 2/2 [00:42<00:00, 21.28s/it]\n"
          ]
        },
        {
          "output_type": "stream",
          "name": "stdout",
          "text": [
            "Rouge-2 score on epoch 59: {'Rouge-L-P': 0.39423641805234133, 'Rouge-L-R': 0.3821758081434314, 'Rouge-L-F': 0.3821758081434314, 'Rouge-2-P': 0.0, 'Rouge-2-R': 0.0, 'Rouge-2-F': 0.0}\n"
          ]
        },
        {
          "output_type": "stream",
          "name": "stderr",
          "text": [
            "Training epoch [61/100]: 100%|██████████| 12/12 [00:09<00:00,  1.21it/s, loss=0.000436]\n",
            "Training epoch [62/100]: 100%|██████████| 12/12 [00:10<00:00,  1.18it/s, loss=0.00045]\n",
            "Training epoch [63/100]: 100%|██████████| 12/12 [00:10<00:00,  1.18it/s, loss=0.000339]\n",
            "Training epoch [64/100]: 100%|██████████| 12/12 [00:10<00:00,  1.17it/s, loss=0.000225]\n",
            "Training epoch [65/100]: 100%|██████████| 12/12 [00:09<00:00,  1.20it/s, loss=0.000146]\n",
            "Training epoch [66/100]: 100%|██████████| 12/12 [00:09<00:00,  1.22it/s, loss=0.000247]\n",
            "Training epoch [67/100]: 100%|██████████| 12/12 [00:09<00:00,  1.24it/s, loss=0.000227]\n",
            "Training epoch [68/100]: 100%|██████████| 12/12 [00:10<00:00,  1.16it/s, loss=0.000369]\n",
            "Training epoch [69/100]: 100%|██████████| 12/12 [00:10<00:00,  1.18it/s, loss=0.000501]\n",
            "Training epoch [70/100]: 100%|██████████| 12/12 [00:09<00:00,  1.23it/s, loss=0.000207]\n",
            "Training epoch [71/100]: 100%|██████████| 12/12 [00:09<00:00,  1.21it/s, loss=0.000241]\n",
            "Training epoch [72/100]: 100%|██████████| 12/12 [00:10<00:00,  1.19it/s, loss=0.000117]\n",
            "Training epoch [73/100]: 100%|██████████| 12/12 [00:09<00:00,  1.22it/s, loss=0.000272]\n",
            "Training epoch [74/100]: 100%|██████████| 12/12 [00:09<00:00,  1.27it/s, loss=0.000266]\n",
            "Training epoch [75/100]: 100%|██████████| 12/12 [00:10<00:00,  1.20it/s, loss=0.000232]\n",
            "Training epoch [76/100]: 100%|██████████| 12/12 [00:10<00:00,  1.18it/s, loss=0.000205]\n",
            "Training epoch [77/100]: 100%|██████████| 12/12 [00:10<00:00,  1.19it/s, loss=0.00044]\n",
            "Training epoch [78/100]: 100%|██████████| 12/12 [00:09<00:00,  1.26it/s, loss=0.000163]\n",
            "Training epoch [79/100]: 100%|██████████| 12/12 [00:09<00:00,  1.20it/s, loss=0.000218]\n",
            "Training epoch [80/100]: 100%|██████████| 12/12 [00:10<00:00,  1.18it/s, loss=0.000374]\n"
          ]
        },
        {
          "output_type": "stream",
          "name": "stdout",
          "text": [
            "answer: Chest plain film shows:_x000D_ Impression:_x000D_ -No obvious lung patch, nodule or increased infiltration on X-ray. But if there is still clinically strong suspicion of lung nodule, chest CT may be arranged for further evaluation. _x000D_ -No pleural effusion._x000D_ -Normal heart size. _x000D_ -Atherosclerotic aorta. _x000D_ -Old fracture of bilateral ribs.</s>\n",
            "generate: a\n"
          ]
        },
        {
          "output_type": "stream",
          "name": "stderr",
          "text": [
            "Evaluating: 100%|██████████| 2/2 [00:42<00:00, 21.44s/it]\n"
          ]
        },
        {
          "output_type": "stream",
          "name": "stdout",
          "text": [
            "Rouge-2 score on epoch 79: {'Rouge-L-P': 0.38676069412776615, 'Rouge-L-R': 0.37523180568766534, 'Rouge-L-F': 0.37523180568766534, 'Rouge-2-P': 0.0, 'Rouge-2-R': 0.0, 'Rouge-2-F': 0.0}\n"
          ]
        },
        {
          "output_type": "stream",
          "name": "stderr",
          "text": [
            "Training epoch [81/100]: 100%|██████████| 12/12 [00:10<00:00,  1.18it/s, loss=9.1e-5]\n",
            "Training epoch [82/100]: 100%|██████████| 12/12 [00:10<00:00,  1.20it/s, loss=0.000257]\n",
            "Training epoch [83/100]: 100%|██████████| 12/12 [00:09<00:00,  1.22it/s, loss=0.000206]\n",
            "Training epoch [84/100]: 100%|██████████| 12/12 [00:10<00:00,  1.19it/s, loss=0.000144]\n",
            "Training epoch [85/100]: 100%|██████████| 12/12 [00:09<00:00,  1.21it/s, loss=0.000302]\n",
            "Training epoch [86/100]: 100%|██████████| 12/12 [00:10<00:00,  1.17it/s, loss=0.000308]\n",
            "Training epoch [87/100]: 100%|██████████| 12/12 [00:09<00:00,  1.23it/s, loss=0.000165]\n",
            "Training epoch [88/100]: 100%|██████████| 12/12 [00:10<00:00,  1.19it/s, loss=7.29e-5]\n",
            "Training epoch [89/100]: 100%|██████████| 12/12 [00:10<00:00,  1.18it/s, loss=0.000158]\n",
            "Training epoch [90/100]: 100%|██████████| 12/12 [00:09<00:00,  1.24it/s, loss=0.000114]\n",
            "Training epoch [91/100]: 100%|██████████| 12/12 [00:10<00:00,  1.17it/s, loss=0.00016]\n",
            "Training epoch [92/100]: 100%|██████████| 12/12 [00:10<00:00,  1.18it/s, loss=0.000104]\n",
            "Training epoch [93/100]: 100%|██████████| 12/12 [00:13<00:00,  1.16s/it, loss=0.000115]\n",
            "Training epoch [94/100]: 100%|██████████| 12/12 [00:14<00:00,  1.23s/it, loss=8.68e-5]\n",
            "Training epoch [95/100]: 100%|██████████| 12/12 [00:15<00:00,  1.29s/it, loss=0.000179]\n",
            "Training epoch [96/100]: 100%|██████████| 12/12 [00:12<00:00,  1.05s/it, loss=0.000311]\n",
            "Training epoch [97/100]: 100%|██████████| 12/12 [00:12<00:00,  1.01s/it, loss=0.000279]\n",
            "Training epoch [98/100]: 100%|██████████| 12/12 [00:13<00:00,  1.16s/it, loss=0.000163]\n",
            "Training epoch [99/100]: 100%|██████████| 12/12 [00:11<00:00,  1.04it/s, loss=0.000169]\n",
            "Training epoch [100/100]: 100%|██████████| 12/12 [00:10<00:00,  1.12it/s, loss=0.000122]\n"
          ]
        },
        {
          "output_type": "stream",
          "name": "stdout",
          "text": [
            "answer: Chest AP view shows:_x000D_ Impression:_x000D_ -Bilateral lung centrilobular infiltrations. _x000D_ Pulmonary TB cannot be excluded completely. _x000D_ -Right pleural effusion._x000D_ -The heart shadow is not enlarged._x000D_ -S/P fixation in C-spine._x000D_ -Atherosclerosis of aorta. _x000D_ -Spondylosis.</s>\n",
            "generate: e\n"
          ]
        },
        {
          "output_type": "stream",
          "name": "stderr",
          "text": [
            "Evaluating: 100%|██████████| 2/2 [00:47<00:00, 23.72s/it]\n"
          ]
        },
        {
          "output_type": "stream",
          "name": "stdout",
          "text": [
            "Rouge-2 score on epoch 99: {'Rouge-L-P': 0.3901181336331149, 'Rouge-L-R': 0.37905744772473365, 'Rouge-L-F': 0.37905744772473365, 'Rouge-2-P': 0.0, 'Rouge-2-R': 0.0, 'Rouge-2-F': 0.0}\n"
          ]
        }
      ],
      "source": [
        "for ep in range(epochs):\n",
        "    pbar = tqdm(common_gen_train)\n",
        "    pbar.set_description(f\"Training epoch [{ep+1}/{epochs}]\")\n",
        "    for inputs, targets, _ in pbar:\n",
        "        optimizer.zero_grad()\n",
        "\n",
        "        loss = image_to_t5_model(images=inputs.float(), labels=targets).loss\n",
        "        loss.backward()\n",
        "        optimizer.step()\n",
        "        pbar.set_postfix(loss = loss.item())\n",
        "    if (ep+1) % 20 == 0:\n",
        "      print(f\"answer: {tokenizer.decode(targets[0])}\\ngenerate: {report(inputs[:1])}\")\n",
        "      print(f\"Rouge-2 score on epoch {ep}:\", evaluate(image_to_t5_model))\n",
        "torch.save(image_to_t5_model, f'd_100_1e4.mod')"
      ]
    },
    {
      "cell_type": "code",
      "execution_count": null,
      "metadata": {
        "id": "cBmx38ktgI1r"
      },
      "outputs": [],
      "source": [
        "gen = []\n",
        "ans = []\n",
        "pth = []\n",
        "for images, texts, paths in common_gen_validation:\n",
        "  for image, text, path in zip(images, texts, paths):\n",
        "    gen.append(report(image.unsqueeze(0)))\n",
        "    ans.append(tokenizer.decode(text, skip_special_tokens=True))\n",
        "    pth.append(path)"
      ]
    },
    {
      "cell_type": "code",
      "source": [
        "df = pd.DataFrame({'path':pth, 'gen': gen, 'ans': ans})\n",
        "df.to_excel(\"out1_1e4.xlsx\")"
      ],
      "metadata": {
        "id": "amDqvnf0gI1r"
      },
      "execution_count": null,
      "outputs": []
    },
    {
      "cell_type": "code",
      "source": [],
      "metadata": {
        "id": "rLmatTg2gI1r"
      },
      "execution_count": null,
      "outputs": []
    },
    {
      "cell_type": "markdown",
      "source": [
        "# lr = 1e-3 denoised version"
      ],
      "metadata": {
        "id": "7fJBqvdiiHGs"
      }
    },
    {
      "cell_type": "markdown",
      "source": [
        "## middle Dim = 100"
      ],
      "metadata": {
        "id": "2FYY4hBrl9kR"
      }
    },
    {
      "cell_type": "code",
      "execution_count": null,
      "metadata": {
        "id": "jURVH8DAl9kS"
      },
      "outputs": [],
      "source": [
        "import transformers as T\n",
        "from datasets import load_dataset\n",
        "import torch\n",
        "from torch.utils.data import Dataset, DataLoader\n",
        "from torch.optim import AdamW\n",
        "from tqdm import tqdm\n",
        "# from ignite.metrics import Rouge\n",
        "import re\n",
        "device = \"cuda\" if torch.cuda.is_available() else \"cpu\""
      ]
    },
    {
      "cell_type": "code",
      "execution_count": null,
      "metadata": {
        "id": "evZPQfIFl9kS"
      },
      "outputs": [],
      "source": [
        "import torch\n",
        "import torch.nn as nn\n",
        "\n",
        "class CNNNet(nn.Module):\n",
        "    def __init__(self, output_dim=1000):\n",
        "        super(CNNNet, self).__init__()\n",
        "        self.cnn = nn.Sequential(\n",
        "            nn.Conv2d(3, 64, 9, 2, 4),\n",
        "            nn.ReLU(),\n",
        "            nn.MaxPool2d(4, 4),\n",
        "            nn.Conv2d(64, 128, 5, 3, 0),\n",
        "            nn.ReLU(),\n",
        "            nn.MaxPool2d(8, 8),\n",
        "        )\n",
        "        self.linear = nn.Linear(128, output_dim)\n",
        "        self.relu = nn.ReLU()\n",
        "\n",
        "    def forward(self, x):\n",
        "        x = self.cnn(x)\n",
        "        x = x.view(len(x), -1)\n",
        "\n",
        "        x = self.linear(x)\n",
        "        return torch.clip(self.relu(x), 0, 32099)"
      ]
    },
    {
      "cell_type": "code",
      "execution_count": null,
      "metadata": {
        "colab": {
          "base_uri": "https://localhost:8080/",
          "height": 400,
          "referenced_widgets": [
            "60e36b063ad741e8bffee7199e584c8c",
            "559acd0373c942b7a0165eaa3953ec53",
            "f671b94d8a7149de81c09eb2e1d4e5f2",
            "dc11f24c5c3543508d21d7c7c02c15ba",
            "34ea224de42443bb81df1f56f907a18e",
            "0932fc775f464426bc3f3976ef8d8609",
            "fe9966d384ab452c98aea930bab49135",
            "b42e9aea1cbc47c889d64083b0db0e9a",
            "6c6e22c6783444a2bd08bc9cc745f6f5",
            "cae01dd533e94d94ba9ea54ced6e2a9b",
            "73f48090cf5f41d59df2547437714827",
            "1b3f5c5a7f174c4da95473a78308e9ad",
            "80e45d2b90c44e1c8ae6fb85da9cd3ae",
            "4f087da3c5ce4591989dbd7885903feb",
            "bbef027c127446aa83dc115c79d53354",
            "2439cdfb515d47fa85c208464fb3d900",
            "d4cead3e85b74b15bb126ecd4d382905",
            "90487237eeb6488bbe03ab21cdb74f63",
            "5bb9ad5b5b6a438f9bdaae85ce19bc5a",
            "ab4d7eeee01b4dafa3d760b37ca7bbb2",
            "b37d2e17a3844d97a7bccd9221c548f6",
            "82403241c07846cfbeef2db707bac8e6",
            "f182d9eaa74848038cf4c6fc6ed800a5",
            "4a265d80fe794d2f92eb0b4a693d9e4e",
            "95b3782167fc4b43b27fb551ca80b113",
            "46da9116d31847b995cf3bacd1d7727e",
            "ed0b4c127ef84cdcbd863007e333919b",
            "3188c4d38ac04ec6a4d2f4b791eff1e4",
            "aab12eee6b694a2b98d397f9405a9eb8",
            "41a4cb57e3924a099332d4826c1a929e",
            "3ee590671820483681fdcebdabb3dfc0",
            "3e0515f7f63a4716bc9a51e5916023e8",
            "489f67d54dde4b1e87348fe258ce05e8",
            "81ab0680a4494c0a980016091e4e7e3e",
            "1f785391c2524fa8ad601e6897b939b9",
            "1321fa4eb8914e1f993c1b3b943d94a0",
            "a0363a09a6bf414f9cd7bffa6b89933b",
            "2c39b6ef85494a30bc780533c437d3f4",
            "a69f9bf691ca448b908b695ad8a7a045",
            "695e6eb23c514a5fa1996c0c8e106e14",
            "fe685538e45741aeb5ed4ededd878ea8",
            "75c698f1f2c34f3f91ef4972ad9e349b",
            "b90337b3ff90460e9e272c3c084bb215",
            "97048410f2eb4af58fbe203157d726ce",
            "f998326736e34f8081a38fe147a42fb3",
            "366a3981080844f4b580405ff172dec6",
            "93234751937f4843a1cf0a844738eb1c",
            "db448cf991664a609e5a925a4956bead",
            "9f15d01f92f94a4eb510ba374f7d850c",
            "4ce8b40ec0d4483f8ae219c08e849193",
            "8563dd8ccb924b269695c9681db07d66",
            "43d2ecfdcd1a40a5b459e403b8dc4dd0",
            "f4ebeecb5a9b48079d3abd6410d19c5d",
            "232a265c45cb46b4b41dd3c7c4270a97",
            "acfc0ec34be54805840c5624b1803a81",
            "174fb72a262f4f699ae22d5c55e7c2d7",
            "3fd27a441cdc4aefa8d022fc013d3617",
            "36a72f03ac4541a9940270c50d5f7ea0",
            "379a47c7e1b741bba3fdbce9db7fa667",
            "7209171a002e4eaf90f9bf1e6d658876",
            "8477081974a44b86848412186027bc3f",
            "ff93ed79055545b781c6fde5f275050a",
            "8e77805812eb44bca60208f32b22e456",
            "1f7d45629ece43faa9fd6db8b1a85e52",
            "80c0bce4e94246388d567adfd62167e8",
            "6772451e97934f79aa0692da7b1589b3",
            "7a468bae000c4f33bcd0ef159e56abbb",
            "bb979734ea16492cb0a52bde29e11604",
            "72385d6a178f41a49d313df5df24c9fc",
            "4c9fb80e84284f03b144e7f7909e0273",
            "04cda0431b094105a12dd82c139fab41",
            "2e2e740c2f1c400abd70eb3dcb588f6f",
            "8920ed5e8ce149a5b8ea64349970edb6",
            "de8e9fd7be9a4c10b362cb789c7d4f2b",
            "46140f285cfb4b91b61a9e07cde70ef2",
            "98f1f35f910742c4b16ca10b353b0a39",
            "60bd4e8feba7461f9384e647c64f09d6"
          ]
        },
        "outputId": "820a8272-f968-46dc-c52f-15dbd4768970",
        "id": "Yyh2GNddl9kS"
      },
      "outputs": [
        {
          "output_type": "stream",
          "name": "stderr",
          "text": [
            "/usr/local/lib/python3.10/dist-packages/huggingface_hub/utils/_token.py:89: UserWarning: \n",
            "The secret `HF_TOKEN` does not exist in your Colab secrets.\n",
            "To authenticate with the Hugging Face Hub, create a token in your settings tab (https://huggingface.co/settings/tokens), set it as secret in your Google Colab and restart your session.\n",
            "You will be able to reuse this secret in all of your notebooks.\n",
            "Please note that authentication is recommended but still optional to access public models or datasets.\n",
            "  warnings.warn(\n"
          ]
        },
        {
          "output_type": "display_data",
          "data": {
            "text/plain": [
              "config.json:   0%|          | 0.00/1.40k [00:00<?, ?B/s]"
            ],
            "application/vnd.jupyter.widget-view+json": {
              "version_major": 2,
              "version_minor": 0,
              "model_id": "60e36b063ad741e8bffee7199e584c8c"
            }
          },
          "metadata": {}
        },
        {
          "output_type": "display_data",
          "data": {
            "text/plain": [
              "model.safetensors:   0%|          | 0.00/990M [00:00<?, ?B/s]"
            ],
            "application/vnd.jupyter.widget-view+json": {
              "version_major": 2,
              "version_minor": 0,
              "model_id": "1b3f5c5a7f174c4da95473a78308e9ad"
            }
          },
          "metadata": {}
        },
        {
          "output_type": "display_data",
          "data": {
            "text/plain": [
              "generation_config.json:   0%|          | 0.00/147 [00:00<?, ?B/s]"
            ],
            "application/vnd.jupyter.widget-view+json": {
              "version_major": 2,
              "version_minor": 0,
              "model_id": "f182d9eaa74848038cf4c6fc6ed800a5"
            }
          },
          "metadata": {}
        },
        {
          "output_type": "display_data",
          "data": {
            "text/plain": [
              "tokenizer_config.json:   0%|          | 0.00/2.54k [00:00<?, ?B/s]"
            ],
            "application/vnd.jupyter.widget-view+json": {
              "version_major": 2,
              "version_minor": 0,
              "model_id": "81ab0680a4494c0a980016091e4e7e3e"
            }
          },
          "metadata": {}
        },
        {
          "output_type": "display_data",
          "data": {
            "text/plain": [
              "spiece.model:   0%|          | 0.00/792k [00:00<?, ?B/s]"
            ],
            "application/vnd.jupyter.widget-view+json": {
              "version_major": 2,
              "version_minor": 0,
              "model_id": "f998326736e34f8081a38fe147a42fb3"
            }
          },
          "metadata": {}
        },
        {
          "output_type": "display_data",
          "data": {
            "text/plain": [
              "special_tokens_map.json:   0%|          | 0.00/2.20k [00:00<?, ?B/s]"
            ],
            "application/vnd.jupyter.widget-view+json": {
              "version_major": 2,
              "version_minor": 0,
              "model_id": "174fb72a262f4f699ae22d5c55e7c2d7"
            }
          },
          "metadata": {}
        },
        {
          "output_type": "display_data",
          "data": {
            "text/plain": [
              "tokenizer.json:   0%|          | 0.00/2.42M [00:00<?, ?B/s]"
            ],
            "application/vnd.jupyter.widget-view+json": {
              "version_major": 2,
              "version_minor": 0,
              "model_id": "7a468bae000c4f33bcd0ef159e56abbb"
            }
          },
          "metadata": {}
        },
        {
          "output_type": "stream",
          "name": "stderr",
          "text": [
            "You are using the default legacy behaviour of the <class 'transformers.models.t5.tokenization_t5.T5Tokenizer'>. This is expected, and simply means that the `legacy` (previous) behavior will be used so nothing changes for you. If you want to use the new behaviour, set `legacy=False`. This should only be set if you understand what it means, and thoroughly read the reason why this was added as explained in https://github.com/huggingface/transformers/pull/24565\n",
            "Special tokens have been added in the vocabulary, make sure the associated word embeddings are fine-tuned or trained.\n"
          ]
        }
      ],
      "source": [
        "from transformers import T5Tokenizer, T5ForConditionalGeneration\n",
        "\n",
        "class ImageToT5(nn.Module):\n",
        "    def __init__(self, t5_model_name='t5-small', t5_d_model=50):\n",
        "        super(ImageToT5, self).__init__()\n",
        "        self.resnet = CNNNet(output_dim=t5_d_model)\n",
        "        self.t5 = T5ForConditionalGeneration.from_pretrained(t5_model_name, cache_dir=\"./cache/\")\n",
        "\n",
        "    def generate(self, images, max_length, return_features=False):\n",
        "        # 提取图像特征\n",
        "        image_features = self.resnet(images)\n",
        "\n",
        "        # 使用T5进行生成任务\n",
        "        outputs = self.t5.generate(input_ids=image_features.long(), max_length=max_length)\n",
        "\n",
        "        if return_features:\n",
        "            return image_features, outputs\n",
        "        else:\n",
        "            return outputs\n",
        "\n",
        "    def forward(self, images, labels=None):\n",
        "        # 提取图像特征\n",
        "        image_features = self.resnet(images)\n",
        "\n",
        "        # 使用T5进行生成任务\n",
        "        outputs = self.t5(input_ids=image_features.long(), labels=labels)\n",
        "        return outputs\n",
        "\n",
        "# 初始化模型\n",
        "image_to_t5_model = ImageToT5(t5_model_name='google/flan-t5-base', t5_d_model=100).to(device)\n",
        "tokenizer = T.T5Tokenizer.from_pretrained(\"google/flan-t5-base\", cache_dir=\"./cache/\")"
      ]
    },
    {
      "cell_type": "code",
      "execution_count": null,
      "metadata": {
        "id": "NAtQ8UHZl9kT"
      },
      "outputs": [],
      "source": [
        "import cv2 as cv\n",
        "import os\n",
        "from torch.utils.data import Dataset, DataLoader\n",
        "import pandas as pd\n",
        "import numpy as np\n"
      ]
    },
    {
      "cell_type": "code",
      "execution_count": null,
      "metadata": {
        "id": "AO9Mg39Ll9kT"
      },
      "outputs": [],
      "source": [
        "class CommonGenDataset(Dataset):\n",
        "    def __init__(self, split=\"train\")-> None:\n",
        "        super().__init__()\n",
        "\n",
        "        def read_data_path(root):\n",
        "            data_path = []\n",
        "            for i in os.listdir(root):\n",
        "                file = os.path.join(root, i)\n",
        "                data_path.append(file)\n",
        "\n",
        "            return data_path\n",
        "\n",
        "        def load_img(path, path_map_text):\n",
        "          img = cv.imread(path)\n",
        "\n",
        "\n",
        "          bound = max(img.shape[:2])\n",
        "          new_img = np.zeros((bound, bound, 3), dtype=img.dtype)\n",
        "\n",
        "          offset_x = (bound - img.shape[0]) // 2\n",
        "          offset_y = (bound - img.shape[1]) // 2\n",
        "          new_img[offset_x : img.shape[0] + offset_x, offset_y: img.shape[1] + offset_y, :] = img\n",
        "\n",
        "\n",
        "          img = new_img\n",
        "          img = cv.resize(img, (224, 224))\n",
        "          img = cv.fastNlMeansDenoisingColored(img,None,10,10,7,21)\n",
        "          img = img.transpose(2,0,1)\n",
        "\n",
        "          return img, path_map_text[\"_\".join(path.split('/')[-1].split(\"_\")[:3])]\n",
        "\n",
        "        assert split in [\"train\", \"test\"]\n",
        "        if split == \"train\":\n",
        "            self.data_path = read_data_path(\"./CXIRG_Data/train_data/images\")\n",
        "            data = pd.read_excel(\"./CXIRG_Data/train_data/reports.xlsx\")\n",
        "        else:\n",
        "            self.data_path = read_data_path(\"./CXIRG_Data/valid_data/images\")\n",
        "            data = pd.read_excel(\"./CXIRG_Data/valid_data/reports.xlsx\")\n",
        "\n",
        "        self.path_map_text = {}\n",
        "        for name, text in zip(data[\"name\"], data[\"text\"]):\n",
        "            self.path_map_text[name] = text\n",
        "\n",
        "        self.data = []\n",
        "        for path in self.data_path:\n",
        "          concepts, targets = load_img(path, self.path_map_text)\n",
        "          self.data.append({\"concepts\": concepts, \"targets\":targets, \"path\": path})\n",
        "\n",
        "    def __getitem__(self, index):\n",
        "        return self.data[index]\n",
        "\n",
        "    def __len__(self):\n",
        "        return len(self.data)"
      ]
    },
    {
      "cell_type": "code",
      "execution_count": null,
      "metadata": {
        "id": "pM_iRGbsl9kT"
      },
      "outputs": [],
      "source": [
        "def get_tensor(sample):\n",
        "    # 將模型的輸入和ground truth打包成Tensor\n",
        "    model_inputs = torch.tensor([each[\"concepts\"] for each in sample])\n",
        "    model_outputs = tokenizer.batch_encode_plus([each[\"targets\"] for each in sample], padding=True, truncation=True, return_tensors=\"pt\")\n",
        "    paths = [each[\"path\"] for each in sample]\n",
        "    return model_inputs.to(device), model_outputs[\"input_ids\"].to(device), paths"
      ]
    },
    {
      "cell_type": "code",
      "execution_count": null,
      "metadata": {
        "id": "0b0UJqdnl9kT"
      },
      "outputs": [],
      "source": [
        "from ignite.metrics import Rouge\n",
        "\n",
        "lr = 1e-5\n",
        "epochs = 100\n",
        "optimizer = AdamW(image_to_t5_model.parameters(), lr = 1e-3)\n",
        "train_batch_size = 8\n",
        "validation_batch_size = 8"
      ]
    },
    {
      "cell_type": "code",
      "execution_count": null,
      "metadata": {
        "id": "qg-VZtd_l9kU"
      },
      "outputs": [],
      "source": [
        "common_gen_train = DataLoader(CommonGenDataset(split=\"train\"), collate_fn=get_tensor, batch_size=train_batch_size, shuffle=True)\n",
        "common_gen_validation = DataLoader(CommonGenDataset(split=\"test\"), collate_fn=get_tensor, batch_size=validation_batch_size, shuffle=False)\n",
        "rouge = Rouge(variants=[\"L\", 2], multiref=\"best\")"
      ]
    },
    {
      "cell_type": "code",
      "execution_count": null,
      "metadata": {
        "id": "vPazQBJjl9kU"
      },
      "outputs": [],
      "source": [
        "def evaluate(model):\n",
        "    pbar = tqdm(common_gen_validation)\n",
        "    pbar.set_description(f\"Evaluating\")\n",
        "\n",
        "    for inputs, targets, _ in pbar:\n",
        "        output = [re.split(r\"[/]\", each.replace(\"<pad>\", \"\")) for each in tokenizer.batch_decode(image_to_t5_model.generate(inputs.float(), max_length=1000))]\n",
        "        targets = [re.split(r\"[/]\", each.replace(\"<pad>\", \"\")) for each in tokenizer.batch_decode(targets)]\n",
        "        for i in range(len(output)):\n",
        "            sentences = [s.replace('.', ' .').split() for s in output[i]]\n",
        "            ground_thruths = [t.replace('.', ' .').split() for t in targets[i]]\n",
        "            for s in sentences:\n",
        "                rouge.update(([s], [ground_thruths]))\n",
        "    return rouge.compute()\n"
      ]
    },
    {
      "cell_type": "code",
      "execution_count": null,
      "metadata": {
        "id": "pM1zceb8l9kU"
      },
      "outputs": [],
      "source": [
        "def report(images, print_out=False):\n",
        "  out = image_to_t5_model.generate(images.float(), max_length=1000)[0]\n",
        "  out = tokenizer.decode(out, skip_special_tokens=True)\n",
        "  if print_out:\n",
        "    print(out)\n",
        "  return out\n"
      ]
    },
    {
      "cell_type": "code",
      "execution_count": null,
      "metadata": {
        "colab": {
          "base_uri": "https://localhost:8080/"
        },
        "outputId": "f3eb8115-6f24-4ae4-dcc3-2c91199dfb18",
        "id": "ZPT1qZJul9kU"
      },
      "outputs": [
        {
          "output_type": "stream",
          "name": "stderr",
          "text": [
            "Training epoch [1/100]: 100%|██████████| 12/12 [00:10<00:00,  1.20it/s, loss=0.239]\n",
            "Training epoch [2/100]: 100%|██████████| 12/12 [00:09<00:00,  1.26it/s, loss=0.133]\n",
            "Training epoch [3/100]: 100%|██████████| 12/12 [00:09<00:00,  1.21it/s, loss=0.0357]\n",
            "Training epoch [4/100]: 100%|██████████| 12/12 [00:10<00:00,  1.12it/s, loss=0.081]\n",
            "Training epoch [5/100]: 100%|██████████| 12/12 [00:10<00:00,  1.16it/s, loss=0.0528]\n",
            "Training epoch [6/100]: 100%|██████████| 12/12 [00:09<00:00,  1.24it/s, loss=0.0693]\n",
            "Training epoch [7/100]: 100%|██████████| 12/12 [00:09<00:00,  1.20it/s, loss=0.0349]\n",
            "Training epoch [8/100]: 100%|██████████| 12/12 [00:10<00:00,  1.19it/s, loss=0.0739]\n",
            "Training epoch [9/100]: 100%|██████████| 12/12 [00:09<00:00,  1.21it/s, loss=0.0204]\n",
            "Training epoch [10/100]: 100%|██████████| 12/12 [00:09<00:00,  1.24it/s, loss=0.108]\n",
            "Training epoch [11/100]: 100%|██████████| 12/12 [00:10<00:00,  1.19it/s, loss=0.011]\n",
            "Training epoch [12/100]: 100%|██████████| 12/12 [00:09<00:00,  1.21it/s, loss=0.0306]\n",
            "Training epoch [13/100]: 100%|██████████| 12/12 [00:09<00:00,  1.22it/s, loss=0.187]\n",
            "Training epoch [14/100]: 100%|██████████| 12/12 [00:09<00:00,  1.20it/s, loss=0.297]\n",
            "Training epoch [15/100]: 100%|██████████| 12/12 [00:10<00:00,  1.18it/s, loss=0.0995]\n",
            "Training epoch [16/100]: 100%|██████████| 12/12 [00:10<00:00,  1.18it/s, loss=0.245]\n",
            "Training epoch [17/100]: 100%|██████████| 12/12 [00:09<00:00,  1.27it/s, loss=0.0814]\n",
            "Training epoch [18/100]: 100%|██████████| 12/12 [00:10<00:00,  1.19it/s, loss=0.163]\n",
            "Training epoch [19/100]: 100%|██████████| 12/12 [00:10<00:00,  1.18it/s, loss=0.05]\n",
            "Training epoch [20/100]: 100%|██████████| 12/12 [00:09<00:00,  1.22it/s, loss=0.0395]\n"
          ]
        },
        {
          "output_type": "stream",
          "name": "stdout",
          "text": [
            "answer: _x000D_ Chest plain film view showed:_x000D_ Impression:_x000D_ -Bilateral apical pleural thickening. _x000D_ -Left lower lung subsegmental atelectasis. _x000D_ -Blunting left CP angle. _x000D_ -Bilateral hilar enlargement. _x000D_ -Normal heart size._x000D_ -DJD of spine. _x000D_ -Mild scoliosis of spine.</s>\n",
            "generate: Chest plain film view showed:_x000D_ Impression:_x000D_ -Suspicious pulmonary edema. Superimposed pneumonia cannot be excluded. _x000D_ -The mediastinum is not widened._x000D_ -Normal heart size._x000D_ -DJD of spine._x000D_ -S/P NG and endotracheal tube._x000D_ -S/P Rt subclavian CVC insertion.\n"
          ]
        },
        {
          "output_type": "stream",
          "name": "stderr",
          "text": [
            "Evaluating: 100%|██████████| 2/2 [00:24<00:00, 12.00s/it]\n"
          ]
        },
        {
          "output_type": "stream",
          "name": "stdout",
          "text": [
            "Rouge-2 score on epoch 19: {'Rouge-L-P': 0.2696590241034683, 'Rouge-L-R': 0.1657760875177821, 'Rouge-L-F': 0.1657760875177821, 'Rouge-2-P': 0.011959105485675534, 'Rouge-2-R': 0.02395871730092777, 'Rouge-2-F': 0.02395871730092777}\n"
          ]
        },
        {
          "output_type": "stream",
          "name": "stderr",
          "text": [
            "Training epoch [21/100]: 100%|██████████| 12/12 [00:09<00:00,  1.25it/s, loss=0.0655]\n",
            "Training epoch [22/100]: 100%|██████████| 12/12 [00:09<00:00,  1.20it/s, loss=0.0212]\n",
            "Training epoch [23/100]: 100%|██████████| 12/12 [00:09<00:00,  1.20it/s, loss=0.0433]\n",
            "Training epoch [24/100]: 100%|██████████| 12/12 [00:09<00:00,  1.28it/s, loss=0.0262]\n",
            "Training epoch [25/100]: 100%|██████████| 12/12 [00:10<00:00,  1.20it/s, loss=0.014]\n",
            "Training epoch [26/100]: 100%|██████████| 12/12 [00:10<00:00,  1.18it/s, loss=0.0521]\n",
            "Training epoch [27/100]: 100%|██████████| 12/12 [00:09<00:00,  1.21it/s, loss=0.00432]\n",
            "Training epoch [28/100]: 100%|██████████| 12/12 [00:09<00:00,  1.25it/s, loss=0.0191]\n",
            "Training epoch [29/100]: 100%|██████████| 12/12 [00:10<00:00,  1.13it/s, loss=0.0408]\n",
            "Training epoch [30/100]: 100%|██████████| 12/12 [00:09<00:00,  1.21it/s, loss=0.0304]\n",
            "Training epoch [31/100]: 100%|██████████| 12/12 [00:09<00:00,  1.23it/s, loss=0.0169]\n",
            "Training epoch [32/100]: 100%|██████████| 12/12 [00:09<00:00,  1.22it/s, loss=0.00672]\n",
            "Training epoch [33/100]: 100%|██████████| 12/12 [00:09<00:00,  1.21it/s, loss=0.000278]\n",
            "Training epoch [34/100]: 100%|██████████| 12/12 [00:10<00:00,  1.19it/s, loss=0.0276]\n",
            "Training epoch [35/100]: 100%|██████████| 12/12 [00:09<00:00,  1.27it/s, loss=0.0402]\n",
            "Training epoch [36/100]: 100%|██████████| 12/12 [00:10<00:00,  1.19it/s, loss=0.0684]\n",
            "Training epoch [37/100]: 100%|██████████| 12/12 [00:10<00:00,  1.20it/s, loss=0.0149]\n",
            "Training epoch [38/100]: 100%|██████████| 12/12 [00:09<00:00,  1.21it/s, loss=0.00791]\n",
            "Training epoch [39/100]: 100%|██████████| 12/12 [00:09<00:00,  1.23it/s, loss=0.000678]\n",
            "Training epoch [40/100]: 100%|██████████| 12/12 [00:10<00:00,  1.20it/s, loss=0.0019]\n"
          ]
        },
        {
          "output_type": "stream",
          "name": "stdout",
          "text": [
            "answer: Chest X ray PA view shows:_x000D_ Impression:_x000D_ - S/P sternotomy with wire fixation. _x000D_ Surgcial clips in Lt medial lung. _x000D_ - Increased both lung markings. _x000D_ - Blunting bilateral CP angles._x000D_ - Clips in upper abdomen._x000D_ - Suspicious hiatal hernia._x000D_ - Calcified nodules in right upper abdomen._x000D_ - Scoliosis and DJD of spine. _x000D_ Old fracture of right ribs.</s>\n",
            "generate: Chest AP view showed:_x000D_ 1.Enlarged heart size with tortuous aorta._x000D_ 2.Bilateral lung reticulonodular infiltrations._x000D_ A R't upper lung mass. _x000D_ R't middle and lower lung faint patches._x000D_ 3.No mediastinum widening._x000D_ 4.s/p R't jugular CVP._x000D_\n"
          ]
        },
        {
          "output_type": "stream",
          "name": "stderr",
          "text": [
            "Evaluating: 100%|██████████| 2/2 [00:25<00:00, 12.77s/it]\n"
          ]
        },
        {
          "output_type": "stream",
          "name": "stdout",
          "text": [
            "Rouge-2 score on epoch 39: {'Rouge-L-P': 0.31634448096685264, 'Rouge-L-R': 0.25395882034675354, 'Rouge-L-F': 0.25395882034675354, 'Rouge-2-P': 0.04771501030511803, 'Rouge-2-R': 0.06583248979412391, 'Rouge-2-F': 0.06583248979412391}\n"
          ]
        },
        {
          "output_type": "stream",
          "name": "stderr",
          "text": [
            "Training epoch [41/100]: 100%|██████████| 12/12 [00:10<00:00,  1.19it/s, loss=0.000681]\n",
            "Training epoch [42/100]: 100%|██████████| 12/12 [00:09<00:00,  1.22it/s, loss=0.00111]\n",
            "Training epoch [43/100]: 100%|██████████| 12/12 [00:09<00:00,  1.22it/s, loss=0.00305]\n",
            "Training epoch [44/100]: 100%|██████████| 12/12 [00:10<00:00,  1.19it/s, loss=0.000544]\n",
            "Training epoch [45/100]: 100%|██████████| 12/12 [00:10<00:00,  1.19it/s, loss=0.000255]\n",
            "Training epoch [46/100]: 100%|██████████| 12/12 [00:09<00:00,  1.27it/s, loss=0.0144]\n",
            "Training epoch [47/100]: 100%|██████████| 12/12 [00:10<00:00,  1.19it/s, loss=0.0326]\n",
            "Training epoch [48/100]: 100%|██████████| 12/12 [00:10<00:00,  1.19it/s, loss=0.00991]\n",
            "Training epoch [49/100]: 100%|██████████| 12/12 [00:09<00:00,  1.23it/s, loss=0.000461]\n",
            "Training epoch [50/100]: 100%|██████████| 12/12 [00:09<00:00,  1.26it/s, loss=0.00975]\n",
            "Training epoch [51/100]: 100%|██████████| 12/12 [00:10<00:00,  1.18it/s, loss=0.00897]\n",
            "Training epoch [52/100]: 100%|██████████| 12/12 [00:10<00:00,  1.18it/s, loss=0.0134]\n",
            "Training epoch [53/100]: 100%|██████████| 12/12 [00:09<00:00,  1.26it/s, loss=0.00197]\n",
            "Training epoch [54/100]: 100%|██████████| 12/12 [00:10<00:00,  1.14it/s, loss=0.000164]\n",
            "Training epoch [55/100]: 100%|██████████| 12/12 [00:10<00:00,  1.19it/s, loss=0.00123]\n",
            "Training epoch [56/100]: 100%|██████████| 12/12 [00:09<00:00,  1.22it/s, loss=0.000305]\n",
            "Training epoch [57/100]: 100%|██████████| 12/12 [00:09<00:00,  1.29it/s, loss=8.04e-5]\n",
            "Training epoch [58/100]: 100%|██████████| 12/12 [00:10<00:00,  1.19it/s, loss=7.97e-5]\n",
            "Training epoch [59/100]: 100%|██████████| 12/12 [00:10<00:00,  1.20it/s, loss=2.5e-5]\n",
            "Training epoch [60/100]: 100%|██████████| 12/12 [00:09<00:00,  1.23it/s, loss=4.18e-5]\n"
          ]
        },
        {
          "output_type": "stream",
          "name": "stdout",
          "text": [
            "answer: Chest plain film shows:_x000D_ Impression:_x000D_ -Increased infiltrations in both lungs._x000D_ -Blunting bilateral CP angles._x000D_ Elevated right hemidiaphragm. _x000D_ -Tortuous atherosclerotic dilated aorta._x000D_ -Cardiomegaly._x000D_ -DJD of spine. _x000D_ S/P fixation in L-spine.</s>\n",
            "generate: Chest plain film shows:_x000D_ Impression:_x000D_ -Increased infiltrations in both lungs._x000D_ -Blunting bilateral CP angles._x000D_ Elevated right hemidiaphragm. _x000D_ -Tortuous atherosclerotic dilated aorta._x000D_ -Cardiomegaly._x000D_ -DJD of spine. _x000D_ S/P fixation in L-spine.\n"
          ]
        },
        {
          "output_type": "stream",
          "name": "stderr",
          "text": [
            "Evaluating: 100%|██████████| 2/2 [00:24<00:00, 12.14s/it]\n"
          ]
        },
        {
          "output_type": "stream",
          "name": "stdout",
          "text": [
            "Rouge-2 score on epoch 59: {'Rouge-L-P': 0.2771425315510963, 'Rouge-L-R': 0.20289060344059154, 'Rouge-L-F': 0.20289060344059154, 'Rouge-2-P': 0.04561430884205232, 'Rouge-2-R': 0.05339653574100636, 'Rouge-2-F': 0.05339653574100636}\n"
          ]
        },
        {
          "output_type": "stream",
          "name": "stderr",
          "text": [
            "Training epoch [61/100]: 100%|██████████| 12/12 [00:09<00:00,  1.24it/s, loss=3.58e-5]\n",
            "Training epoch [62/100]: 100%|██████████| 12/12 [00:10<00:00,  1.17it/s, loss=7.32e-5]\n",
            "Training epoch [63/100]: 100%|██████████| 12/12 [00:10<00:00,  1.18it/s, loss=4.36e-5]\n",
            "Training epoch [64/100]: 100%|██████████| 12/12 [00:09<00:00,  1.23it/s, loss=5.78e-5]\n",
            "Training epoch [65/100]: 100%|██████████| 12/12 [00:10<00:00,  1.20it/s, loss=5.84e-5]\n",
            "Training epoch [66/100]: 100%|██████████| 12/12 [00:10<00:00,  1.20it/s, loss=4.38e-5]\n",
            "Training epoch [67/100]: 100%|██████████| 12/12 [00:09<00:00,  1.20it/s, loss=3.85e-5]\n",
            "Training epoch [68/100]: 100%|██████████| 12/12 [00:09<00:00,  1.28it/s, loss=1.9e-5]\n",
            "Training epoch [69/100]: 100%|██████████| 12/12 [00:09<00:00,  1.21it/s, loss=3.24e-5]\n",
            "Training epoch [70/100]: 100%|██████████| 12/12 [00:10<00:00,  1.19it/s, loss=1.21e-5]\n",
            "Training epoch [71/100]: 100%|██████████| 12/12 [00:09<00:00,  1.24it/s, loss=2.44e-5]\n",
            "Training epoch [72/100]: 100%|██████████| 12/12 [00:09<00:00,  1.23it/s, loss=1.77e-5]\n",
            "Training epoch [73/100]: 100%|██████████| 12/12 [00:10<00:00,  1.19it/s, loss=1.19e-5]\n",
            "Training epoch [74/100]: 100%|██████████| 12/12 [00:09<00:00,  1.20it/s, loss=0.000147]\n",
            "Training epoch [75/100]: 100%|██████████| 12/12 [00:09<00:00,  1.26it/s, loss=3.44e-5]\n",
            "Training epoch [76/100]: 100%|██████████| 12/12 [00:10<00:00,  1.19it/s, loss=6.66e-6]\n",
            "Training epoch [77/100]: 100%|██████████| 12/12 [00:09<00:00,  1.21it/s, loss=9.32e-5]\n",
            "Training epoch [78/100]: 100%|██████████| 12/12 [00:09<00:00,  1.22it/s, loss=2.3e-5]\n",
            "Training epoch [79/100]: 100%|██████████| 12/12 [00:10<00:00,  1.14it/s, loss=3.64e-5]\n",
            "Training epoch [80/100]: 100%|██████████| 12/12 [00:10<00:00,  1.19it/s, loss=1.49e-5]\n"
          ]
        },
        {
          "output_type": "stream",
          "name": "stdout",
          "text": [
            "answer: _x000D_ Chest film shows:_x000D_ _x000D_ Impression:_x000D_ -Bilateral lungs nodules, suspected metastasis. _x000D_ -Blunting right CP angle. _x000D_ -The heart shadow is not enlarged. _x000D_ -Atherosclerotic aorta. _x000D_ -Elevated right hemidiaphragm._x000D_ -Spondylosis of thoracolumbar spine._x000D_ -S/P Lt subclavian Port-A-cath. _x000D_ -S/P right MRM.</s>\n",
            "generate: _x000D_ Chest film shows:_x000D_ _x000D_ Impression:_x000D_ -Bilateral lungs nodules, suspected metastasis. _x000D_ -Blunting right CP angle. _x000D_ -The heart shadow is not enlarged. _x000D_ -Atherosclerotic aorta. _x000D_ -Elevated right hemidiaphragm._x000D_ -Spondylosis of thoracolumbar spine._x000D_ -S/P Lt subclavian Port-A-cath. _x000D_ -S/P right MRM.\n"
          ]
        },
        {
          "output_type": "stream",
          "name": "stderr",
          "text": [
            "Evaluating: 100%|██████████| 2/2 [00:24<00:00, 12.32s/it]\n"
          ]
        },
        {
          "output_type": "stream",
          "name": "stdout",
          "text": [
            "Rouge-2 score on epoch 79: {'Rouge-L-P': 0.27980921526317964, 'Rouge-L-R': 0.19881659037090774, 'Rouge-L-F': 0.19881659037090774, 'Rouge-2-P': 0.04923144710193638, 'Rouge-2-R': 0.05324556235887756, 'Rouge-2-F': 0.05324556235887756}\n"
          ]
        },
        {
          "output_type": "stream",
          "name": "stderr",
          "text": [
            "Training epoch [81/100]: 100%|██████████| 12/12 [00:10<00:00,  1.17it/s, loss=9.72e-6]\n",
            "Training epoch [82/100]: 100%|██████████| 12/12 [00:09<00:00,  1.21it/s, loss=3.19e-5]\n",
            "Training epoch [83/100]: 100%|██████████| 12/12 [00:09<00:00,  1.25it/s, loss=6.33e-5]\n",
            "Training epoch [84/100]: 100%|██████████| 12/12 [00:10<00:00,  1.19it/s, loss=6.23e-6]\n",
            "Training epoch [85/100]: 100%|██████████| 12/12 [00:10<00:00,  1.18it/s, loss=2.24e-5]\n",
            "Training epoch [86/100]: 100%|██████████| 12/12 [00:09<00:00,  1.24it/s, loss=1.13e-5]\n",
            "Training epoch [87/100]: 100%|██████████| 12/12 [00:09<00:00,  1.24it/s, loss=1.65e-5]\n",
            "Training epoch [88/100]: 100%|██████████| 12/12 [00:10<00:00,  1.20it/s, loss=2.3e-5]\n",
            "Training epoch [89/100]: 100%|██████████| 12/12 [00:10<00:00,  1.20it/s, loss=1.26e-5]\n",
            "Training epoch [90/100]: 100%|██████████| 12/12 [00:09<00:00,  1.26it/s, loss=1.85e-5]\n",
            "Training epoch [91/100]: 100%|██████████| 12/12 [00:10<00:00,  1.19it/s, loss=9.76e-6]\n",
            "Training epoch [92/100]: 100%|██████████| 12/12 [00:10<00:00,  1.18it/s, loss=1.13e-5]\n",
            "Training epoch [93/100]: 100%|██████████| 12/12 [00:09<00:00,  1.24it/s, loss=2.1e-5]\n",
            "Training epoch [94/100]: 100%|██████████| 12/12 [00:09<00:00,  1.22it/s, loss=9.46e-6]\n",
            "Training epoch [95/100]: 100%|██████████| 12/12 [00:10<00:00,  1.19it/s, loss=1.78e-5]\n",
            "Training epoch [96/100]: 100%|██████████| 12/12 [00:10<00:00,  1.19it/s, loss=1.52e-5]\n",
            "Training epoch [97/100]: 100%|██████████| 12/12 [00:09<00:00,  1.26it/s, loss=1.58e-5]\n",
            "Training epoch [98/100]: 100%|██████████| 12/12 [00:10<00:00,  1.19it/s, loss=1.67e-5]\n",
            "Training epoch [99/100]: 100%|██████████| 12/12 [00:10<00:00,  1.18it/s, loss=2.48e-6]\n",
            "Training epoch [100/100]: 100%|██████████| 12/12 [00:09<00:00,  1.20it/s, loss=2.5e-6]\n"
          ]
        },
        {
          "output_type": "stream",
          "name": "stdout",
          "text": [
            "answer: Chest plain film shows:_x000D_ Impression:_x000D_ -Increased infiltrates in both lungs. _x000D_ -Blunting bilateral CP angles. _x000D_ -Cardiomegaly. _x000D_ -Atherosclerosis of aorta. _x000D_ -Scoliosis and DJD of spine. _x000D_ -Bilateral apical pleural thickening. _x000D_</s>\n",
            "generate: Chest plain film shows:_x000D_ Impression:_x000D_ -Increased infiltrates in both lungs. _x000D_ -Blunting bilateral CP angles. _x000D_ -Cardiomegaly. _x000D_ -Atherosclerosis of aorta. _x000D_ -Scoliosis and DJD of spine. _x000D_ -Bilateral apical pleural thickening. _x000D_\n"
          ]
        },
        {
          "output_type": "stream",
          "name": "stderr",
          "text": [
            "Evaluating: 100%|██████████| 2/2 [00:24<00:00, 12.24s/it]\n"
          ]
        },
        {
          "output_type": "stream",
          "name": "stdout",
          "text": [
            "Rouge-2 score on epoch 99: {'Rouge-L-P': 0.2515772785510445, 'Rouge-L-R': 0.17915200152538638, 'Rouge-L-F': 0.17915200152538638, 'Rouge-2-P': 0.04702450431608154, 'Rouge-2-R': 0.04869058392733173, 'Rouge-2-F': 0.04869058392733173}\n"
          ]
        }
      ],
      "source": [
        "for ep in range(epochs):\n",
        "    pbar = tqdm(common_gen_train)\n",
        "    pbar.set_description(f\"Training epoch [{ep+1}/{epochs}]\")\n",
        "    for inputs, targets, _ in pbar:\n",
        "        optimizer.zero_grad()\n",
        "\n",
        "        loss = image_to_t5_model(images=inputs.float(), labels=targets).loss\n",
        "        loss.backward()\n",
        "        optimizer.step()\n",
        "        pbar.set_postfix(loss = loss.item())\n",
        "    if (ep+1) % 20 == 0:\n",
        "      print(f\"answer: {tokenizer.decode(targets[0])}\\ngenerate: {report(inputs[:1])}\")\n",
        "      print(f\"Rouge-2 score on epoch {ep}:\", evaluate(image_to_t5_model))\n",
        "torch.save(image_to_t5_model, f'd_100_denoise.mod')"
      ]
    },
    {
      "cell_type": "code",
      "execution_count": null,
      "metadata": {
        "id": "DMjEb28el9kU"
      },
      "outputs": [],
      "source": [
        "gen = []\n",
        "ans = []\n",
        "pth = []\n",
        "for images, texts, paths in common_gen_validation:\n",
        "  for image, text, path in zip(images, texts, paths):\n",
        "    gen.append(report(image.unsqueeze(0)))\n",
        "    ans.append(tokenizer.decode(text, skip_special_tokens=True))\n",
        "    pth.append(path)"
      ]
    },
    {
      "cell_type": "code",
      "source": [
        "df = pd.DataFrame({'path':pth, 'gen': gen, 'ans': ans})\n",
        "df.to_excel(\"out1_denoise.xlsx\")"
      ],
      "metadata": {
        "id": "o9oEAXtXl9kV"
      },
      "execution_count": null,
      "outputs": []
    },
    {
      "cell_type": "code",
      "source": [],
      "metadata": {
        "id": "sSrJjGyrl9kV"
      },
      "execution_count": null,
      "outputs": []
    }
  ],
  "metadata": {
    "accelerator": "GPU",
    "colab": {
      "gpuType": "T4",
      "provenance": []
    },
    "kernelspec": {
      "display_name": "Python 3",
      "name": "python3"
    },
    "language_info": {
      "codemirror_mode": {
        "name": "ipython",
        "version": 3
      },
      "file_extension": ".py",
      "mimetype": "text/x-python",
      "name": "python",
      "nbconvert_exporter": "python",
      "pygments_lexer": "ipython3",
      "version": "3.9.18"
    },
    "widgets": {
      "application/vnd.jupyter.widget-state+json": {
        "60e36b063ad741e8bffee7199e584c8c": {
          "model_module": "@jupyter-widgets/controls",
          "model_name": "HBoxModel",
          "model_module_version": "1.5.0",
          "state": {
            "_dom_classes": [],
            "_model_module": "@jupyter-widgets/controls",
            "_model_module_version": "1.5.0",
            "_model_name": "HBoxModel",
            "_view_count": null,
            "_view_module": "@jupyter-widgets/controls",
            "_view_module_version": "1.5.0",
            "_view_name": "HBoxView",
            "box_style": "",
            "children": [
              "IPY_MODEL_559acd0373c942b7a0165eaa3953ec53",
              "IPY_MODEL_f671b94d8a7149de81c09eb2e1d4e5f2",
              "IPY_MODEL_dc11f24c5c3543508d21d7c7c02c15ba"
            ],
            "layout": "IPY_MODEL_34ea224de42443bb81df1f56f907a18e"
          }
        },
        "559acd0373c942b7a0165eaa3953ec53": {
          "model_module": "@jupyter-widgets/controls",
          "model_name": "HTMLModel",
          "model_module_version": "1.5.0",
          "state": {
            "_dom_classes": [],
            "_model_module": "@jupyter-widgets/controls",
            "_model_module_version": "1.5.0",
            "_model_name": "HTMLModel",
            "_view_count": null,
            "_view_module": "@jupyter-widgets/controls",
            "_view_module_version": "1.5.0",
            "_view_name": "HTMLView",
            "description": "",
            "description_tooltip": null,
            "layout": "IPY_MODEL_0932fc775f464426bc3f3976ef8d8609",
            "placeholder": "​",
            "style": "IPY_MODEL_fe9966d384ab452c98aea930bab49135",
            "value": "config.json: 100%"
          }
        },
        "f671b94d8a7149de81c09eb2e1d4e5f2": {
          "model_module": "@jupyter-widgets/controls",
          "model_name": "FloatProgressModel",
          "model_module_version": "1.5.0",
          "state": {
            "_dom_classes": [],
            "_model_module": "@jupyter-widgets/controls",
            "_model_module_version": "1.5.0",
            "_model_name": "FloatProgressModel",
            "_view_count": null,
            "_view_module": "@jupyter-widgets/controls",
            "_view_module_version": "1.5.0",
            "_view_name": "ProgressView",
            "bar_style": "success",
            "description": "",
            "description_tooltip": null,
            "layout": "IPY_MODEL_b42e9aea1cbc47c889d64083b0db0e9a",
            "max": 1404,
            "min": 0,
            "orientation": "horizontal",
            "style": "IPY_MODEL_6c6e22c6783444a2bd08bc9cc745f6f5",
            "value": 1404
          }
        },
        "dc11f24c5c3543508d21d7c7c02c15ba": {
          "model_module": "@jupyter-widgets/controls",
          "model_name": "HTMLModel",
          "model_module_version": "1.5.0",
          "state": {
            "_dom_classes": [],
            "_model_module": "@jupyter-widgets/controls",
            "_model_module_version": "1.5.0",
            "_model_name": "HTMLModel",
            "_view_count": null,
            "_view_module": "@jupyter-widgets/controls",
            "_view_module_version": "1.5.0",
            "_view_name": "HTMLView",
            "description": "",
            "description_tooltip": null,
            "layout": "IPY_MODEL_cae01dd533e94d94ba9ea54ced6e2a9b",
            "placeholder": "​",
            "style": "IPY_MODEL_73f48090cf5f41d59df2547437714827",
            "value": " 1.40k/1.40k [00:00&lt;00:00, 42.2kB/s]"
          }
        },
        "34ea224de42443bb81df1f56f907a18e": {
          "model_module": "@jupyter-widgets/base",
          "model_name": "LayoutModel",
          "model_module_version": "1.2.0",
          "state": {
            "_model_module": "@jupyter-widgets/base",
            "_model_module_version": "1.2.0",
            "_model_name": "LayoutModel",
            "_view_count": null,
            "_view_module": "@jupyter-widgets/base",
            "_view_module_version": "1.2.0",
            "_view_name": "LayoutView",
            "align_content": null,
            "align_items": null,
            "align_self": null,
            "border": null,
            "bottom": null,
            "display": null,
            "flex": null,
            "flex_flow": null,
            "grid_area": null,
            "grid_auto_columns": null,
            "grid_auto_flow": null,
            "grid_auto_rows": null,
            "grid_column": null,
            "grid_gap": null,
            "grid_row": null,
            "grid_template_areas": null,
            "grid_template_columns": null,
            "grid_template_rows": null,
            "height": null,
            "justify_content": null,
            "justify_items": null,
            "left": null,
            "margin": null,
            "max_height": null,
            "max_width": null,
            "min_height": null,
            "min_width": null,
            "object_fit": null,
            "object_position": null,
            "order": null,
            "overflow": null,
            "overflow_x": null,
            "overflow_y": null,
            "padding": null,
            "right": null,
            "top": null,
            "visibility": null,
            "width": null
          }
        },
        "0932fc775f464426bc3f3976ef8d8609": {
          "model_module": "@jupyter-widgets/base",
          "model_name": "LayoutModel",
          "model_module_version": "1.2.0",
          "state": {
            "_model_module": "@jupyter-widgets/base",
            "_model_module_version": "1.2.0",
            "_model_name": "LayoutModel",
            "_view_count": null,
            "_view_module": "@jupyter-widgets/base",
            "_view_module_version": "1.2.0",
            "_view_name": "LayoutView",
            "align_content": null,
            "align_items": null,
            "align_self": null,
            "border": null,
            "bottom": null,
            "display": null,
            "flex": null,
            "flex_flow": null,
            "grid_area": null,
            "grid_auto_columns": null,
            "grid_auto_flow": null,
            "grid_auto_rows": null,
            "grid_column": null,
            "grid_gap": null,
            "grid_row": null,
            "grid_template_areas": null,
            "grid_template_columns": null,
            "grid_template_rows": null,
            "height": null,
            "justify_content": null,
            "justify_items": null,
            "left": null,
            "margin": null,
            "max_height": null,
            "max_width": null,
            "min_height": null,
            "min_width": null,
            "object_fit": null,
            "object_position": null,
            "order": null,
            "overflow": null,
            "overflow_x": null,
            "overflow_y": null,
            "padding": null,
            "right": null,
            "top": null,
            "visibility": null,
            "width": null
          }
        },
        "fe9966d384ab452c98aea930bab49135": {
          "model_module": "@jupyter-widgets/controls",
          "model_name": "DescriptionStyleModel",
          "model_module_version": "1.5.0",
          "state": {
            "_model_module": "@jupyter-widgets/controls",
            "_model_module_version": "1.5.0",
            "_model_name": "DescriptionStyleModel",
            "_view_count": null,
            "_view_module": "@jupyter-widgets/base",
            "_view_module_version": "1.2.0",
            "_view_name": "StyleView",
            "description_width": ""
          }
        },
        "b42e9aea1cbc47c889d64083b0db0e9a": {
          "model_module": "@jupyter-widgets/base",
          "model_name": "LayoutModel",
          "model_module_version": "1.2.0",
          "state": {
            "_model_module": "@jupyter-widgets/base",
            "_model_module_version": "1.2.0",
            "_model_name": "LayoutModel",
            "_view_count": null,
            "_view_module": "@jupyter-widgets/base",
            "_view_module_version": "1.2.0",
            "_view_name": "LayoutView",
            "align_content": null,
            "align_items": null,
            "align_self": null,
            "border": null,
            "bottom": null,
            "display": null,
            "flex": null,
            "flex_flow": null,
            "grid_area": null,
            "grid_auto_columns": null,
            "grid_auto_flow": null,
            "grid_auto_rows": null,
            "grid_column": null,
            "grid_gap": null,
            "grid_row": null,
            "grid_template_areas": null,
            "grid_template_columns": null,
            "grid_template_rows": null,
            "height": null,
            "justify_content": null,
            "justify_items": null,
            "left": null,
            "margin": null,
            "max_height": null,
            "max_width": null,
            "min_height": null,
            "min_width": null,
            "object_fit": null,
            "object_position": null,
            "order": null,
            "overflow": null,
            "overflow_x": null,
            "overflow_y": null,
            "padding": null,
            "right": null,
            "top": null,
            "visibility": null,
            "width": null
          }
        },
        "6c6e22c6783444a2bd08bc9cc745f6f5": {
          "model_module": "@jupyter-widgets/controls",
          "model_name": "ProgressStyleModel",
          "model_module_version": "1.5.0",
          "state": {
            "_model_module": "@jupyter-widgets/controls",
            "_model_module_version": "1.5.0",
            "_model_name": "ProgressStyleModel",
            "_view_count": null,
            "_view_module": "@jupyter-widgets/base",
            "_view_module_version": "1.2.0",
            "_view_name": "StyleView",
            "bar_color": null,
            "description_width": ""
          }
        },
        "cae01dd533e94d94ba9ea54ced6e2a9b": {
          "model_module": "@jupyter-widgets/base",
          "model_name": "LayoutModel",
          "model_module_version": "1.2.0",
          "state": {
            "_model_module": "@jupyter-widgets/base",
            "_model_module_version": "1.2.0",
            "_model_name": "LayoutModel",
            "_view_count": null,
            "_view_module": "@jupyter-widgets/base",
            "_view_module_version": "1.2.0",
            "_view_name": "LayoutView",
            "align_content": null,
            "align_items": null,
            "align_self": null,
            "border": null,
            "bottom": null,
            "display": null,
            "flex": null,
            "flex_flow": null,
            "grid_area": null,
            "grid_auto_columns": null,
            "grid_auto_flow": null,
            "grid_auto_rows": null,
            "grid_column": null,
            "grid_gap": null,
            "grid_row": null,
            "grid_template_areas": null,
            "grid_template_columns": null,
            "grid_template_rows": null,
            "height": null,
            "justify_content": null,
            "justify_items": null,
            "left": null,
            "margin": null,
            "max_height": null,
            "max_width": null,
            "min_height": null,
            "min_width": null,
            "object_fit": null,
            "object_position": null,
            "order": null,
            "overflow": null,
            "overflow_x": null,
            "overflow_y": null,
            "padding": null,
            "right": null,
            "top": null,
            "visibility": null,
            "width": null
          }
        },
        "73f48090cf5f41d59df2547437714827": {
          "model_module": "@jupyter-widgets/controls",
          "model_name": "DescriptionStyleModel",
          "model_module_version": "1.5.0",
          "state": {
            "_model_module": "@jupyter-widgets/controls",
            "_model_module_version": "1.5.0",
            "_model_name": "DescriptionStyleModel",
            "_view_count": null,
            "_view_module": "@jupyter-widgets/base",
            "_view_module_version": "1.2.0",
            "_view_name": "StyleView",
            "description_width": ""
          }
        },
        "1b3f5c5a7f174c4da95473a78308e9ad": {
          "model_module": "@jupyter-widgets/controls",
          "model_name": "HBoxModel",
          "model_module_version": "1.5.0",
          "state": {
            "_dom_classes": [],
            "_model_module": "@jupyter-widgets/controls",
            "_model_module_version": "1.5.0",
            "_model_name": "HBoxModel",
            "_view_count": null,
            "_view_module": "@jupyter-widgets/controls",
            "_view_module_version": "1.5.0",
            "_view_name": "HBoxView",
            "box_style": "",
            "children": [
              "IPY_MODEL_80e45d2b90c44e1c8ae6fb85da9cd3ae",
              "IPY_MODEL_4f087da3c5ce4591989dbd7885903feb",
              "IPY_MODEL_bbef027c127446aa83dc115c79d53354"
            ],
            "layout": "IPY_MODEL_2439cdfb515d47fa85c208464fb3d900"
          }
        },
        "80e45d2b90c44e1c8ae6fb85da9cd3ae": {
          "model_module": "@jupyter-widgets/controls",
          "model_name": "HTMLModel",
          "model_module_version": "1.5.0",
          "state": {
            "_dom_classes": [],
            "_model_module": "@jupyter-widgets/controls",
            "_model_module_version": "1.5.0",
            "_model_name": "HTMLModel",
            "_view_count": null,
            "_view_module": "@jupyter-widgets/controls",
            "_view_module_version": "1.5.0",
            "_view_name": "HTMLView",
            "description": "",
            "description_tooltip": null,
            "layout": "IPY_MODEL_d4cead3e85b74b15bb126ecd4d382905",
            "placeholder": "​",
            "style": "IPY_MODEL_90487237eeb6488bbe03ab21cdb74f63",
            "value": "model.safetensors: 100%"
          }
        },
        "4f087da3c5ce4591989dbd7885903feb": {
          "model_module": "@jupyter-widgets/controls",
          "model_name": "FloatProgressModel",
          "model_module_version": "1.5.0",
          "state": {
            "_dom_classes": [],
            "_model_module": "@jupyter-widgets/controls",
            "_model_module_version": "1.5.0",
            "_model_name": "FloatProgressModel",
            "_view_count": null,
            "_view_module": "@jupyter-widgets/controls",
            "_view_module_version": "1.5.0",
            "_view_name": "ProgressView",
            "bar_style": "success",
            "description": "",
            "description_tooltip": null,
            "layout": "IPY_MODEL_5bb9ad5b5b6a438f9bdaae85ce19bc5a",
            "max": 990345061,
            "min": 0,
            "orientation": "horizontal",
            "style": "IPY_MODEL_ab4d7eeee01b4dafa3d760b37ca7bbb2",
            "value": 990345061
          }
        },
        "bbef027c127446aa83dc115c79d53354": {
          "model_module": "@jupyter-widgets/controls",
          "model_name": "HTMLModel",
          "model_module_version": "1.5.0",
          "state": {
            "_dom_classes": [],
            "_model_module": "@jupyter-widgets/controls",
            "_model_module_version": "1.5.0",
            "_model_name": "HTMLModel",
            "_view_count": null,
            "_view_module": "@jupyter-widgets/controls",
            "_view_module_version": "1.5.0",
            "_view_name": "HTMLView",
            "description": "",
            "description_tooltip": null,
            "layout": "IPY_MODEL_b37d2e17a3844d97a7bccd9221c548f6",
            "placeholder": "​",
            "style": "IPY_MODEL_82403241c07846cfbeef2db707bac8e6",
            "value": " 990M/990M [00:10&lt;00:00, 90.6MB/s]"
          }
        },
        "2439cdfb515d47fa85c208464fb3d900": {
          "model_module": "@jupyter-widgets/base",
          "model_name": "LayoutModel",
          "model_module_version": "1.2.0",
          "state": {
            "_model_module": "@jupyter-widgets/base",
            "_model_module_version": "1.2.0",
            "_model_name": "LayoutModel",
            "_view_count": null,
            "_view_module": "@jupyter-widgets/base",
            "_view_module_version": "1.2.0",
            "_view_name": "LayoutView",
            "align_content": null,
            "align_items": null,
            "align_self": null,
            "border": null,
            "bottom": null,
            "display": null,
            "flex": null,
            "flex_flow": null,
            "grid_area": null,
            "grid_auto_columns": null,
            "grid_auto_flow": null,
            "grid_auto_rows": null,
            "grid_column": null,
            "grid_gap": null,
            "grid_row": null,
            "grid_template_areas": null,
            "grid_template_columns": null,
            "grid_template_rows": null,
            "height": null,
            "justify_content": null,
            "justify_items": null,
            "left": null,
            "margin": null,
            "max_height": null,
            "max_width": null,
            "min_height": null,
            "min_width": null,
            "object_fit": null,
            "object_position": null,
            "order": null,
            "overflow": null,
            "overflow_x": null,
            "overflow_y": null,
            "padding": null,
            "right": null,
            "top": null,
            "visibility": null,
            "width": null
          }
        },
        "d4cead3e85b74b15bb126ecd4d382905": {
          "model_module": "@jupyter-widgets/base",
          "model_name": "LayoutModel",
          "model_module_version": "1.2.0",
          "state": {
            "_model_module": "@jupyter-widgets/base",
            "_model_module_version": "1.2.0",
            "_model_name": "LayoutModel",
            "_view_count": null,
            "_view_module": "@jupyter-widgets/base",
            "_view_module_version": "1.2.0",
            "_view_name": "LayoutView",
            "align_content": null,
            "align_items": null,
            "align_self": null,
            "border": null,
            "bottom": null,
            "display": null,
            "flex": null,
            "flex_flow": null,
            "grid_area": null,
            "grid_auto_columns": null,
            "grid_auto_flow": null,
            "grid_auto_rows": null,
            "grid_column": null,
            "grid_gap": null,
            "grid_row": null,
            "grid_template_areas": null,
            "grid_template_columns": null,
            "grid_template_rows": null,
            "height": null,
            "justify_content": null,
            "justify_items": null,
            "left": null,
            "margin": null,
            "max_height": null,
            "max_width": null,
            "min_height": null,
            "min_width": null,
            "object_fit": null,
            "object_position": null,
            "order": null,
            "overflow": null,
            "overflow_x": null,
            "overflow_y": null,
            "padding": null,
            "right": null,
            "top": null,
            "visibility": null,
            "width": null
          }
        },
        "90487237eeb6488bbe03ab21cdb74f63": {
          "model_module": "@jupyter-widgets/controls",
          "model_name": "DescriptionStyleModel",
          "model_module_version": "1.5.0",
          "state": {
            "_model_module": "@jupyter-widgets/controls",
            "_model_module_version": "1.5.0",
            "_model_name": "DescriptionStyleModel",
            "_view_count": null,
            "_view_module": "@jupyter-widgets/base",
            "_view_module_version": "1.2.0",
            "_view_name": "StyleView",
            "description_width": ""
          }
        },
        "5bb9ad5b5b6a438f9bdaae85ce19bc5a": {
          "model_module": "@jupyter-widgets/base",
          "model_name": "LayoutModel",
          "model_module_version": "1.2.0",
          "state": {
            "_model_module": "@jupyter-widgets/base",
            "_model_module_version": "1.2.0",
            "_model_name": "LayoutModel",
            "_view_count": null,
            "_view_module": "@jupyter-widgets/base",
            "_view_module_version": "1.2.0",
            "_view_name": "LayoutView",
            "align_content": null,
            "align_items": null,
            "align_self": null,
            "border": null,
            "bottom": null,
            "display": null,
            "flex": null,
            "flex_flow": null,
            "grid_area": null,
            "grid_auto_columns": null,
            "grid_auto_flow": null,
            "grid_auto_rows": null,
            "grid_column": null,
            "grid_gap": null,
            "grid_row": null,
            "grid_template_areas": null,
            "grid_template_columns": null,
            "grid_template_rows": null,
            "height": null,
            "justify_content": null,
            "justify_items": null,
            "left": null,
            "margin": null,
            "max_height": null,
            "max_width": null,
            "min_height": null,
            "min_width": null,
            "object_fit": null,
            "object_position": null,
            "order": null,
            "overflow": null,
            "overflow_x": null,
            "overflow_y": null,
            "padding": null,
            "right": null,
            "top": null,
            "visibility": null,
            "width": null
          }
        },
        "ab4d7eeee01b4dafa3d760b37ca7bbb2": {
          "model_module": "@jupyter-widgets/controls",
          "model_name": "ProgressStyleModel",
          "model_module_version": "1.5.0",
          "state": {
            "_model_module": "@jupyter-widgets/controls",
            "_model_module_version": "1.5.0",
            "_model_name": "ProgressStyleModel",
            "_view_count": null,
            "_view_module": "@jupyter-widgets/base",
            "_view_module_version": "1.2.0",
            "_view_name": "StyleView",
            "bar_color": null,
            "description_width": ""
          }
        },
        "b37d2e17a3844d97a7bccd9221c548f6": {
          "model_module": "@jupyter-widgets/base",
          "model_name": "LayoutModel",
          "model_module_version": "1.2.0",
          "state": {
            "_model_module": "@jupyter-widgets/base",
            "_model_module_version": "1.2.0",
            "_model_name": "LayoutModel",
            "_view_count": null,
            "_view_module": "@jupyter-widgets/base",
            "_view_module_version": "1.2.0",
            "_view_name": "LayoutView",
            "align_content": null,
            "align_items": null,
            "align_self": null,
            "border": null,
            "bottom": null,
            "display": null,
            "flex": null,
            "flex_flow": null,
            "grid_area": null,
            "grid_auto_columns": null,
            "grid_auto_flow": null,
            "grid_auto_rows": null,
            "grid_column": null,
            "grid_gap": null,
            "grid_row": null,
            "grid_template_areas": null,
            "grid_template_columns": null,
            "grid_template_rows": null,
            "height": null,
            "justify_content": null,
            "justify_items": null,
            "left": null,
            "margin": null,
            "max_height": null,
            "max_width": null,
            "min_height": null,
            "min_width": null,
            "object_fit": null,
            "object_position": null,
            "order": null,
            "overflow": null,
            "overflow_x": null,
            "overflow_y": null,
            "padding": null,
            "right": null,
            "top": null,
            "visibility": null,
            "width": null
          }
        },
        "82403241c07846cfbeef2db707bac8e6": {
          "model_module": "@jupyter-widgets/controls",
          "model_name": "DescriptionStyleModel",
          "model_module_version": "1.5.0",
          "state": {
            "_model_module": "@jupyter-widgets/controls",
            "_model_module_version": "1.5.0",
            "_model_name": "DescriptionStyleModel",
            "_view_count": null,
            "_view_module": "@jupyter-widgets/base",
            "_view_module_version": "1.2.0",
            "_view_name": "StyleView",
            "description_width": ""
          }
        },
        "f182d9eaa74848038cf4c6fc6ed800a5": {
          "model_module": "@jupyter-widgets/controls",
          "model_name": "HBoxModel",
          "model_module_version": "1.5.0",
          "state": {
            "_dom_classes": [],
            "_model_module": "@jupyter-widgets/controls",
            "_model_module_version": "1.5.0",
            "_model_name": "HBoxModel",
            "_view_count": null,
            "_view_module": "@jupyter-widgets/controls",
            "_view_module_version": "1.5.0",
            "_view_name": "HBoxView",
            "box_style": "",
            "children": [
              "IPY_MODEL_4a265d80fe794d2f92eb0b4a693d9e4e",
              "IPY_MODEL_95b3782167fc4b43b27fb551ca80b113",
              "IPY_MODEL_46da9116d31847b995cf3bacd1d7727e"
            ],
            "layout": "IPY_MODEL_ed0b4c127ef84cdcbd863007e333919b"
          }
        },
        "4a265d80fe794d2f92eb0b4a693d9e4e": {
          "model_module": "@jupyter-widgets/controls",
          "model_name": "HTMLModel",
          "model_module_version": "1.5.0",
          "state": {
            "_dom_classes": [],
            "_model_module": "@jupyter-widgets/controls",
            "_model_module_version": "1.5.0",
            "_model_name": "HTMLModel",
            "_view_count": null,
            "_view_module": "@jupyter-widgets/controls",
            "_view_module_version": "1.5.0",
            "_view_name": "HTMLView",
            "description": "",
            "description_tooltip": null,
            "layout": "IPY_MODEL_3188c4d38ac04ec6a4d2f4b791eff1e4",
            "placeholder": "​",
            "style": "IPY_MODEL_aab12eee6b694a2b98d397f9405a9eb8",
            "value": "generation_config.json: 100%"
          }
        },
        "95b3782167fc4b43b27fb551ca80b113": {
          "model_module": "@jupyter-widgets/controls",
          "model_name": "FloatProgressModel",
          "model_module_version": "1.5.0",
          "state": {
            "_dom_classes": [],
            "_model_module": "@jupyter-widgets/controls",
            "_model_module_version": "1.5.0",
            "_model_name": "FloatProgressModel",
            "_view_count": null,
            "_view_module": "@jupyter-widgets/controls",
            "_view_module_version": "1.5.0",
            "_view_name": "ProgressView",
            "bar_style": "success",
            "description": "",
            "description_tooltip": null,
            "layout": "IPY_MODEL_41a4cb57e3924a099332d4826c1a929e",
            "max": 147,
            "min": 0,
            "orientation": "horizontal",
            "style": "IPY_MODEL_3ee590671820483681fdcebdabb3dfc0",
            "value": 147
          }
        },
        "46da9116d31847b995cf3bacd1d7727e": {
          "model_module": "@jupyter-widgets/controls",
          "model_name": "HTMLModel",
          "model_module_version": "1.5.0",
          "state": {
            "_dom_classes": [],
            "_model_module": "@jupyter-widgets/controls",
            "_model_module_version": "1.5.0",
            "_model_name": "HTMLModel",
            "_view_count": null,
            "_view_module": "@jupyter-widgets/controls",
            "_view_module_version": "1.5.0",
            "_view_name": "HTMLView",
            "description": "",
            "description_tooltip": null,
            "layout": "IPY_MODEL_3e0515f7f63a4716bc9a51e5916023e8",
            "placeholder": "​",
            "style": "IPY_MODEL_489f67d54dde4b1e87348fe258ce05e8",
            "value": " 147/147 [00:00&lt;00:00, 6.08kB/s]"
          }
        },
        "ed0b4c127ef84cdcbd863007e333919b": {
          "model_module": "@jupyter-widgets/base",
          "model_name": "LayoutModel",
          "model_module_version": "1.2.0",
          "state": {
            "_model_module": "@jupyter-widgets/base",
            "_model_module_version": "1.2.0",
            "_model_name": "LayoutModel",
            "_view_count": null,
            "_view_module": "@jupyter-widgets/base",
            "_view_module_version": "1.2.0",
            "_view_name": "LayoutView",
            "align_content": null,
            "align_items": null,
            "align_self": null,
            "border": null,
            "bottom": null,
            "display": null,
            "flex": null,
            "flex_flow": null,
            "grid_area": null,
            "grid_auto_columns": null,
            "grid_auto_flow": null,
            "grid_auto_rows": null,
            "grid_column": null,
            "grid_gap": null,
            "grid_row": null,
            "grid_template_areas": null,
            "grid_template_columns": null,
            "grid_template_rows": null,
            "height": null,
            "justify_content": null,
            "justify_items": null,
            "left": null,
            "margin": null,
            "max_height": null,
            "max_width": null,
            "min_height": null,
            "min_width": null,
            "object_fit": null,
            "object_position": null,
            "order": null,
            "overflow": null,
            "overflow_x": null,
            "overflow_y": null,
            "padding": null,
            "right": null,
            "top": null,
            "visibility": null,
            "width": null
          }
        },
        "3188c4d38ac04ec6a4d2f4b791eff1e4": {
          "model_module": "@jupyter-widgets/base",
          "model_name": "LayoutModel",
          "model_module_version": "1.2.0",
          "state": {
            "_model_module": "@jupyter-widgets/base",
            "_model_module_version": "1.2.0",
            "_model_name": "LayoutModel",
            "_view_count": null,
            "_view_module": "@jupyter-widgets/base",
            "_view_module_version": "1.2.0",
            "_view_name": "LayoutView",
            "align_content": null,
            "align_items": null,
            "align_self": null,
            "border": null,
            "bottom": null,
            "display": null,
            "flex": null,
            "flex_flow": null,
            "grid_area": null,
            "grid_auto_columns": null,
            "grid_auto_flow": null,
            "grid_auto_rows": null,
            "grid_column": null,
            "grid_gap": null,
            "grid_row": null,
            "grid_template_areas": null,
            "grid_template_columns": null,
            "grid_template_rows": null,
            "height": null,
            "justify_content": null,
            "justify_items": null,
            "left": null,
            "margin": null,
            "max_height": null,
            "max_width": null,
            "min_height": null,
            "min_width": null,
            "object_fit": null,
            "object_position": null,
            "order": null,
            "overflow": null,
            "overflow_x": null,
            "overflow_y": null,
            "padding": null,
            "right": null,
            "top": null,
            "visibility": null,
            "width": null
          }
        },
        "aab12eee6b694a2b98d397f9405a9eb8": {
          "model_module": "@jupyter-widgets/controls",
          "model_name": "DescriptionStyleModel",
          "model_module_version": "1.5.0",
          "state": {
            "_model_module": "@jupyter-widgets/controls",
            "_model_module_version": "1.5.0",
            "_model_name": "DescriptionStyleModel",
            "_view_count": null,
            "_view_module": "@jupyter-widgets/base",
            "_view_module_version": "1.2.0",
            "_view_name": "StyleView",
            "description_width": ""
          }
        },
        "41a4cb57e3924a099332d4826c1a929e": {
          "model_module": "@jupyter-widgets/base",
          "model_name": "LayoutModel",
          "model_module_version": "1.2.0",
          "state": {
            "_model_module": "@jupyter-widgets/base",
            "_model_module_version": "1.2.0",
            "_model_name": "LayoutModel",
            "_view_count": null,
            "_view_module": "@jupyter-widgets/base",
            "_view_module_version": "1.2.0",
            "_view_name": "LayoutView",
            "align_content": null,
            "align_items": null,
            "align_self": null,
            "border": null,
            "bottom": null,
            "display": null,
            "flex": null,
            "flex_flow": null,
            "grid_area": null,
            "grid_auto_columns": null,
            "grid_auto_flow": null,
            "grid_auto_rows": null,
            "grid_column": null,
            "grid_gap": null,
            "grid_row": null,
            "grid_template_areas": null,
            "grid_template_columns": null,
            "grid_template_rows": null,
            "height": null,
            "justify_content": null,
            "justify_items": null,
            "left": null,
            "margin": null,
            "max_height": null,
            "max_width": null,
            "min_height": null,
            "min_width": null,
            "object_fit": null,
            "object_position": null,
            "order": null,
            "overflow": null,
            "overflow_x": null,
            "overflow_y": null,
            "padding": null,
            "right": null,
            "top": null,
            "visibility": null,
            "width": null
          }
        },
        "3ee590671820483681fdcebdabb3dfc0": {
          "model_module": "@jupyter-widgets/controls",
          "model_name": "ProgressStyleModel",
          "model_module_version": "1.5.0",
          "state": {
            "_model_module": "@jupyter-widgets/controls",
            "_model_module_version": "1.5.0",
            "_model_name": "ProgressStyleModel",
            "_view_count": null,
            "_view_module": "@jupyter-widgets/base",
            "_view_module_version": "1.2.0",
            "_view_name": "StyleView",
            "bar_color": null,
            "description_width": ""
          }
        },
        "3e0515f7f63a4716bc9a51e5916023e8": {
          "model_module": "@jupyter-widgets/base",
          "model_name": "LayoutModel",
          "model_module_version": "1.2.0",
          "state": {
            "_model_module": "@jupyter-widgets/base",
            "_model_module_version": "1.2.0",
            "_model_name": "LayoutModel",
            "_view_count": null,
            "_view_module": "@jupyter-widgets/base",
            "_view_module_version": "1.2.0",
            "_view_name": "LayoutView",
            "align_content": null,
            "align_items": null,
            "align_self": null,
            "border": null,
            "bottom": null,
            "display": null,
            "flex": null,
            "flex_flow": null,
            "grid_area": null,
            "grid_auto_columns": null,
            "grid_auto_flow": null,
            "grid_auto_rows": null,
            "grid_column": null,
            "grid_gap": null,
            "grid_row": null,
            "grid_template_areas": null,
            "grid_template_columns": null,
            "grid_template_rows": null,
            "height": null,
            "justify_content": null,
            "justify_items": null,
            "left": null,
            "margin": null,
            "max_height": null,
            "max_width": null,
            "min_height": null,
            "min_width": null,
            "object_fit": null,
            "object_position": null,
            "order": null,
            "overflow": null,
            "overflow_x": null,
            "overflow_y": null,
            "padding": null,
            "right": null,
            "top": null,
            "visibility": null,
            "width": null
          }
        },
        "489f67d54dde4b1e87348fe258ce05e8": {
          "model_module": "@jupyter-widgets/controls",
          "model_name": "DescriptionStyleModel",
          "model_module_version": "1.5.0",
          "state": {
            "_model_module": "@jupyter-widgets/controls",
            "_model_module_version": "1.5.0",
            "_model_name": "DescriptionStyleModel",
            "_view_count": null,
            "_view_module": "@jupyter-widgets/base",
            "_view_module_version": "1.2.0",
            "_view_name": "StyleView",
            "description_width": ""
          }
        },
        "81ab0680a4494c0a980016091e4e7e3e": {
          "model_module": "@jupyter-widgets/controls",
          "model_name": "HBoxModel",
          "model_module_version": "1.5.0",
          "state": {
            "_dom_classes": [],
            "_model_module": "@jupyter-widgets/controls",
            "_model_module_version": "1.5.0",
            "_model_name": "HBoxModel",
            "_view_count": null,
            "_view_module": "@jupyter-widgets/controls",
            "_view_module_version": "1.5.0",
            "_view_name": "HBoxView",
            "box_style": "",
            "children": [
              "IPY_MODEL_1f785391c2524fa8ad601e6897b939b9",
              "IPY_MODEL_1321fa4eb8914e1f993c1b3b943d94a0",
              "IPY_MODEL_a0363a09a6bf414f9cd7bffa6b89933b"
            ],
            "layout": "IPY_MODEL_2c39b6ef85494a30bc780533c437d3f4"
          }
        },
        "1f785391c2524fa8ad601e6897b939b9": {
          "model_module": "@jupyter-widgets/controls",
          "model_name": "HTMLModel",
          "model_module_version": "1.5.0",
          "state": {
            "_dom_classes": [],
            "_model_module": "@jupyter-widgets/controls",
            "_model_module_version": "1.5.0",
            "_model_name": "HTMLModel",
            "_view_count": null,
            "_view_module": "@jupyter-widgets/controls",
            "_view_module_version": "1.5.0",
            "_view_name": "HTMLView",
            "description": "",
            "description_tooltip": null,
            "layout": "IPY_MODEL_a69f9bf691ca448b908b695ad8a7a045",
            "placeholder": "​",
            "style": "IPY_MODEL_695e6eb23c514a5fa1996c0c8e106e14",
            "value": "tokenizer_config.json: 100%"
          }
        },
        "1321fa4eb8914e1f993c1b3b943d94a0": {
          "model_module": "@jupyter-widgets/controls",
          "model_name": "FloatProgressModel",
          "model_module_version": "1.5.0",
          "state": {
            "_dom_classes": [],
            "_model_module": "@jupyter-widgets/controls",
            "_model_module_version": "1.5.0",
            "_model_name": "FloatProgressModel",
            "_view_count": null,
            "_view_module": "@jupyter-widgets/controls",
            "_view_module_version": "1.5.0",
            "_view_name": "ProgressView",
            "bar_style": "success",
            "description": "",
            "description_tooltip": null,
            "layout": "IPY_MODEL_fe685538e45741aeb5ed4ededd878ea8",
            "max": 2537,
            "min": 0,
            "orientation": "horizontal",
            "style": "IPY_MODEL_75c698f1f2c34f3f91ef4972ad9e349b",
            "value": 2537
          }
        },
        "a0363a09a6bf414f9cd7bffa6b89933b": {
          "model_module": "@jupyter-widgets/controls",
          "model_name": "HTMLModel",
          "model_module_version": "1.5.0",
          "state": {
            "_dom_classes": [],
            "_model_module": "@jupyter-widgets/controls",
            "_model_module_version": "1.5.0",
            "_model_name": "HTMLModel",
            "_view_count": null,
            "_view_module": "@jupyter-widgets/controls",
            "_view_module_version": "1.5.0",
            "_view_name": "HTMLView",
            "description": "",
            "description_tooltip": null,
            "layout": "IPY_MODEL_b90337b3ff90460e9e272c3c084bb215",
            "placeholder": "​",
            "style": "IPY_MODEL_97048410f2eb4af58fbe203157d726ce",
            "value": " 2.54k/2.54k [00:00&lt;00:00, 59.4kB/s]"
          }
        },
        "2c39b6ef85494a30bc780533c437d3f4": {
          "model_module": "@jupyter-widgets/base",
          "model_name": "LayoutModel",
          "model_module_version": "1.2.0",
          "state": {
            "_model_module": "@jupyter-widgets/base",
            "_model_module_version": "1.2.0",
            "_model_name": "LayoutModel",
            "_view_count": null,
            "_view_module": "@jupyter-widgets/base",
            "_view_module_version": "1.2.0",
            "_view_name": "LayoutView",
            "align_content": null,
            "align_items": null,
            "align_self": null,
            "border": null,
            "bottom": null,
            "display": null,
            "flex": null,
            "flex_flow": null,
            "grid_area": null,
            "grid_auto_columns": null,
            "grid_auto_flow": null,
            "grid_auto_rows": null,
            "grid_column": null,
            "grid_gap": null,
            "grid_row": null,
            "grid_template_areas": null,
            "grid_template_columns": null,
            "grid_template_rows": null,
            "height": null,
            "justify_content": null,
            "justify_items": null,
            "left": null,
            "margin": null,
            "max_height": null,
            "max_width": null,
            "min_height": null,
            "min_width": null,
            "object_fit": null,
            "object_position": null,
            "order": null,
            "overflow": null,
            "overflow_x": null,
            "overflow_y": null,
            "padding": null,
            "right": null,
            "top": null,
            "visibility": null,
            "width": null
          }
        },
        "a69f9bf691ca448b908b695ad8a7a045": {
          "model_module": "@jupyter-widgets/base",
          "model_name": "LayoutModel",
          "model_module_version": "1.2.0",
          "state": {
            "_model_module": "@jupyter-widgets/base",
            "_model_module_version": "1.2.0",
            "_model_name": "LayoutModel",
            "_view_count": null,
            "_view_module": "@jupyter-widgets/base",
            "_view_module_version": "1.2.0",
            "_view_name": "LayoutView",
            "align_content": null,
            "align_items": null,
            "align_self": null,
            "border": null,
            "bottom": null,
            "display": null,
            "flex": null,
            "flex_flow": null,
            "grid_area": null,
            "grid_auto_columns": null,
            "grid_auto_flow": null,
            "grid_auto_rows": null,
            "grid_column": null,
            "grid_gap": null,
            "grid_row": null,
            "grid_template_areas": null,
            "grid_template_columns": null,
            "grid_template_rows": null,
            "height": null,
            "justify_content": null,
            "justify_items": null,
            "left": null,
            "margin": null,
            "max_height": null,
            "max_width": null,
            "min_height": null,
            "min_width": null,
            "object_fit": null,
            "object_position": null,
            "order": null,
            "overflow": null,
            "overflow_x": null,
            "overflow_y": null,
            "padding": null,
            "right": null,
            "top": null,
            "visibility": null,
            "width": null
          }
        },
        "695e6eb23c514a5fa1996c0c8e106e14": {
          "model_module": "@jupyter-widgets/controls",
          "model_name": "DescriptionStyleModel",
          "model_module_version": "1.5.0",
          "state": {
            "_model_module": "@jupyter-widgets/controls",
            "_model_module_version": "1.5.0",
            "_model_name": "DescriptionStyleModel",
            "_view_count": null,
            "_view_module": "@jupyter-widgets/base",
            "_view_module_version": "1.2.0",
            "_view_name": "StyleView",
            "description_width": ""
          }
        },
        "fe685538e45741aeb5ed4ededd878ea8": {
          "model_module": "@jupyter-widgets/base",
          "model_name": "LayoutModel",
          "model_module_version": "1.2.0",
          "state": {
            "_model_module": "@jupyter-widgets/base",
            "_model_module_version": "1.2.0",
            "_model_name": "LayoutModel",
            "_view_count": null,
            "_view_module": "@jupyter-widgets/base",
            "_view_module_version": "1.2.0",
            "_view_name": "LayoutView",
            "align_content": null,
            "align_items": null,
            "align_self": null,
            "border": null,
            "bottom": null,
            "display": null,
            "flex": null,
            "flex_flow": null,
            "grid_area": null,
            "grid_auto_columns": null,
            "grid_auto_flow": null,
            "grid_auto_rows": null,
            "grid_column": null,
            "grid_gap": null,
            "grid_row": null,
            "grid_template_areas": null,
            "grid_template_columns": null,
            "grid_template_rows": null,
            "height": null,
            "justify_content": null,
            "justify_items": null,
            "left": null,
            "margin": null,
            "max_height": null,
            "max_width": null,
            "min_height": null,
            "min_width": null,
            "object_fit": null,
            "object_position": null,
            "order": null,
            "overflow": null,
            "overflow_x": null,
            "overflow_y": null,
            "padding": null,
            "right": null,
            "top": null,
            "visibility": null,
            "width": null
          }
        },
        "75c698f1f2c34f3f91ef4972ad9e349b": {
          "model_module": "@jupyter-widgets/controls",
          "model_name": "ProgressStyleModel",
          "model_module_version": "1.5.0",
          "state": {
            "_model_module": "@jupyter-widgets/controls",
            "_model_module_version": "1.5.0",
            "_model_name": "ProgressStyleModel",
            "_view_count": null,
            "_view_module": "@jupyter-widgets/base",
            "_view_module_version": "1.2.0",
            "_view_name": "StyleView",
            "bar_color": null,
            "description_width": ""
          }
        },
        "b90337b3ff90460e9e272c3c084bb215": {
          "model_module": "@jupyter-widgets/base",
          "model_name": "LayoutModel",
          "model_module_version": "1.2.0",
          "state": {
            "_model_module": "@jupyter-widgets/base",
            "_model_module_version": "1.2.0",
            "_model_name": "LayoutModel",
            "_view_count": null,
            "_view_module": "@jupyter-widgets/base",
            "_view_module_version": "1.2.0",
            "_view_name": "LayoutView",
            "align_content": null,
            "align_items": null,
            "align_self": null,
            "border": null,
            "bottom": null,
            "display": null,
            "flex": null,
            "flex_flow": null,
            "grid_area": null,
            "grid_auto_columns": null,
            "grid_auto_flow": null,
            "grid_auto_rows": null,
            "grid_column": null,
            "grid_gap": null,
            "grid_row": null,
            "grid_template_areas": null,
            "grid_template_columns": null,
            "grid_template_rows": null,
            "height": null,
            "justify_content": null,
            "justify_items": null,
            "left": null,
            "margin": null,
            "max_height": null,
            "max_width": null,
            "min_height": null,
            "min_width": null,
            "object_fit": null,
            "object_position": null,
            "order": null,
            "overflow": null,
            "overflow_x": null,
            "overflow_y": null,
            "padding": null,
            "right": null,
            "top": null,
            "visibility": null,
            "width": null
          }
        },
        "97048410f2eb4af58fbe203157d726ce": {
          "model_module": "@jupyter-widgets/controls",
          "model_name": "DescriptionStyleModel",
          "model_module_version": "1.5.0",
          "state": {
            "_model_module": "@jupyter-widgets/controls",
            "_model_module_version": "1.5.0",
            "_model_name": "DescriptionStyleModel",
            "_view_count": null,
            "_view_module": "@jupyter-widgets/base",
            "_view_module_version": "1.2.0",
            "_view_name": "StyleView",
            "description_width": ""
          }
        },
        "f998326736e34f8081a38fe147a42fb3": {
          "model_module": "@jupyter-widgets/controls",
          "model_name": "HBoxModel",
          "model_module_version": "1.5.0",
          "state": {
            "_dom_classes": [],
            "_model_module": "@jupyter-widgets/controls",
            "_model_module_version": "1.5.0",
            "_model_name": "HBoxModel",
            "_view_count": null,
            "_view_module": "@jupyter-widgets/controls",
            "_view_module_version": "1.5.0",
            "_view_name": "HBoxView",
            "box_style": "",
            "children": [
              "IPY_MODEL_366a3981080844f4b580405ff172dec6",
              "IPY_MODEL_93234751937f4843a1cf0a844738eb1c",
              "IPY_MODEL_db448cf991664a609e5a925a4956bead"
            ],
            "layout": "IPY_MODEL_9f15d01f92f94a4eb510ba374f7d850c"
          }
        },
        "366a3981080844f4b580405ff172dec6": {
          "model_module": "@jupyter-widgets/controls",
          "model_name": "HTMLModel",
          "model_module_version": "1.5.0",
          "state": {
            "_dom_classes": [],
            "_model_module": "@jupyter-widgets/controls",
            "_model_module_version": "1.5.0",
            "_model_name": "HTMLModel",
            "_view_count": null,
            "_view_module": "@jupyter-widgets/controls",
            "_view_module_version": "1.5.0",
            "_view_name": "HTMLView",
            "description": "",
            "description_tooltip": null,
            "layout": "IPY_MODEL_4ce8b40ec0d4483f8ae219c08e849193",
            "placeholder": "​",
            "style": "IPY_MODEL_8563dd8ccb924b269695c9681db07d66",
            "value": "spiece.model: 100%"
          }
        },
        "93234751937f4843a1cf0a844738eb1c": {
          "model_module": "@jupyter-widgets/controls",
          "model_name": "FloatProgressModel",
          "model_module_version": "1.5.0",
          "state": {
            "_dom_classes": [],
            "_model_module": "@jupyter-widgets/controls",
            "_model_module_version": "1.5.0",
            "_model_name": "FloatProgressModel",
            "_view_count": null,
            "_view_module": "@jupyter-widgets/controls",
            "_view_module_version": "1.5.0",
            "_view_name": "ProgressView",
            "bar_style": "success",
            "description": "",
            "description_tooltip": null,
            "layout": "IPY_MODEL_43d2ecfdcd1a40a5b459e403b8dc4dd0",
            "max": 791656,
            "min": 0,
            "orientation": "horizontal",
            "style": "IPY_MODEL_f4ebeecb5a9b48079d3abd6410d19c5d",
            "value": 791656
          }
        },
        "db448cf991664a609e5a925a4956bead": {
          "model_module": "@jupyter-widgets/controls",
          "model_name": "HTMLModel",
          "model_module_version": "1.5.0",
          "state": {
            "_dom_classes": [],
            "_model_module": "@jupyter-widgets/controls",
            "_model_module_version": "1.5.0",
            "_model_name": "HTMLModel",
            "_view_count": null,
            "_view_module": "@jupyter-widgets/controls",
            "_view_module_version": "1.5.0",
            "_view_name": "HTMLView",
            "description": "",
            "description_tooltip": null,
            "layout": "IPY_MODEL_232a265c45cb46b4b41dd3c7c4270a97",
            "placeholder": "​",
            "style": "IPY_MODEL_acfc0ec34be54805840c5624b1803a81",
            "value": " 792k/792k [00:00&lt;00:00, 15.9MB/s]"
          }
        },
        "9f15d01f92f94a4eb510ba374f7d850c": {
          "model_module": "@jupyter-widgets/base",
          "model_name": "LayoutModel",
          "model_module_version": "1.2.0",
          "state": {
            "_model_module": "@jupyter-widgets/base",
            "_model_module_version": "1.2.0",
            "_model_name": "LayoutModel",
            "_view_count": null,
            "_view_module": "@jupyter-widgets/base",
            "_view_module_version": "1.2.0",
            "_view_name": "LayoutView",
            "align_content": null,
            "align_items": null,
            "align_self": null,
            "border": null,
            "bottom": null,
            "display": null,
            "flex": null,
            "flex_flow": null,
            "grid_area": null,
            "grid_auto_columns": null,
            "grid_auto_flow": null,
            "grid_auto_rows": null,
            "grid_column": null,
            "grid_gap": null,
            "grid_row": null,
            "grid_template_areas": null,
            "grid_template_columns": null,
            "grid_template_rows": null,
            "height": null,
            "justify_content": null,
            "justify_items": null,
            "left": null,
            "margin": null,
            "max_height": null,
            "max_width": null,
            "min_height": null,
            "min_width": null,
            "object_fit": null,
            "object_position": null,
            "order": null,
            "overflow": null,
            "overflow_x": null,
            "overflow_y": null,
            "padding": null,
            "right": null,
            "top": null,
            "visibility": null,
            "width": null
          }
        },
        "4ce8b40ec0d4483f8ae219c08e849193": {
          "model_module": "@jupyter-widgets/base",
          "model_name": "LayoutModel",
          "model_module_version": "1.2.0",
          "state": {
            "_model_module": "@jupyter-widgets/base",
            "_model_module_version": "1.2.0",
            "_model_name": "LayoutModel",
            "_view_count": null,
            "_view_module": "@jupyter-widgets/base",
            "_view_module_version": "1.2.0",
            "_view_name": "LayoutView",
            "align_content": null,
            "align_items": null,
            "align_self": null,
            "border": null,
            "bottom": null,
            "display": null,
            "flex": null,
            "flex_flow": null,
            "grid_area": null,
            "grid_auto_columns": null,
            "grid_auto_flow": null,
            "grid_auto_rows": null,
            "grid_column": null,
            "grid_gap": null,
            "grid_row": null,
            "grid_template_areas": null,
            "grid_template_columns": null,
            "grid_template_rows": null,
            "height": null,
            "justify_content": null,
            "justify_items": null,
            "left": null,
            "margin": null,
            "max_height": null,
            "max_width": null,
            "min_height": null,
            "min_width": null,
            "object_fit": null,
            "object_position": null,
            "order": null,
            "overflow": null,
            "overflow_x": null,
            "overflow_y": null,
            "padding": null,
            "right": null,
            "top": null,
            "visibility": null,
            "width": null
          }
        },
        "8563dd8ccb924b269695c9681db07d66": {
          "model_module": "@jupyter-widgets/controls",
          "model_name": "DescriptionStyleModel",
          "model_module_version": "1.5.0",
          "state": {
            "_model_module": "@jupyter-widgets/controls",
            "_model_module_version": "1.5.0",
            "_model_name": "DescriptionStyleModel",
            "_view_count": null,
            "_view_module": "@jupyter-widgets/base",
            "_view_module_version": "1.2.0",
            "_view_name": "StyleView",
            "description_width": ""
          }
        },
        "43d2ecfdcd1a40a5b459e403b8dc4dd0": {
          "model_module": "@jupyter-widgets/base",
          "model_name": "LayoutModel",
          "model_module_version": "1.2.0",
          "state": {
            "_model_module": "@jupyter-widgets/base",
            "_model_module_version": "1.2.0",
            "_model_name": "LayoutModel",
            "_view_count": null,
            "_view_module": "@jupyter-widgets/base",
            "_view_module_version": "1.2.0",
            "_view_name": "LayoutView",
            "align_content": null,
            "align_items": null,
            "align_self": null,
            "border": null,
            "bottom": null,
            "display": null,
            "flex": null,
            "flex_flow": null,
            "grid_area": null,
            "grid_auto_columns": null,
            "grid_auto_flow": null,
            "grid_auto_rows": null,
            "grid_column": null,
            "grid_gap": null,
            "grid_row": null,
            "grid_template_areas": null,
            "grid_template_columns": null,
            "grid_template_rows": null,
            "height": null,
            "justify_content": null,
            "justify_items": null,
            "left": null,
            "margin": null,
            "max_height": null,
            "max_width": null,
            "min_height": null,
            "min_width": null,
            "object_fit": null,
            "object_position": null,
            "order": null,
            "overflow": null,
            "overflow_x": null,
            "overflow_y": null,
            "padding": null,
            "right": null,
            "top": null,
            "visibility": null,
            "width": null
          }
        },
        "f4ebeecb5a9b48079d3abd6410d19c5d": {
          "model_module": "@jupyter-widgets/controls",
          "model_name": "ProgressStyleModel",
          "model_module_version": "1.5.0",
          "state": {
            "_model_module": "@jupyter-widgets/controls",
            "_model_module_version": "1.5.0",
            "_model_name": "ProgressStyleModel",
            "_view_count": null,
            "_view_module": "@jupyter-widgets/base",
            "_view_module_version": "1.2.0",
            "_view_name": "StyleView",
            "bar_color": null,
            "description_width": ""
          }
        },
        "232a265c45cb46b4b41dd3c7c4270a97": {
          "model_module": "@jupyter-widgets/base",
          "model_name": "LayoutModel",
          "model_module_version": "1.2.0",
          "state": {
            "_model_module": "@jupyter-widgets/base",
            "_model_module_version": "1.2.0",
            "_model_name": "LayoutModel",
            "_view_count": null,
            "_view_module": "@jupyter-widgets/base",
            "_view_module_version": "1.2.0",
            "_view_name": "LayoutView",
            "align_content": null,
            "align_items": null,
            "align_self": null,
            "border": null,
            "bottom": null,
            "display": null,
            "flex": null,
            "flex_flow": null,
            "grid_area": null,
            "grid_auto_columns": null,
            "grid_auto_flow": null,
            "grid_auto_rows": null,
            "grid_column": null,
            "grid_gap": null,
            "grid_row": null,
            "grid_template_areas": null,
            "grid_template_columns": null,
            "grid_template_rows": null,
            "height": null,
            "justify_content": null,
            "justify_items": null,
            "left": null,
            "margin": null,
            "max_height": null,
            "max_width": null,
            "min_height": null,
            "min_width": null,
            "object_fit": null,
            "object_position": null,
            "order": null,
            "overflow": null,
            "overflow_x": null,
            "overflow_y": null,
            "padding": null,
            "right": null,
            "top": null,
            "visibility": null,
            "width": null
          }
        },
        "acfc0ec34be54805840c5624b1803a81": {
          "model_module": "@jupyter-widgets/controls",
          "model_name": "DescriptionStyleModel",
          "model_module_version": "1.5.0",
          "state": {
            "_model_module": "@jupyter-widgets/controls",
            "_model_module_version": "1.5.0",
            "_model_name": "DescriptionStyleModel",
            "_view_count": null,
            "_view_module": "@jupyter-widgets/base",
            "_view_module_version": "1.2.0",
            "_view_name": "StyleView",
            "description_width": ""
          }
        },
        "174fb72a262f4f699ae22d5c55e7c2d7": {
          "model_module": "@jupyter-widgets/controls",
          "model_name": "HBoxModel",
          "model_module_version": "1.5.0",
          "state": {
            "_dom_classes": [],
            "_model_module": "@jupyter-widgets/controls",
            "_model_module_version": "1.5.0",
            "_model_name": "HBoxModel",
            "_view_count": null,
            "_view_module": "@jupyter-widgets/controls",
            "_view_module_version": "1.5.0",
            "_view_name": "HBoxView",
            "box_style": "",
            "children": [
              "IPY_MODEL_3fd27a441cdc4aefa8d022fc013d3617",
              "IPY_MODEL_36a72f03ac4541a9940270c50d5f7ea0",
              "IPY_MODEL_379a47c7e1b741bba3fdbce9db7fa667"
            ],
            "layout": "IPY_MODEL_7209171a002e4eaf90f9bf1e6d658876"
          }
        },
        "3fd27a441cdc4aefa8d022fc013d3617": {
          "model_module": "@jupyter-widgets/controls",
          "model_name": "HTMLModel",
          "model_module_version": "1.5.0",
          "state": {
            "_dom_classes": [],
            "_model_module": "@jupyter-widgets/controls",
            "_model_module_version": "1.5.0",
            "_model_name": "HTMLModel",
            "_view_count": null,
            "_view_module": "@jupyter-widgets/controls",
            "_view_module_version": "1.5.0",
            "_view_name": "HTMLView",
            "description": "",
            "description_tooltip": null,
            "layout": "IPY_MODEL_8477081974a44b86848412186027bc3f",
            "placeholder": "​",
            "style": "IPY_MODEL_ff93ed79055545b781c6fde5f275050a",
            "value": "special_tokens_map.json: 100%"
          }
        },
        "36a72f03ac4541a9940270c50d5f7ea0": {
          "model_module": "@jupyter-widgets/controls",
          "model_name": "FloatProgressModel",
          "model_module_version": "1.5.0",
          "state": {
            "_dom_classes": [],
            "_model_module": "@jupyter-widgets/controls",
            "_model_module_version": "1.5.0",
            "_model_name": "FloatProgressModel",
            "_view_count": null,
            "_view_module": "@jupyter-widgets/controls",
            "_view_module_version": "1.5.0",
            "_view_name": "ProgressView",
            "bar_style": "success",
            "description": "",
            "description_tooltip": null,
            "layout": "IPY_MODEL_8e77805812eb44bca60208f32b22e456",
            "max": 2201,
            "min": 0,
            "orientation": "horizontal",
            "style": "IPY_MODEL_1f7d45629ece43faa9fd6db8b1a85e52",
            "value": 2201
          }
        },
        "379a47c7e1b741bba3fdbce9db7fa667": {
          "model_module": "@jupyter-widgets/controls",
          "model_name": "HTMLModel",
          "model_module_version": "1.5.0",
          "state": {
            "_dom_classes": [],
            "_model_module": "@jupyter-widgets/controls",
            "_model_module_version": "1.5.0",
            "_model_name": "HTMLModel",
            "_view_count": null,
            "_view_module": "@jupyter-widgets/controls",
            "_view_module_version": "1.5.0",
            "_view_name": "HTMLView",
            "description": "",
            "description_tooltip": null,
            "layout": "IPY_MODEL_80c0bce4e94246388d567adfd62167e8",
            "placeholder": "​",
            "style": "IPY_MODEL_6772451e97934f79aa0692da7b1589b3",
            "value": " 2.20k/2.20k [00:00&lt;00:00, 39.8kB/s]"
          }
        },
        "7209171a002e4eaf90f9bf1e6d658876": {
          "model_module": "@jupyter-widgets/base",
          "model_name": "LayoutModel",
          "model_module_version": "1.2.0",
          "state": {
            "_model_module": "@jupyter-widgets/base",
            "_model_module_version": "1.2.0",
            "_model_name": "LayoutModel",
            "_view_count": null,
            "_view_module": "@jupyter-widgets/base",
            "_view_module_version": "1.2.0",
            "_view_name": "LayoutView",
            "align_content": null,
            "align_items": null,
            "align_self": null,
            "border": null,
            "bottom": null,
            "display": null,
            "flex": null,
            "flex_flow": null,
            "grid_area": null,
            "grid_auto_columns": null,
            "grid_auto_flow": null,
            "grid_auto_rows": null,
            "grid_column": null,
            "grid_gap": null,
            "grid_row": null,
            "grid_template_areas": null,
            "grid_template_columns": null,
            "grid_template_rows": null,
            "height": null,
            "justify_content": null,
            "justify_items": null,
            "left": null,
            "margin": null,
            "max_height": null,
            "max_width": null,
            "min_height": null,
            "min_width": null,
            "object_fit": null,
            "object_position": null,
            "order": null,
            "overflow": null,
            "overflow_x": null,
            "overflow_y": null,
            "padding": null,
            "right": null,
            "top": null,
            "visibility": null,
            "width": null
          }
        },
        "8477081974a44b86848412186027bc3f": {
          "model_module": "@jupyter-widgets/base",
          "model_name": "LayoutModel",
          "model_module_version": "1.2.0",
          "state": {
            "_model_module": "@jupyter-widgets/base",
            "_model_module_version": "1.2.0",
            "_model_name": "LayoutModel",
            "_view_count": null,
            "_view_module": "@jupyter-widgets/base",
            "_view_module_version": "1.2.0",
            "_view_name": "LayoutView",
            "align_content": null,
            "align_items": null,
            "align_self": null,
            "border": null,
            "bottom": null,
            "display": null,
            "flex": null,
            "flex_flow": null,
            "grid_area": null,
            "grid_auto_columns": null,
            "grid_auto_flow": null,
            "grid_auto_rows": null,
            "grid_column": null,
            "grid_gap": null,
            "grid_row": null,
            "grid_template_areas": null,
            "grid_template_columns": null,
            "grid_template_rows": null,
            "height": null,
            "justify_content": null,
            "justify_items": null,
            "left": null,
            "margin": null,
            "max_height": null,
            "max_width": null,
            "min_height": null,
            "min_width": null,
            "object_fit": null,
            "object_position": null,
            "order": null,
            "overflow": null,
            "overflow_x": null,
            "overflow_y": null,
            "padding": null,
            "right": null,
            "top": null,
            "visibility": null,
            "width": null
          }
        },
        "ff93ed79055545b781c6fde5f275050a": {
          "model_module": "@jupyter-widgets/controls",
          "model_name": "DescriptionStyleModel",
          "model_module_version": "1.5.0",
          "state": {
            "_model_module": "@jupyter-widgets/controls",
            "_model_module_version": "1.5.0",
            "_model_name": "DescriptionStyleModel",
            "_view_count": null,
            "_view_module": "@jupyter-widgets/base",
            "_view_module_version": "1.2.0",
            "_view_name": "StyleView",
            "description_width": ""
          }
        },
        "8e77805812eb44bca60208f32b22e456": {
          "model_module": "@jupyter-widgets/base",
          "model_name": "LayoutModel",
          "model_module_version": "1.2.0",
          "state": {
            "_model_module": "@jupyter-widgets/base",
            "_model_module_version": "1.2.0",
            "_model_name": "LayoutModel",
            "_view_count": null,
            "_view_module": "@jupyter-widgets/base",
            "_view_module_version": "1.2.0",
            "_view_name": "LayoutView",
            "align_content": null,
            "align_items": null,
            "align_self": null,
            "border": null,
            "bottom": null,
            "display": null,
            "flex": null,
            "flex_flow": null,
            "grid_area": null,
            "grid_auto_columns": null,
            "grid_auto_flow": null,
            "grid_auto_rows": null,
            "grid_column": null,
            "grid_gap": null,
            "grid_row": null,
            "grid_template_areas": null,
            "grid_template_columns": null,
            "grid_template_rows": null,
            "height": null,
            "justify_content": null,
            "justify_items": null,
            "left": null,
            "margin": null,
            "max_height": null,
            "max_width": null,
            "min_height": null,
            "min_width": null,
            "object_fit": null,
            "object_position": null,
            "order": null,
            "overflow": null,
            "overflow_x": null,
            "overflow_y": null,
            "padding": null,
            "right": null,
            "top": null,
            "visibility": null,
            "width": null
          }
        },
        "1f7d45629ece43faa9fd6db8b1a85e52": {
          "model_module": "@jupyter-widgets/controls",
          "model_name": "ProgressStyleModel",
          "model_module_version": "1.5.0",
          "state": {
            "_model_module": "@jupyter-widgets/controls",
            "_model_module_version": "1.5.0",
            "_model_name": "ProgressStyleModel",
            "_view_count": null,
            "_view_module": "@jupyter-widgets/base",
            "_view_module_version": "1.2.0",
            "_view_name": "StyleView",
            "bar_color": null,
            "description_width": ""
          }
        },
        "80c0bce4e94246388d567adfd62167e8": {
          "model_module": "@jupyter-widgets/base",
          "model_name": "LayoutModel",
          "model_module_version": "1.2.0",
          "state": {
            "_model_module": "@jupyter-widgets/base",
            "_model_module_version": "1.2.0",
            "_model_name": "LayoutModel",
            "_view_count": null,
            "_view_module": "@jupyter-widgets/base",
            "_view_module_version": "1.2.0",
            "_view_name": "LayoutView",
            "align_content": null,
            "align_items": null,
            "align_self": null,
            "border": null,
            "bottom": null,
            "display": null,
            "flex": null,
            "flex_flow": null,
            "grid_area": null,
            "grid_auto_columns": null,
            "grid_auto_flow": null,
            "grid_auto_rows": null,
            "grid_column": null,
            "grid_gap": null,
            "grid_row": null,
            "grid_template_areas": null,
            "grid_template_columns": null,
            "grid_template_rows": null,
            "height": null,
            "justify_content": null,
            "justify_items": null,
            "left": null,
            "margin": null,
            "max_height": null,
            "max_width": null,
            "min_height": null,
            "min_width": null,
            "object_fit": null,
            "object_position": null,
            "order": null,
            "overflow": null,
            "overflow_x": null,
            "overflow_y": null,
            "padding": null,
            "right": null,
            "top": null,
            "visibility": null,
            "width": null
          }
        },
        "6772451e97934f79aa0692da7b1589b3": {
          "model_module": "@jupyter-widgets/controls",
          "model_name": "DescriptionStyleModel",
          "model_module_version": "1.5.0",
          "state": {
            "_model_module": "@jupyter-widgets/controls",
            "_model_module_version": "1.5.0",
            "_model_name": "DescriptionStyleModel",
            "_view_count": null,
            "_view_module": "@jupyter-widgets/base",
            "_view_module_version": "1.2.0",
            "_view_name": "StyleView",
            "description_width": ""
          }
        },
        "7a468bae000c4f33bcd0ef159e56abbb": {
          "model_module": "@jupyter-widgets/controls",
          "model_name": "HBoxModel",
          "model_module_version": "1.5.0",
          "state": {
            "_dom_classes": [],
            "_model_module": "@jupyter-widgets/controls",
            "_model_module_version": "1.5.0",
            "_model_name": "HBoxModel",
            "_view_count": null,
            "_view_module": "@jupyter-widgets/controls",
            "_view_module_version": "1.5.0",
            "_view_name": "HBoxView",
            "box_style": "",
            "children": [
              "IPY_MODEL_bb979734ea16492cb0a52bde29e11604",
              "IPY_MODEL_72385d6a178f41a49d313df5df24c9fc",
              "IPY_MODEL_4c9fb80e84284f03b144e7f7909e0273"
            ],
            "layout": "IPY_MODEL_04cda0431b094105a12dd82c139fab41"
          }
        },
        "bb979734ea16492cb0a52bde29e11604": {
          "model_module": "@jupyter-widgets/controls",
          "model_name": "HTMLModel",
          "model_module_version": "1.5.0",
          "state": {
            "_dom_classes": [],
            "_model_module": "@jupyter-widgets/controls",
            "_model_module_version": "1.5.0",
            "_model_name": "HTMLModel",
            "_view_count": null,
            "_view_module": "@jupyter-widgets/controls",
            "_view_module_version": "1.5.0",
            "_view_name": "HTMLView",
            "description": "",
            "description_tooltip": null,
            "layout": "IPY_MODEL_2e2e740c2f1c400abd70eb3dcb588f6f",
            "placeholder": "​",
            "style": "IPY_MODEL_8920ed5e8ce149a5b8ea64349970edb6",
            "value": "tokenizer.json: 100%"
          }
        },
        "72385d6a178f41a49d313df5df24c9fc": {
          "model_module": "@jupyter-widgets/controls",
          "model_name": "FloatProgressModel",
          "model_module_version": "1.5.0",
          "state": {
            "_dom_classes": [],
            "_model_module": "@jupyter-widgets/controls",
            "_model_module_version": "1.5.0",
            "_model_name": "FloatProgressModel",
            "_view_count": null,
            "_view_module": "@jupyter-widgets/controls",
            "_view_module_version": "1.5.0",
            "_view_name": "ProgressView",
            "bar_style": "success",
            "description": "",
            "description_tooltip": null,
            "layout": "IPY_MODEL_de8e9fd7be9a4c10b362cb789c7d4f2b",
            "max": 2424064,
            "min": 0,
            "orientation": "horizontal",
            "style": "IPY_MODEL_46140f285cfb4b91b61a9e07cde70ef2",
            "value": 2424064
          }
        },
        "4c9fb80e84284f03b144e7f7909e0273": {
          "model_module": "@jupyter-widgets/controls",
          "model_name": "HTMLModel",
          "model_module_version": "1.5.0",
          "state": {
            "_dom_classes": [],
            "_model_module": "@jupyter-widgets/controls",
            "_model_module_version": "1.5.0",
            "_model_name": "HTMLModel",
            "_view_count": null,
            "_view_module": "@jupyter-widgets/controls",
            "_view_module_version": "1.5.0",
            "_view_name": "HTMLView",
            "description": "",
            "description_tooltip": null,
            "layout": "IPY_MODEL_98f1f35f910742c4b16ca10b353b0a39",
            "placeholder": "​",
            "style": "IPY_MODEL_60bd4e8feba7461f9384e647c64f09d6",
            "value": " 2.42M/2.42M [00:00&lt;00:00, 6.25MB/s]"
          }
        },
        "04cda0431b094105a12dd82c139fab41": {
          "model_module": "@jupyter-widgets/base",
          "model_name": "LayoutModel",
          "model_module_version": "1.2.0",
          "state": {
            "_model_module": "@jupyter-widgets/base",
            "_model_module_version": "1.2.0",
            "_model_name": "LayoutModel",
            "_view_count": null,
            "_view_module": "@jupyter-widgets/base",
            "_view_module_version": "1.2.0",
            "_view_name": "LayoutView",
            "align_content": null,
            "align_items": null,
            "align_self": null,
            "border": null,
            "bottom": null,
            "display": null,
            "flex": null,
            "flex_flow": null,
            "grid_area": null,
            "grid_auto_columns": null,
            "grid_auto_flow": null,
            "grid_auto_rows": null,
            "grid_column": null,
            "grid_gap": null,
            "grid_row": null,
            "grid_template_areas": null,
            "grid_template_columns": null,
            "grid_template_rows": null,
            "height": null,
            "justify_content": null,
            "justify_items": null,
            "left": null,
            "margin": null,
            "max_height": null,
            "max_width": null,
            "min_height": null,
            "min_width": null,
            "object_fit": null,
            "object_position": null,
            "order": null,
            "overflow": null,
            "overflow_x": null,
            "overflow_y": null,
            "padding": null,
            "right": null,
            "top": null,
            "visibility": null,
            "width": null
          }
        },
        "2e2e740c2f1c400abd70eb3dcb588f6f": {
          "model_module": "@jupyter-widgets/base",
          "model_name": "LayoutModel",
          "model_module_version": "1.2.0",
          "state": {
            "_model_module": "@jupyter-widgets/base",
            "_model_module_version": "1.2.0",
            "_model_name": "LayoutModel",
            "_view_count": null,
            "_view_module": "@jupyter-widgets/base",
            "_view_module_version": "1.2.0",
            "_view_name": "LayoutView",
            "align_content": null,
            "align_items": null,
            "align_self": null,
            "border": null,
            "bottom": null,
            "display": null,
            "flex": null,
            "flex_flow": null,
            "grid_area": null,
            "grid_auto_columns": null,
            "grid_auto_flow": null,
            "grid_auto_rows": null,
            "grid_column": null,
            "grid_gap": null,
            "grid_row": null,
            "grid_template_areas": null,
            "grid_template_columns": null,
            "grid_template_rows": null,
            "height": null,
            "justify_content": null,
            "justify_items": null,
            "left": null,
            "margin": null,
            "max_height": null,
            "max_width": null,
            "min_height": null,
            "min_width": null,
            "object_fit": null,
            "object_position": null,
            "order": null,
            "overflow": null,
            "overflow_x": null,
            "overflow_y": null,
            "padding": null,
            "right": null,
            "top": null,
            "visibility": null,
            "width": null
          }
        },
        "8920ed5e8ce149a5b8ea64349970edb6": {
          "model_module": "@jupyter-widgets/controls",
          "model_name": "DescriptionStyleModel",
          "model_module_version": "1.5.0",
          "state": {
            "_model_module": "@jupyter-widgets/controls",
            "_model_module_version": "1.5.0",
            "_model_name": "DescriptionStyleModel",
            "_view_count": null,
            "_view_module": "@jupyter-widgets/base",
            "_view_module_version": "1.2.0",
            "_view_name": "StyleView",
            "description_width": ""
          }
        },
        "de8e9fd7be9a4c10b362cb789c7d4f2b": {
          "model_module": "@jupyter-widgets/base",
          "model_name": "LayoutModel",
          "model_module_version": "1.2.0",
          "state": {
            "_model_module": "@jupyter-widgets/base",
            "_model_module_version": "1.2.0",
            "_model_name": "LayoutModel",
            "_view_count": null,
            "_view_module": "@jupyter-widgets/base",
            "_view_module_version": "1.2.0",
            "_view_name": "LayoutView",
            "align_content": null,
            "align_items": null,
            "align_self": null,
            "border": null,
            "bottom": null,
            "display": null,
            "flex": null,
            "flex_flow": null,
            "grid_area": null,
            "grid_auto_columns": null,
            "grid_auto_flow": null,
            "grid_auto_rows": null,
            "grid_column": null,
            "grid_gap": null,
            "grid_row": null,
            "grid_template_areas": null,
            "grid_template_columns": null,
            "grid_template_rows": null,
            "height": null,
            "justify_content": null,
            "justify_items": null,
            "left": null,
            "margin": null,
            "max_height": null,
            "max_width": null,
            "min_height": null,
            "min_width": null,
            "object_fit": null,
            "object_position": null,
            "order": null,
            "overflow": null,
            "overflow_x": null,
            "overflow_y": null,
            "padding": null,
            "right": null,
            "top": null,
            "visibility": null,
            "width": null
          }
        },
        "46140f285cfb4b91b61a9e07cde70ef2": {
          "model_module": "@jupyter-widgets/controls",
          "model_name": "ProgressStyleModel",
          "model_module_version": "1.5.0",
          "state": {
            "_model_module": "@jupyter-widgets/controls",
            "_model_module_version": "1.5.0",
            "_model_name": "ProgressStyleModel",
            "_view_count": null,
            "_view_module": "@jupyter-widgets/base",
            "_view_module_version": "1.2.0",
            "_view_name": "StyleView",
            "bar_color": null,
            "description_width": ""
          }
        },
        "98f1f35f910742c4b16ca10b353b0a39": {
          "model_module": "@jupyter-widgets/base",
          "model_name": "LayoutModel",
          "model_module_version": "1.2.0",
          "state": {
            "_model_module": "@jupyter-widgets/base",
            "_model_module_version": "1.2.0",
            "_model_name": "LayoutModel",
            "_view_count": null,
            "_view_module": "@jupyter-widgets/base",
            "_view_module_version": "1.2.0",
            "_view_name": "LayoutView",
            "align_content": null,
            "align_items": null,
            "align_self": null,
            "border": null,
            "bottom": null,
            "display": null,
            "flex": null,
            "flex_flow": null,
            "grid_area": null,
            "grid_auto_columns": null,
            "grid_auto_flow": null,
            "grid_auto_rows": null,
            "grid_column": null,
            "grid_gap": null,
            "grid_row": null,
            "grid_template_areas": null,
            "grid_template_columns": null,
            "grid_template_rows": null,
            "height": null,
            "justify_content": null,
            "justify_items": null,
            "left": null,
            "margin": null,
            "max_height": null,
            "max_width": null,
            "min_height": null,
            "min_width": null,
            "object_fit": null,
            "object_position": null,
            "order": null,
            "overflow": null,
            "overflow_x": null,
            "overflow_y": null,
            "padding": null,
            "right": null,
            "top": null,
            "visibility": null,
            "width": null
          }
        },
        "60bd4e8feba7461f9384e647c64f09d6": {
          "model_module": "@jupyter-widgets/controls",
          "model_name": "DescriptionStyleModel",
          "model_module_version": "1.5.0",
          "state": {
            "_model_module": "@jupyter-widgets/controls",
            "_model_module_version": "1.5.0",
            "_model_name": "DescriptionStyleModel",
            "_view_count": null,
            "_view_module": "@jupyter-widgets/base",
            "_view_module_version": "1.2.0",
            "_view_name": "StyleView",
            "description_width": ""
          }
        }
      }
    }
  },
  "nbformat": 4,
  "nbformat_minor": 0
}